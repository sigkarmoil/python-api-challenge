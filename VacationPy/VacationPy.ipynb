{
 "cells": [
  {
   "cell_type": "code",
   "execution_count": 1,
   "metadata": {},
   "outputs": [],
   "source": [
    "import pandas as pd\n",
    "import numpy as np\n",
    "import requests\n",
    "import json\n",
    "import matplotlib.pyplot as plt\n",
    "import gmaps\n",
    "import gmaps.datasets\n",
    "from config import api_google\n",
    "from config import api_owm\n",
    "from pprint import pprint"
   ]
  },
  {
   "cell_type": "code",
   "execution_count": 2,
   "metadata": {},
   "outputs": [],
   "source": [
    "df_path = f\"../WeatherPy/output/city_desc2.csv\"\n",
    "df = pd.read_csv(df_path).drop(columns = \"Unnamed: 0\")[0:100]"
   ]
  },
  {
   "cell_type": "code",
   "execution_count": 3,
   "metadata": {},
   "outputs": [
    {
     "data": {
      "text/html": [
       "<div>\n",
       "<style scoped>\n",
       "    .dataframe tbody tr th:only-of-type {\n",
       "        vertical-align: middle;\n",
       "    }\n",
       "\n",
       "    .dataframe tbody tr th {\n",
       "        vertical-align: top;\n",
       "    }\n",
       "\n",
       "    .dataframe thead th {\n",
       "        text-align: right;\n",
       "    }\n",
       "</style>\n",
       "<table border=\"1\" class=\"dataframe\">\n",
       "  <thead>\n",
       "    <tr style=\"text-align: right;\">\n",
       "      <th></th>\n",
       "      <th>City Name</th>\n",
       "      <th>Temperature (F)</th>\n",
       "      <th>Humidity %</th>\n",
       "      <th>CLoudiness %</th>\n",
       "      <th>Wind Speed (mph)</th>\n",
       "    </tr>\n",
       "  </thead>\n",
       "  <tbody>\n",
       "    <tr>\n",
       "      <td>0</td>\n",
       "      <td>bathsheba</td>\n",
       "      <td>79.23</td>\n",
       "      <td>82</td>\n",
       "      <td>16</td>\n",
       "      <td>20.49</td>\n",
       "    </tr>\n",
       "    <tr>\n",
       "      <td>1</td>\n",
       "      <td>melendugno</td>\n",
       "      <td>68.00</td>\n",
       "      <td>64</td>\n",
       "      <td>9</td>\n",
       "      <td>4.70</td>\n",
       "    </tr>\n",
       "    <tr>\n",
       "      <td>2</td>\n",
       "      <td>mecca</td>\n",
       "      <td>80.06</td>\n",
       "      <td>16</td>\n",
       "      <td>3</td>\n",
       "      <td>9.40</td>\n",
       "    </tr>\n",
       "    <tr>\n",
       "      <td>3</td>\n",
       "      <td>horadiz</td>\n",
       "      <td>69.80</td>\n",
       "      <td>52</td>\n",
       "      <td>0</td>\n",
       "      <td>6.93</td>\n",
       "    </tr>\n",
       "    <tr>\n",
       "      <td>4</td>\n",
       "      <td>inirida</td>\n",
       "      <td>74.57</td>\n",
       "      <td>96</td>\n",
       "      <td>95</td>\n",
       "      <td>1.16</td>\n",
       "    </tr>\n",
       "  </tbody>\n",
       "</table>\n",
       "</div>"
      ],
      "text/plain": [
       "    City Name  Temperature (F)  Humidity %  CLoudiness %  Wind Speed (mph)\n",
       "0   bathsheba            79.23          82            16             20.49\n",
       "1  melendugno            68.00          64             9              4.70\n",
       "2       mecca            80.06          16             3              9.40\n",
       "3     horadiz            69.80          52             0              6.93\n",
       "4     inirida            74.57          96            95              1.16"
      ]
     },
     "execution_count": 3,
     "metadata": {},
     "output_type": "execute_result"
    }
   ],
   "source": [
    "df.head()"
   ]
  },
  {
   "cell_type": "code",
   "execution_count": 4,
   "metadata": {},
   "outputs": [],
   "source": [
    "humid = df[\"Humidity %\"]\n",
    "\n",
    "city = df[\"City Name\"]\n",
    "\n",
    "base_geo = \"https://maps.googleapis.com/maps/api/geocode/json?address=\"\n",
    "base_place = \"https://maps.googleapis.com/maps/api/place/nearbysearch/\""
   ]
  },
  {
   "cell_type": "code",
   "execution_count": 5,
   "metadata": {},
   "outputs": [],
   "source": [
    "lat_lon=[]"
   ]
  },
  {
   "cell_type": "code",
   "execution_count": 6,
   "metadata": {},
   "outputs": [],
   "source": [
    "for name in city:\n",
    "    a=requests.get(base_geo+name + \"&key=\"+api_google).json()\n",
    "    \n",
    "    lat_lon.append(a[\"results\"])"
   ]
  },
  {
   "cell_type": "code",
   "execution_count": 7,
   "metadata": {},
   "outputs": [
    {
     "name": "stdout",
     "output_type": "stream",
     "text": [
      "[{'long_name': 'Impruneta',\n",
      "  'short_name': 'Impruneta',\n",
      "  'types': ['locality', 'political']},\n",
      " {'long_name': 'Impruneta',\n",
      "  'short_name': 'Impruneta',\n",
      "  'types': ['administrative_area_level_3', 'political']},\n",
      " {'long_name': 'Metropolitan City of Florence',\n",
      "  'short_name': 'FI',\n",
      "  'types': ['administrative_area_level_2', 'political']},\n",
      " {'long_name': 'Tuscany',\n",
      "  'short_name': 'Tuscany',\n",
      "  'types': ['administrative_area_level_1', 'political']},\n",
      " {'long_name': 'Italy', 'short_name': 'IT', 'types': ['country', 'political']},\n",
      " {'long_name': '50023', 'short_name': '50023', 'types': ['postal_code']}]\n"
     ]
    }
   ],
   "source": [
    "pprint(lat_lon[10][0][\"address_components\"])"
   ]
  },
  {
   "cell_type": "code",
   "execution_count": 8,
   "metadata": {},
   "outputs": [],
   "source": [
    "lat=[]\n",
    "lon=[]\n",
    "country=[]\n",
    "j=0"
   ]
  },
  {
   "cell_type": "code",
   "execution_count": 9,
   "metadata": {},
   "outputs": [],
   "source": [
    "for i in range(0, len(lat_lon)):\n",
    "    lat.append (lat_lon[i][0][\"geometry\"][\"location\"][\"lat\"])\n",
    "    lon.append (lat_lon[i][0][\"geometry\"][\"location\"][\"lng\"])\n"
   ]
  },
  {
   "cell_type": "code",
   "execution_count": 10,
   "metadata": {},
   "outputs": [
    {
     "data": {
      "text/plain": [
       "[]"
      ]
     },
     "execution_count": 10,
     "metadata": {},
     "output_type": "execute_result"
    }
   ],
   "source": [
    "country"
   ]
  },
  {
   "cell_type": "code",
   "execution_count": 11,
   "metadata": {},
   "outputs": [],
   "source": [
    "df[\"lat\"]=lat\n",
    "df[\"lon\"]=lon"
   ]
  },
  {
   "cell_type": "code",
   "execution_count": 12,
   "metadata": {},
   "outputs": [],
   "source": [
    "#configure gmaps\n",
    "gmaps.configure(api_key=api_google)"
   ]
  },
  {
   "cell_type": "code",
   "execution_count": 13,
   "metadata": {},
   "outputs": [
    {
     "data": {
      "application/vnd.jupyter.widget-view+json": {
       "model_id": "5bdb121fb87b439c80c8d4b55f84a698",
       "version_major": 2,
       "version_minor": 0
      },
      "text/plain": [
       "Figure(layout=FigureLayout(height='420px'))"
      ]
     },
     "metadata": {},
     "output_type": "display_data"
    }
   ],
   "source": [
    "locations = df[['lat','lon']]\n",
    "weights = df['Humidity %']\n",
    "\n",
    "fig = gmaps.figure()\n",
    "fig.add_layer(gmaps.heatmap_layer(locations, weights = weights) )\n",
    "fig"
   ]
  },
  {
   "cell_type": "code",
   "execution_count": null,
   "metadata": {},
   "outputs": [],
   "source": []
  },
  {
   "cell_type": "code",
   "execution_count": 14,
   "metadata": {},
   "outputs": [],
   "source": [
    "#now, let's find ideal vacation spot!\n",
    "df2 = df[(df[\"Temperature (F)\"]>= 70) & (df[\"Temperature (F)\"]<= 80) & (df[\"Wind Speed (mph)\"]< 10) & (df[\"CLoudiness %\"]< 5) ].reset_index(drop=True)"
   ]
  },
  {
   "cell_type": "code",
   "execution_count": 15,
   "metadata": {},
   "outputs": [
    {
     "data": {
      "text/html": [
       "<div>\n",
       "<style scoped>\n",
       "    .dataframe tbody tr th:only-of-type {\n",
       "        vertical-align: middle;\n",
       "    }\n",
       "\n",
       "    .dataframe tbody tr th {\n",
       "        vertical-align: top;\n",
       "    }\n",
       "\n",
       "    .dataframe thead th {\n",
       "        text-align: right;\n",
       "    }\n",
       "</style>\n",
       "<table border=\"1\" class=\"dataframe\">\n",
       "  <thead>\n",
       "    <tr style=\"text-align: right;\">\n",
       "      <th></th>\n",
       "      <th>City Name</th>\n",
       "      <th>Temperature (F)</th>\n",
       "      <th>Humidity %</th>\n",
       "      <th>CLoudiness %</th>\n",
       "      <th>Wind Speed (mph)</th>\n",
       "      <th>lat</th>\n",
       "      <th>lon</th>\n",
       "    </tr>\n",
       "  </thead>\n",
       "  <tbody>\n",
       "    <tr>\n",
       "      <td>0</td>\n",
       "      <td>inderborskiy</td>\n",
       "      <td>74.23</td>\n",
       "      <td>32</td>\n",
       "      <td>0</td>\n",
       "      <td>9.98</td>\n",
       "      <td>48.548962</td>\n",
       "      <td>51.740292</td>\n",
       "    </tr>\n",
       "    <tr>\n",
       "      <td>1</td>\n",
       "      <td>tabuk</td>\n",
       "      <td>73.11</td>\n",
       "      <td>28</td>\n",
       "      <td>0</td>\n",
       "      <td>8.19</td>\n",
       "      <td>28.383508</td>\n",
       "      <td>36.566191</td>\n",
       "    </tr>\n",
       "    <tr>\n",
       "      <td>2</td>\n",
       "      <td>brindisi</td>\n",
       "      <td>72.21</td>\n",
       "      <td>75</td>\n",
       "      <td>0</td>\n",
       "      <td>7.14</td>\n",
       "      <td>40.632728</td>\n",
       "      <td>17.941762</td>\n",
       "    </tr>\n",
       "    <tr>\n",
       "      <td>3</td>\n",
       "      <td>inderborskiy</td>\n",
       "      <td>74.23</td>\n",
       "      <td>32</td>\n",
       "      <td>0</td>\n",
       "      <td>9.98</td>\n",
       "      <td>48.548962</td>\n",
       "      <td>51.740292</td>\n",
       "    </tr>\n",
       "    <tr>\n",
       "      <td>4</td>\n",
       "      <td>tabuk</td>\n",
       "      <td>73.11</td>\n",
       "      <td>28</td>\n",
       "      <td>0</td>\n",
       "      <td>8.19</td>\n",
       "      <td>28.383508</td>\n",
       "      <td>36.566191</td>\n",
       "    </tr>\n",
       "    <tr>\n",
       "      <td>5</td>\n",
       "      <td>brindisi</td>\n",
       "      <td>72.21</td>\n",
       "      <td>75</td>\n",
       "      <td>0</td>\n",
       "      <td>7.14</td>\n",
       "      <td>40.632728</td>\n",
       "      <td>17.941762</td>\n",
       "    </tr>\n",
       "  </tbody>\n",
       "</table>\n",
       "</div>"
      ],
      "text/plain": [
       "      City Name  Temperature (F)  Humidity %  CLoudiness %  Wind Speed (mph)  \\\n",
       "0  inderborskiy            74.23          32             0              9.98   \n",
       "1         tabuk            73.11          28             0              8.19   \n",
       "2      brindisi            72.21          75             0              7.14   \n",
       "3  inderborskiy            74.23          32             0              9.98   \n",
       "4         tabuk            73.11          28             0              8.19   \n",
       "5      brindisi            72.21          75             0              7.14   \n",
       "\n",
       "         lat        lon  \n",
       "0  48.548962  51.740292  \n",
       "1  28.383508  36.566191  \n",
       "2  40.632728  17.941762  \n",
       "3  48.548962  51.740292  \n",
       "4  28.383508  36.566191  \n",
       "5  40.632728  17.941762  "
      ]
     },
     "execution_count": 15,
     "metadata": {},
     "output_type": "execute_result"
    }
   ],
   "source": [
    "df2"
   ]
  },
  {
   "cell_type": "code",
   "execution_count": 16,
   "metadata": {},
   "outputs": [],
   "source": [
    "hotel=[]\n",
    "hotel_name=[]\n",
    "hotel_lat=[]\n",
    "hotel_lon=[]\n",
    "hotel_country=[]\n",
    "hotel_desc=[]\n",
    "\n"
   ]
  },
  {
   "cell_type": "code",
   "execution_count": 17,
   "metadata": {},
   "outputs": [],
   "source": [
    "cor=[]\n",
    "\n",
    "for i in range(0,len(df2)):\n",
    "    a=str(df2.iloc[i][\"lat\"])+\",\"+str(df2.iloc[i][\"lon\"])\n",
    "    cor.append(a)\n",
    "\n",
    "df2[\"coord\"]=cor\n"
   ]
  },
  {
   "cell_type": "code",
   "execution_count": 18,
   "metadata": {},
   "outputs": [],
   "source": [
    "# This will return the country name instead of country code, which I think is better!\n",
    "\n",
    "url=\"https://maps.googleapis.com/maps/api/place/nearbysearch/json\"\n",
    "\n",
    "for i in range(0,len(df2)):\n",
    "    params={\"key\":api_google,\n",
    "            \"location\":df2.loc[i][\"coord\"],\n",
    "            \"radius\":5000,\n",
    "           \"keyword\":\"hotel\"}\n",
    "    a = requests.get(url, params=params).json()\n",
    "    hotel_name.append(a[\"results\"][0][\"name\"])\n",
    "    b = a[\"results\"][0][\"geometry\"][\"location\"][\"lat\"]\n",
    "    c = a[\"results\"][0][\"geometry\"][\"location\"][\"lng\"]\n",
    "    d = a[\"results\"][0][\"plus_code\"][\"compound_code\"].split()[-1]\n",
    "    hotel_lat.append(b)\n",
    "    hotel_lon.append(c)\n",
    "    hotel_country.append(d)"
   ]
  },
  {
   "cell_type": "code",
   "execution_count": 19,
   "metadata": {},
   "outputs": [],
   "source": [
    "#df2[\"Hotel Location\"]=hotel_loc"
   ]
  },
  {
   "cell_type": "code",
   "execution_count": 20,
   "metadata": {},
   "outputs": [
    {
     "data": {
      "text/plain": [
       "6"
      ]
     },
     "execution_count": 20,
     "metadata": {},
     "output_type": "execute_result"
    }
   ],
   "source": [
    "len(hotel_name)"
   ]
  },
  {
   "cell_type": "code",
   "execution_count": 21,
   "metadata": {},
   "outputs": [],
   "source": [
    "df2[\"Hotel Name\"]=hotel_name\n",
    "\n"
   ]
  },
  {
   "cell_type": "code",
   "execution_count": 22,
   "metadata": {
    "scrolled": true
   },
   "outputs": [],
   "source": [
    "#get hotel data\n",
    "\n",
    "#    params={\"key\":api_google,\n",
    "#            \"location\":df2.loc[0][\"coord\"],\n",
    "#            \"radius\":5000,\n",
    "#           \"keyword\":\"hotel\"}\n",
    "#    a = requests.get(url, params=params).json()\n"
   ]
  },
  {
   "cell_type": "code",
   "execution_count": null,
   "metadata": {},
   "outputs": [],
   "source": []
  },
  {
   "cell_type": "code",
   "execution_count": 23,
   "metadata": {},
   "outputs": [],
   "source": [
    "#preparing for content\n",
    "marker_content=[]\n",
    "\n",
    "for i in range(0, len(df2)):\n",
    "    a={\"Hotel Name\":hotel_name[i],\n",
    "       \"City\":df2[\"City Name\"][i],\n",
    "       \"Country\":hotel_country[i]}\n",
    "    marker_content.append(a)\n",
    "    \n",
    "info_box_template = \"\"\"\n",
    "<dl>\n",
    "<dt>Hotel Name</dt><dd>{Hotel Name}</dd>\n",
    "<dt>City</dt><dd>{City}</dd>\n",
    "<dt>Country</dt><dd>{Country}</dd>\n",
    "</dl>\n",
    "\"\"\"\n",
    "hotel_info = [info_box_template.format(**hotel) for hotel in marker_content]\n"
   ]
  },
  {
   "cell_type": "code",
   "execution_count": 24,
   "metadata": {},
   "outputs": [
    {
     "data": {
      "application/vnd.jupyter.widget-view+json": {
       "model_id": "3edf2a42fe8d4acb927e3922b2112bb9",
       "version_major": 2,
       "version_minor": 0
      },
      "text/plain": [
       "Figure(layout=FigureLayout(height='420px'))"
      ]
     },
     "metadata": {},
     "output_type": "display_data"
    }
   ],
   "source": [
    "locations = df[['lat','lon']]\n",
    "weights = df['Humidity %']\n",
    "marker_locations=df2[['lat','lon']]\n",
    "\n",
    "\n",
    "fig = gmaps.figure()\n",
    "markers=gmaps.marker_layer(marker_locations, info_box_content = hotel_info)\n",
    "fig.add_layer(gmaps.heatmap_layer(locations, weights = weights) )\n",
    "fig.add_layer(markers)\n",
    "fig"
   ]
  },
  {
   "cell_type": "code",
   "execution_count": null,
   "metadata": {},
   "outputs": [],
   "source": []
  },
  {
   "cell_type": "code",
   "execution_count": null,
   "metadata": {},
   "outputs": [],
   "source": []
  },
  {
   "cell_type": "code",
   "execution_count": null,
   "metadata": {},
   "outputs": [],
   "source": []
  }
 ],
 "metadata": {
  "kernelspec": {
   "display_name": "Python 3",
   "language": "python",
   "name": "python3"
  },
  "language_info": {
   "codemirror_mode": {
    "name": "ipython",
    "version": 3
   },
   "file_extension": ".py",
   "mimetype": "text/x-python",
   "name": "python",
   "nbconvert_exporter": "python",
   "pygments_lexer": "ipython3",
   "version": "3.7.4"
  }
 },
 "nbformat": 4,
 "nbformat_minor": 2
}
