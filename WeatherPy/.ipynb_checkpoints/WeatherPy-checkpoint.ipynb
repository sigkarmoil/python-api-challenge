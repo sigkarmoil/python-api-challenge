{
 "cells": [
  {
   "cell_type": "code",
   "execution_count": 172,
   "metadata": {},
   "outputs": [],
   "source": [
    "import requests\n",
    "import json\n",
    "from citipy import citipy\n",
    "import random\n",
    "import matplotlib.pyplot as plt\n",
    "import pandas as pd\n",
    "import numpy as np\n",
    "\n",
    "#for citipy documentations, see https://github.com/wingchen/citipy"
   ]
  },
  {
   "cell_type": "code",
   "execution_count": 226,
   "metadata": {},
   "outputs": [
    {
     "data": {
      "text/plain": [
       "3"
      ]
     },
     "execution_count": 226,
     "metadata": {},
     "output_type": "execute_result"
    }
   ],
   "source": [
    "#set how many pulls will be done. This is to make sure we are not overlimit\n",
    "\n",
    "pull_number = 6\n",
    "half_number = int(pull_number/2)\n",
    "\n",
    "half_number"
   ]
  },
  {
   "cell_type": "code",
   "execution_count": 230,
   "metadata": {},
   "outputs": [],
   "source": [
    "# Down the line, we are required to split between souther and northen hemisphere for regression\n",
    "# let's make it so first 50% of pull is for north, the rest of 50% is for south\n",
    "\n",
    "#Create random latt and longitude\n",
    "north_lat = []\n",
    "south_lat = []\n",
    "\n",
    "north_lon = []\n",
    "south_lon = []\n",
    "\n",
    "lat = []\n",
    "lon = []\n",
    "\n",
    "\n",
    "        "
   ]
  },
  {
   "cell_type": "code",
   "execution_count": 231,
   "metadata": {},
   "outputs": [],
   "source": [
    "for x in range(0 , half_number):\n",
    "        a = random.uniform(0,70.0)\n",
    "        b = random.uniform(-70.0,70.0)\n",
    "        north_lat.append(a)\n",
    "        north_lon.append(b)        \n",
    "        lat.append(a)\n",
    "        lon.append(b)\n",
    "for y in range(half_number, pull_number ):\n",
    "        a = random.uniform(-70.0,-0.1)\n",
    "        b = random.uniform(-70.0,70.0)\n",
    "        south_lat.append(a)\n",
    "        south_lon.append(b)        \n",
    "        lat.append(a)\n",
    "        lon.append(b) "
   ]
  },
  {
   "cell_type": "code",
   "execution_count": 233,
   "metadata": {},
   "outputs": [
    {
     "data": {
      "text/plain": [
       "[41.79796392199831,\n",
       " 2.657726296352152,\n",
       " 65.34240439594119,\n",
       " -27.463815268611583,\n",
       " -26.347059702066254,\n",
       " -38.80207884113506]"
      ]
     },
     "execution_count": 233,
     "metadata": {},
     "output_type": "execute_result"
    }
   ],
   "source": [
    "lat"
   ]
  },
  {
   "cell_type": "code",
   "execution_count": 218,
   "metadata": {
    "scrolled": false
   },
   "outputs": [],
   "source": [
    "#Create json pull request.\n",
    "\n",
    "url = \"http://api.openweathermap.org/data/2.5/forecast?id=524901&APPID=a3080dc4dc4f2b07d48f140771b213ff\"\n",
    "\n",
    "#Singular key trial\n",
    "temperature = []\n",
    "humidity = []\n",
    "cloudiness = []\n",
    "wind_speed = []\n",
    "city_name = []\n",
    "descriptions = []\n",
    "lat_temp = []\n",
    "lon_temp = []\n"
   ]
  },
  {
   "cell_type": "code",
   "execution_count": 234,
   "metadata": {},
   "outputs": [],
   "source": [
    "#Looping the request\n",
    "y = 0\n",
    "\n",
    "#remember, set the last number in range() to limit how many request per pull. \n",
    "for y in range(0,pull_number):\n",
    "    url_lat = \"http://api.openweathermap.org/data/2.5/weather?lat=\"+ str(lat[y]) + \"&lon=\" +str(lon[y]) + \"&appid=a3080dc4dc4f2b07d48f140771b213ff\"\n",
    "    response = requests.get(url_lat)\n",
    "    weather = response.json()\n",
    "    temperature.append(weather[\"main\"][\"temp\"])\n",
    "    humidity.append(weather[\"main\"][\"humidity\"])\n",
    "    cloudiness.append(weather[\"clouds\"][\"all\"])\n",
    "    wind_speed.append(weather[\"wind\"][\"speed\"])\n",
    "    lat_temp.append(lat[y])\n",
    "    lon_temp.append(lon[y])\n",
    "    city = citipy.nearest_city(lat[y], lon[y])\n",
    "    city_name.append(city.city_name)\n",
    "    printout = (\"City name is: \" +str(city_name[y]),\n",
    "               \"Temperature is: \" +str(temperature[y]) + \" Fahrenheit\",\n",
    "                \"Humidity is: \" +str(humidity[y]) +\" %\",\n",
    "                \"Cloudiness is: \"+str(cloudiness[y]) +\" %\",\n",
    "                \"Wind Speed is: \"+str(wind_speed[y])  +\" mph\"\n",
    "               )\n",
    "    descriptions.append(printout)\n",
    "    \n",
    "    \n"
   ]
  },
  {
   "cell_type": "code",
   "execution_count": 235,
   "metadata": {},
   "outputs": [
    {
     "ename": "PermissionError",
     "evalue": "[Errno 13] Permission denied: 'output/city_desc.csv'",
     "output_type": "error",
     "traceback": [
      "\u001b[1;31m---------------------------------------------------------------------------\u001b[0m",
      "\u001b[1;31mPermissionError\u001b[0m                           Traceback (most recent call last)",
      "\u001b[1;32m<ipython-input-235-7c406d72c0ed>\u001b[0m in \u001b[0;36m<module>\u001b[1;34m\u001b[0m\n\u001b[0;32m      4\u001b[0m              \"Index\":ind}).set_index(\"Index\")\n\u001b[0;32m      5\u001b[0m \u001b[0mout_path\u001b[0m \u001b[1;33m=\u001b[0m \u001b[1;33m(\u001b[0m\u001b[1;34m\"output/city_desc.csv\"\u001b[0m\u001b[1;33m)\u001b[0m\u001b[1;33m\u001b[0m\u001b[1;33m\u001b[0m\u001b[0m\n\u001b[1;32m----> 6\u001b[1;33m \u001b[0mcity_out\u001b[0m\u001b[1;33m.\u001b[0m\u001b[0mto_csv\u001b[0m\u001b[1;33m(\u001b[0m\u001b[0mout_path\u001b[0m\u001b[1;33m)\u001b[0m\u001b[1;33m\u001b[0m\u001b[1;33m\u001b[0m\u001b[0m\n\u001b[0m",
      "\u001b[1;32m~\\Anaconda3\\lib\\site-packages\\pandas\\core\\generic.py\u001b[0m in \u001b[0;36mto_csv\u001b[1;34m(self, path_or_buf, sep, na_rep, float_format, columns, header, index, index_label, mode, encoding, compression, quoting, quotechar, line_terminator, chunksize, date_format, doublequote, escapechar, decimal)\u001b[0m\n\u001b[0;32m   3226\u001b[0m             \u001b[0mdecimal\u001b[0m\u001b[1;33m=\u001b[0m\u001b[0mdecimal\u001b[0m\u001b[1;33m,\u001b[0m\u001b[1;33m\u001b[0m\u001b[1;33m\u001b[0m\u001b[0m\n\u001b[0;32m   3227\u001b[0m         )\n\u001b[1;32m-> 3228\u001b[1;33m         \u001b[0mformatter\u001b[0m\u001b[1;33m.\u001b[0m\u001b[0msave\u001b[0m\u001b[1;33m(\u001b[0m\u001b[1;33m)\u001b[0m\u001b[1;33m\u001b[0m\u001b[1;33m\u001b[0m\u001b[0m\n\u001b[0m\u001b[0;32m   3229\u001b[0m \u001b[1;33m\u001b[0m\u001b[0m\n\u001b[0;32m   3230\u001b[0m         \u001b[1;32mif\u001b[0m \u001b[0mpath_or_buf\u001b[0m \u001b[1;32mis\u001b[0m \u001b[1;32mNone\u001b[0m\u001b[1;33m:\u001b[0m\u001b[1;33m\u001b[0m\u001b[1;33m\u001b[0m\u001b[0m\n",
      "\u001b[1;32m~\\Anaconda3\\lib\\site-packages\\pandas\\io\\formats\\csvs.py\u001b[0m in \u001b[0;36msave\u001b[1;34m(self)\u001b[0m\n\u001b[0;32m    181\u001b[0m                 \u001b[0mself\u001b[0m\u001b[1;33m.\u001b[0m\u001b[0mmode\u001b[0m\u001b[1;33m,\u001b[0m\u001b[1;33m\u001b[0m\u001b[1;33m\u001b[0m\u001b[0m\n\u001b[0;32m    182\u001b[0m                 \u001b[0mencoding\u001b[0m\u001b[1;33m=\u001b[0m\u001b[0mself\u001b[0m\u001b[1;33m.\u001b[0m\u001b[0mencoding\u001b[0m\u001b[1;33m,\u001b[0m\u001b[1;33m\u001b[0m\u001b[1;33m\u001b[0m\u001b[0m\n\u001b[1;32m--> 183\u001b[1;33m                 \u001b[0mcompression\u001b[0m\u001b[1;33m=\u001b[0m\u001b[0mself\u001b[0m\u001b[1;33m.\u001b[0m\u001b[0mcompression\u001b[0m\u001b[1;33m,\u001b[0m\u001b[1;33m\u001b[0m\u001b[1;33m\u001b[0m\u001b[0m\n\u001b[0m\u001b[0;32m    184\u001b[0m             )\n\u001b[0;32m    185\u001b[0m             \u001b[0mclose\u001b[0m \u001b[1;33m=\u001b[0m \u001b[1;32mTrue\u001b[0m\u001b[1;33m\u001b[0m\u001b[1;33m\u001b[0m\u001b[0m\n",
      "\u001b[1;32m~\\Anaconda3\\lib\\site-packages\\pandas\\io\\common.py\u001b[0m in \u001b[0;36m_get_handle\u001b[1;34m(path_or_buf, mode, encoding, compression, memory_map, is_text)\u001b[0m\n\u001b[0;32m    397\u001b[0m         \u001b[1;32mif\u001b[0m \u001b[0mencoding\u001b[0m\u001b[1;33m:\u001b[0m\u001b[1;33m\u001b[0m\u001b[1;33m\u001b[0m\u001b[0m\n\u001b[0;32m    398\u001b[0m             \u001b[1;31m# Encoding\u001b[0m\u001b[1;33m\u001b[0m\u001b[1;33m\u001b[0m\u001b[1;33m\u001b[0m\u001b[0m\n\u001b[1;32m--> 399\u001b[1;33m             \u001b[0mf\u001b[0m \u001b[1;33m=\u001b[0m \u001b[0mopen\u001b[0m\u001b[1;33m(\u001b[0m\u001b[0mpath_or_buf\u001b[0m\u001b[1;33m,\u001b[0m \u001b[0mmode\u001b[0m\u001b[1;33m,\u001b[0m \u001b[0mencoding\u001b[0m\u001b[1;33m=\u001b[0m\u001b[0mencoding\u001b[0m\u001b[1;33m,\u001b[0m \u001b[0mnewline\u001b[0m\u001b[1;33m=\u001b[0m\u001b[1;34m\"\"\u001b[0m\u001b[1;33m)\u001b[0m\u001b[1;33m\u001b[0m\u001b[1;33m\u001b[0m\u001b[0m\n\u001b[0m\u001b[0;32m    400\u001b[0m         \u001b[1;32melif\u001b[0m \u001b[0mis_text\u001b[0m\u001b[1;33m:\u001b[0m\u001b[1;33m\u001b[0m\u001b[1;33m\u001b[0m\u001b[0m\n\u001b[0;32m    401\u001b[0m             \u001b[1;31m# No explicit encoding\u001b[0m\u001b[1;33m\u001b[0m\u001b[1;33m\u001b[0m\u001b[1;33m\u001b[0m\u001b[0m\n",
      "\u001b[1;31mPermissionError\u001b[0m: [Errno 13] Permission denied: 'output/city_desc.csv'"
     ]
    }
   ],
   "source": [
    "# fill this cell with writing output to CSV\n",
    "ind = np.arange(0,len(descriptions) )\n",
    "city_out = pd.DataFrame({\"City Prints\": descriptions,\n",
    "             \"Index\":ind}).set_index(\"Index\")\n",
    "out_path = (\"output/city_desc.csv\")\n",
    "city_out.to_csv(out_path)"
   ]
  },
  {
   "cell_type": "code",
   "execution_count": null,
   "metadata": {},
   "outputs": [],
   "source": [
    "#cells above requires pull. Be wary of doing too many pulls!\n",
    "humidity"
   ]
  },
  {
   "cell_type": "code",
   "execution_count": null,
   "metadata": {},
   "outputs": [],
   "source": [
    "#Create Scatter Plot 1\n",
    "#Temperature (F) vs Latitude \n",
    "\n",
    "\n",
    "\n",
    "\n",
    "\n",
    "plt.scatter(x = lat_temp, y=temperature)\n",
    "plt.xlabel(\"Latitude\")\n",
    "plt.ylabel(\"Temperature (F)\")\n",
    "plt.title(\"Effect of Latitude to Temperature(F)\")\n",
    "plt.xlim(-70,70)\n",
    "plt.savefig(\"output/scatter1\")\n",
    "\n",
    "print(\"This scatter plot is trying to find relationship between latitude to temperature (F)\")"
   ]
  },
  {
   "cell_type": "code",
   "execution_count": null,
   "metadata": {},
   "outputs": [],
   "source": [
    "#Create Scatter Plot 2\n",
    "#Humidity (%) vs Latitude\n",
    "plt.scatter(x = lat_temp, y=humidity)\n",
    "plt.xlabel(\"Latitude\")\n",
    "plt.ylabel(\"Humidity (%)\")\n",
    "plt.title(\"Effect of Latitude to Humidity\")\n",
    "plt.xlim(-70,70)\n",
    "plt.savefig(\"output/scatter2\")\n",
    "print(\"This scatter plot is trying to find relationship between latitude to humidity\")"
   ]
  },
  {
   "cell_type": "code",
   "execution_count": null,
   "metadata": {},
   "outputs": [],
   "source": [
    "#Create Scatter Plot 3\n",
    "#Cloudiness (%) vs Latitude\n",
    "plt.scatter(x = lat_temp, y=cloudiness)\n",
    "plt.xlabel(\"Latitude\")\n",
    "plt.ylabel(\"Cloudiness (%)\")\n",
    "plt.title(\"Effect of Latitude to Cloudiness\")\n",
    "plt.xlim(-70,70)\n",
    "plt.savefig(\"output/scatter3\")\n",
    "print(\"This scatter plot is trying to find relationship between latitude to cloudiness\")"
   ]
  },
  {
   "cell_type": "code",
   "execution_count": 236,
   "metadata": {},
   "outputs": [
    {
     "name": "stdout",
     "output_type": "stream",
     "text": [
      "This scatter plot is trying to find relationship between latitude to wind speed\n"
     ]
    },
    {
     "data": {
      "image/png": "[encoded data removed]",
      "text/plain": [
       "<Figure size 432x288 with 1 Axes>"
      ]
     },
     "metadata": {
      "needs_background": "light"
     },
     "output_type": "display_data"
    }
   ],
   "source": [
    "#Create Scatter Plot 4\n",
    "#Wind Speed vs Latitude\n",
    "plt.scatter(x = lat_temp, y=wind_speed)\n",
    "plt.xlabel(\"Latitude\")\n",
    "plt.ylabel(\"Wind Speed (mph)\")\n",
    "plt.title(\"Effect of Latitude to Wind Speed\")\n",
    "plt.xlim(-70,70)\n",
    "plt.savefig(\"output/scatter4\")\n",
    "print(\"This scatter plot is trying to find relationship between latitude to wind speed\")"
   ]
  },
  {
   "cell_type": "code",
   "execution_count": null,
   "metadata": {},
   "outputs": [],
   "source": [
    "#  "
   ]
  },
  {
   "cell_type": "code",
   "execution_count": 26,
   "metadata": {},
   "outputs": [
    {
     "data": {
      "text/plain": [
       "'hobyo'"
      ]
     },
     "execution_count": 26,
     "metadata": {},
     "output_type": "execute_result"
    }
   ],
   "source": [
    "#Sample citipy\n",
    "city = citipy.nearest_city(2.2212, 51.3398)\n",
    "city.city_name"
   ]
  }
 ],
 "metadata": {
  "kernelspec": {
   "display_name": "Python 3",
   "language": "python",
   "name": "python3"
  },
  "language_info": {
   "codemirror_mode": {
    "name": "ipython",
    "version": 3
   },
   "file_extension": ".py",
   "mimetype": "text/x-python",
   "name": "python",
   "nbconvert_exporter": "python",
   "pygments_lexer": "ipython3",
   "version": "3.7.4"
  }
 },
 "nbformat": 4,
 "nbformat_minor": 2
}
