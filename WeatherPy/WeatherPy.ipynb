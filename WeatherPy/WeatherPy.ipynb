{
 "cells": [
  {
   "cell_type": "code",
   "execution_count": 70,
   "metadata": {},
   "outputs": [],
   "source": [
    "import requests\n",
    "import json\n",
    "from citipy import citipy\n",
    "import random\n",
    "import matplotlib.pyplot as plt\n",
    "import pandas as pd\n",
    "import numpy as np\n",
    "import scipy.stats as st\n",
    "from config import api_key\n",
    "\n",
    "#for citipy documentations, see https://github.com/wingchen/citipy"
   ]
  },
  {
   "cell_type": "code",
   "execution_count": 71,
   "metadata": {},
   "outputs": [
    {
     "data": {
      "text/plain": [
       "10"
      ]
     },
     "execution_count": 71,
     "metadata": {},
     "output_type": "execute_result"
    }
   ],
   "source": [
    "#set how many pulls will be done. This is to make sure we are not overlimit\n",
    "\n",
    "pull_number = 20\n",
    "half_number = int(pull_number/2)\n",
    "\n",
    "half_number"
   ]
  },
  {
   "cell_type": "code",
   "execution_count": 72,
   "metadata": {},
   "outputs": [],
   "source": [
    "# Down the line, we are required to split between souther and northen hemisphere for regression\n",
    "# let's make it so first 50% of pull is for north, the rest of 50% is for south\n",
    "\n",
    "#Create random latt and longitude\n",
    "north_lat = []\n",
    "south_lat = []\n",
    "\n",
    "north_lon = []\n",
    "south_lon = []\n",
    "\n",
    "lat = []\n",
    "lon = []\n",
    "\n",
    "\n",
    "        "
   ]
  },
  {
   "cell_type": "code",
   "execution_count": 73,
   "metadata": {},
   "outputs": [],
   "source": [
    "for x in range(0 , half_number):\n",
    "        a = random.uniform(0,70.0)\n",
    "        b = random.uniform(-70.0,70.0)\n",
    "        north_lat.append(a)\n",
    "        north_lon.append(b)        \n",
    "        lat.append(a)\n",
    "        lon.append(b)\n",
    "for y in range(half_number, pull_number ):\n",
    "        a = random.uniform(-70.0,-0.1)\n",
    "        b = random.uniform(-70.0,70.0)\n",
    "        south_lat.append(a)\n",
    "        south_lon.append(b)        \n",
    "        lat.append(a)\n",
    "        lon.append(b) "
   ]
  },
  {
   "cell_type": "code",
   "execution_count": 48,
   "metadata": {},
   "outputs": [
    {
     "data": {
      "text/plain": [
       "[15.508418954623904,\n",
       " 21.838010160248405,\n",
       " 23.410983304995582,\n",
       " 33.067757411033256,\n",
       " 39.53302464670278,\n",
       " 0.42057659396715463,\n",
       " 26.77230404144101,\n",
       " 24.122714819276354,\n",
       " 13.999362272548858,\n",
       " 24.120948251229986,\n",
       " -39.09058100384671,\n",
       " -12.169800252161977,\n",
       " -57.43421178271025,\n",
       " -8.48256865692126,\n",
       " -21.86359981089482,\n",
       " -24.35496111730312,\n",
       " -35.9715795195141,\n",
       " -10.025987853714533,\n",
       " -54.62014595709918,\n",
       " -34.14104806762476,\n",
       " 38.101304747430255,\n",
       " 2.5482582779324336,\n",
       " 40.75131641721795,\n",
       " 38.35523165746042,\n",
       " 44.32169801551277,\n",
       " 25.47774953743315,\n",
       " 20.431618319478506,\n",
       " 69.88972804441602,\n",
       " 51.08464052474586,\n",
       " 65.29965791358195,\n",
       " -2.6215995412370035,\n",
       " -47.72722627351288,\n",
       " -69.45470673192618,\n",
       " -20.746381886327235,\n",
       " -61.305754630778026,\n",
       " -66.62277810015827,\n",
       " -43.278770195914454,\n",
       " -28.602176121032038,\n",
       " -8.090729754591635,\n",
       " -39.30699319149595]"
      ]
     },
     "execution_count": 48,
     "metadata": {},
     "output_type": "execute_result"
    }
   ],
   "source": [
    "lat"
   ]
  },
  {
   "cell_type": "code",
   "execution_count": 74,
   "metadata": {
    "scrolled": false
   },
   "outputs": [],
   "source": [
    "#Create json pull request.\n",
    "\n",
    "\n",
    "\n",
    "#Singular key trial\n",
    "temperature = []\n",
    "humidity = []\n",
    "cloudiness = []\n",
    "wind_speed = []\n",
    "city_name = []\n",
    "descriptions = []\n",
    "lat_temp = []\n",
    "lon_temp = []\n"
   ]
  },
  {
   "cell_type": "code",
   "execution_count": 75,
   "metadata": {},
   "outputs": [],
   "source": [
    "#Looping the request\n",
    "y = 0\n",
    "\n",
    "#remember, set the last number in range() to limit how many request per pull. \n",
    "for y in range(0,pull_number):\n",
    "\n",
    "    url_lat = \"http://api.openweathermap.org/data/2.5/weather?lat=\"+ str(lat[y]) + \"&lon=\" +str(lon[y]) + \"&appid=\"+api_key +\"&units=imperial\"\n",
    "    response = requests.get(url_lat)\n",
    "    weather = response.json()\n",
    "    temperature.append(weather[\"main\"][\"temp\"])\n",
    "    humidity.append(weather[\"main\"][\"humidity\"])\n",
    "    cloudiness.append(weather[\"clouds\"][\"all\"])\n",
    "    wind_speed.append(weather[\"wind\"][\"speed\"])\n",
    "    lat_temp.append(lat[y])\n",
    "    lon_temp.append(lon[y])\n",
    "    city = citipy.nearest_city(lat[y], lon[y])\n",
    "    city_name.append(city.city_name)\n",
    "    printout = (\"City name is: \" +str(city_name[y]),\n",
    "               \"Temperature is: \" +str(temperature[y]) + \" Fahrenheit\",\n",
    "                \"Humidity is: \" +str(humidity[y]) +\" %\",\n",
    "                \"Cloudiness is: \"+str(cloudiness[y]) +\" %\",\n",
    "                \"Wind Speed is: \"+str(wind_speed[y])  +\" mph\"\n",
    "               )\n",
    "    descriptions.append(printout)\n",
    "    \n",
    "    \n"
   ]
  },
  {
   "cell_type": "code",
   "execution_count": 102,
   "metadata": {},
   "outputs": [],
   "source": [
    "# fill this cell with writing output to CSV\n",
    "ind = np.arange(0,len(descriptions) )\n",
    "city_out = pd.DataFrame({\"City Prints\": descriptions,\n",
    "             \"Index\":ind}).set_index(\"Index\")\n",
    "out_path = (\"output/city_desc.csv\")\n",
    "city_out.to_csv(out_path)"
   ]
  },
  {
   "cell_type": "code",
   "execution_count": 103,
   "metadata": {},
   "outputs": [],
   "source": [
    "#cells above requires pull. Be wary of doing too many pulls!\n"
   ]
  },
  {
   "cell_type": "code",
   "execution_count": 104,
   "metadata": {},
   "outputs": [
    {
     "name": "stdout",
     "output_type": "stream",
     "text": [
      "This scatter plot is trying to find relationship between latitude to temperature (F)\n"
     ]
    },
    {
     "data": {
      "image/png": "[encoded data removed]",
      "text/plain": [
       "<Figure size 432x288 with 1 Axes>"
      ]
     },
     "metadata": {
      "needs_background": "light"
     },
     "output_type": "display_data"
    }
   ],
   "source": [
    "#Create Scatter Plot 1\n",
    "#Temperature (F) vs Latitude \n",
    "\n",
    "\n",
    "\n",
    "\n",
    "\n",
    "plt.scatter(x = lat_temp, y=temperature)\n",
    "plt.xlabel(\"Latitude\")\n",
    "plt.ylabel(\"Temperature (F)\")\n",
    "plt.title(\"Effect of Latitude to Temperature(F)\")\n",
    "plt.xlim(-70,70)\n",
    "plt.savefig(\"output/scatter1\")\n",
    "\n",
    "print(\"This scatter plot is trying to find relationship between latitude to temperature (F)\")"
   ]
  },
  {
   "cell_type": "code",
   "execution_count": 105,
   "metadata": {},
   "outputs": [
    {
     "name": "stdout",
     "output_type": "stream",
     "text": [
      "This scatter plot is trying to find relationship between latitude to humidity\n"
     ]
    },
    {
     "data": {
      "image/png": "[encoded data removed]",
      "text/plain": [
       "<Figure size 432x288 with 1 Axes>"
      ]
     },
     "metadata": {
      "needs_background": "light"
     },
     "output_type": "display_data"
    }
   ],
   "source": [
    "#Create Scatter Plot 2\n",
    "#Humidity (%) vs Latitude\n",
    "plt.scatter(x = lat_temp, y=humidity)\n",
    "plt.xlabel(\"Latitude\")\n",
    "plt.ylabel(\"Humidity (%)\")\n",
    "plt.title(\"Effect of Latitude to Humidity\")\n",
    "plt.xlim(-70,70)\n",
    "plt.savefig(\"output/scatter2\")\n",
    "print(\"This scatter plot is trying to find relationship between latitude to humidity\")"
   ]
  },
  {
   "cell_type": "code",
   "execution_count": 106,
   "metadata": {},
   "outputs": [
    {
     "name": "stdout",
     "output_type": "stream",
     "text": [
      "This scatter plot is trying to find relationship between latitude to cloudiness\n"
     ]
    },
    {
     "data": {
      "image/png": "[encoded data removed]",
      "text/plain": [
       "<Figure size 432x288 with 1 Axes>"
      ]
     },
     "metadata": {
      "needs_background": "light"
     },
     "output_type": "display_data"
    }
   ],
   "source": [
    "#Create Scatter Plot 3\n",
    "#Cloudiness (%) vs Latitude\n",
    "plt.scatter(x = lat_temp, y=cloudiness)\n",
    "plt.xlabel(\"Latitude\")\n",
    "plt.ylabel(\"Cloudiness (%)\")\n",
    "plt.title(\"Effect of Latitude to Cloudiness\")\n",
    "plt.xlim(-70,70)\n",
    "plt.savefig(\"output/scatter3\")\n",
    "print(\"This scatter plot is trying to find relationship between latitude to cloudiness\")"
   ]
  },
  {
   "cell_type": "code",
   "execution_count": 107,
   "metadata": {},
   "outputs": [
    {
     "name": "stdout",
     "output_type": "stream",
     "text": [
      "This scatter plot is trying to find relationship between latitude to wind speed\n"
     ]
    },
    {
     "data": {
      "image/png": "[encoded data removed]",
      "text/plain": [
       "<Figure size 432x288 with 1 Axes>"
      ]
     },
     "metadata": {
      "needs_background": "light"
     },
     "output_type": "display_data"
    }
   ],
   "source": [
    "#Create Scatter Plot 4\n",
    "#Wind Speed vs Latitude\n",
    "plt.scatter(x = lat_temp, y=wind_speed)\n",
    "plt.xlabel(\"Latitude\")\n",
    "plt.ylabel(\"Wind Speed (mph)\")\n",
    "plt.title(\"Effect of Latitude to Wind Speed\")\n",
    "plt.xlim(-70,70)\n",
    "plt.savefig(\"output/scatter4\")\n",
    "print(\"This scatter plot is trying to find relationship between latitude to wind speed\")"
   ]
  },
  {
   "cell_type": "code",
   "execution_count": 108,
   "metadata": {},
   "outputs": [],
   "source": [
    "#Automated\n",
    "#The values stored in n_values and s_values are temperature, humidity, cloud, and wind speed. In that order!\n",
    "explanation = [\"Temperature\", \"Humidity\",\"Cloud\",\"Wind Speed\"]\n",
    "\n",
    "n_values = []\n",
    "s_values = []\n",
    "\n",
    "#This is to make the latitude usable \n",
    "north_lat = np.asarray(north_lat)\n",
    "south_lat = np.asarray(south_lat)\n",
    "\n"
   ]
  },
  {
   "cell_type": "code",
   "execution_count": 109,
   "metadata": {},
   "outputs": [],
   "source": [
    "#The North Loop. Basically, we add list of list\n",
    "\n",
    "a=[]\n",
    "for j in range (0,half_number):\n",
    "    a.append(temperature[j] )\n",
    "n_values.append(a)\n",
    "\n",
    "a=[]\n",
    "for j in range (0,half_number):\n",
    "    a.append(humidity[j] )\n",
    "n_values.append(a)\n",
    "\n",
    "a=[]\n",
    "for j in range (0,half_number):\n",
    "    a.append(cloudiness[j] )\n",
    "n_values.append(a)\n",
    "\n",
    "a=[]\n",
    "for j in range (0,half_number):\n",
    "    a.append(wind_speed[j] )\n",
    "n_values.append(a)\n",
    "\n",
    "#for i in range (0, half_number):\n",
    "#    n_values.append(humidity[i] )\n",
    "   # n_values.append (cloudiness[i] )\n",
    "    #n_values.append (wind_speed[i])\n"
   ]
  },
  {
   "cell_type": "code",
   "execution_count": 110,
   "metadata": {},
   "outputs": [],
   "source": [
    "#The South Loop\n",
    "a=[]\n",
    "for j in range (half_number, pull_number):\n",
    "    a.append(temperature[j] )\n",
    "s_values.append(a)\n",
    "\n",
    "a=[]\n",
    "for j in range (half_number, pull_number):\n",
    "    a.append(humidity[j] )\n",
    "s_values.append(a)\n",
    "\n",
    "a=[]\n",
    "for j in range (half_number, pull_number):\n",
    "    a.append(cloudiness[j] )\n",
    "s_values.append(a)\n",
    "\n",
    "a=[]\n",
    "for j in range (half_number, pull_number):\n",
    "    a.append(wind_speed[j] )\n",
    "s_values.append(a)\n",
    "\n"
   ]
  },
  {
   "cell_type": "code",
   "execution_count": 111,
   "metadata": {},
   "outputs": [
    {
     "data": {
      "text/plain": [
       "[[81.14, 74.52, 67.98, 64.85, 80.22, 81.14, 83.59, 52.59, 73.4, 82.49],\n",
       " [79, 93, 99, 98, 82, 82, 84, 87, 95, 73],\n",
       " [100, 100, 100, 100, 100, 99, 66, 100, 100, 78],\n",
       " [10.22, 1.39, 2.53, 0.45, 20.56, 17.27, 19.44, 1.28, 7.18, 10.49]]"
      ]
     },
     "execution_count": 111,
     "metadata": {},
     "output_type": "execute_result"
    }
   ],
   "source": [
    "n_values"
   ]
  },
  {
   "cell_type": "code",
   "execution_count": 137,
   "metadata": {},
   "outputs": [],
   "source": [
    "#North Linregress Loop\n",
    "#again, in order the value is correlation between latitude and : temperature, humidity, cloudiness, wind speed \n",
    "\n",
    "slope_n=[]\n",
    "intercept_n =[]\n",
    "rvalue_n=[]\n",
    "pvalue_n=[]\n",
    "stderr_n=[]\n",
    "n_regress = []\n",
    "n_desc = []\n",
    "\n",
    "for i in range(0,len(n_values) ):\n",
    "    a\n",
    "    slope_1, intercept_1, rvalue_1, pvalue_1, stderr_1 = st.linregress(north_lat, n_values[i])\n",
    "    slope_n.append(slope_1)\n",
    "    reg1 = intercept_1 + slope_1 * north_lat\n",
    "    desc1 = \"y =\" + str(round(intercept_1,3)) + \"+ \"+ str(round(slope_1,3)) + \"x\"\n",
    "    n_regress.append(reg1)\n",
    "    n_desc.append(desc1)\n"
   ]
  },
  {
   "cell_type": "code",
   "execution_count": 138,
   "metadata": {},
   "outputs": [
    {
     "data": {
      "text/plain": [
       "'y =79.155+ -0.356x'"
      ]
     },
     "execution_count": 138,
     "metadata": {},
     "output_type": "execute_result"
    }
   ],
   "source": [
    "n_desc[0]"
   ]
  },
  {
   "cell_type": "code",
   "execution_count": 141,
   "metadata": {},
   "outputs": [
    {
     "data": {
      "image/png": "[encoded data removed]",
      "text/plain": [
       "<Figure size 720x720 with 4 Axes>"
      ]
     },
     "metadata": {
      "needs_background": "light"
     },
     "output_type": "display_data"
    }
   ],
   "source": [
    "#automatically create subplots and regressions line\n",
    "\n",
    "fig_n, axs = plt.subplots(2 , 2 , figsize = (10,10))\n",
    "c=0\n",
    "\n",
    "for a in range(0,2):\n",
    "    for b in range(0, 2):\n",
    "        axs[a,b].scatter(north_lat,n_values[c])\n",
    "        axs[a,b].plot(north_lat,n_regress[c], color=\"red\")\n",
    "        axs[a,b].set_title(\"Relationship Between Latitude and \"+explanation[c])\n",
    "        axs[a,b].set_xlabel(\"Latitude\")\n",
    "        axs[a,b].set_ylabel(explanation[c])\n",
    "        c = c +1\n"
   ]
  },
  {
   "cell_type": "code",
   "execution_count": 114,
   "metadata": {},
   "outputs": [
    {
     "ename": "NameError",
     "evalue": "name 'slope' is not defined",
     "output_type": "error",
     "traceback": [
      "\u001b[1;31m---------------------------------------------------------------------------\u001b[0m",
      "\u001b[1;31mNameError\u001b[0m                                 Traceback (most recent call last)",
      "\u001b[1;32m<ipython-input-114-a0508783e092>\u001b[0m in \u001b[0;36m<module>\u001b[1;34m\u001b[0m\n\u001b[0;32m     12\u001b[0m \u001b[1;33m\u001b[0m\u001b[0m\n\u001b[0;32m     13\u001b[0m     \u001b[0mslope_2\u001b[0m\u001b[1;33m,\u001b[0m \u001b[0mintercept_2\u001b[0m\u001b[1;33m,\u001b[0m \u001b[0mrvalue_2\u001b[0m\u001b[1;33m,\u001b[0m \u001b[0mpvalue_2\u001b[0m\u001b[1;33m,\u001b[0m \u001b[0mstderr_2\u001b[0m \u001b[1;33m=\u001b[0m \u001b[0mst\u001b[0m\u001b[1;33m.\u001b[0m\u001b[0mlinregress\u001b[0m\u001b[1;33m(\u001b[0m\u001b[0mnorth_lat\u001b[0m\u001b[1;33m,\u001b[0m \u001b[0mn_values\u001b[0m\u001b[1;33m[\u001b[0m\u001b[0mi\u001b[0m\u001b[1;33m]\u001b[0m\u001b[1;33m)\u001b[0m\u001b[1;33m\u001b[0m\u001b[1;33m\u001b[0m\u001b[0m\n\u001b[1;32m---> 14\u001b[1;33m     \u001b[0mslope\u001b[0m\u001b[1;33m.\u001b[0m\u001b[0mappend\u001b[0m\u001b[1;33m(\u001b[0m\u001b[0mslope_n\u001b[0m\u001b[1;33m)\u001b[0m\u001b[1;33m\u001b[0m\u001b[1;33m\u001b[0m\u001b[0m\n\u001b[0m",
      "\u001b[1;31mNameError\u001b[0m: name 'slope' is not defined"
     ]
    }
   ],
   "source": [
    "#South Linregress Loop\n",
    "#again, in order the value is correlation between latitude and : temperature, humidity, cloudiness, wind speed \n",
    "\n",
    "slope_s=[]\n",
    "intercept_s =[]\n",
    "rvalue_s=[]\n",
    "pvalue_s=[]\n",
    "stderr_s=[]\n",
    "\n",
    "\n",
    "for i in range(0,len(n_values) ):\n",
    "    \n",
    "    slope_2, intercept_2, rvalue_2, pvalue_2, stderr_2 = st.linregress(north_lat, n_values[i])\n",
    "    slope.append(slope_n)"
   ]
  },
  {
   "cell_type": "code",
   "execution_count": null,
   "metadata": {},
   "outputs": [],
   "source": []
  },
  {
   "cell_type": "code",
   "execution_count": null,
   "metadata": {},
   "outputs": [],
   "source": []
  },
  {
   "cell_type": "code",
   "execution_count": null,
   "metadata": {},
   "outputs": [],
   "source": []
  },
  {
   "cell_type": "code",
   "execution_count": null,
   "metadata": {},
   "outputs": [],
   "source": []
  }
 ],
 "metadata": {
  "kernelspec": {
   "display_name": "Python 3",
   "language": "python",
   "name": "python3"
  },
  "language_info": {
   "codemirror_mode": {
    "name": "ipython",
    "version": 3
   },
   "file_extension": ".py",
   "mimetype": "text/x-python",
   "name": "python",
   "nbconvert_exporter": "python",
   "pygments_lexer": "ipython3",
   "version": "3.7.4"
  }
 },
 "nbformat": 4,
 "nbformat_minor": 2
}
