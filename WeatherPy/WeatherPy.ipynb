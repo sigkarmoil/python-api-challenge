{
 "cells": [
  {
   "cell_type": "code",
   "execution_count": 1,
   "metadata": {},
   "outputs": [],
   "source": [
    "import requests\n",
    "import json\n",
    "from citipy import citipy\n",
    "import random\n",
    "import matplotlib.pyplot as plt\n",
    "import pandas as pd\n",
    "import numpy as np\n",
    "import scipy.stats as st\n",
    "import time\n",
    "\n",
    "from config import api_key\n",
    "\n",
    "#for citipy documentations, see https://github.com/wingchen/citipy"
   ]
  },
  {
   "cell_type": "code",
   "execution_count": 2,
   "metadata": {},
   "outputs": [
    {
     "data": {
      "text/plain": [
       "15"
      ]
     },
     "execution_count": 2,
     "metadata": {},
     "output_type": "execute_result"
    }
   ],
   "source": [
    "#set how many pulls will be done. This is to make sure we are not overlimit\n",
    "\n",
    "pull_number = 30\n",
    "half_number = int(pull_number/2)\n",
    "\n",
    "wait_time = int(510/pull_number)\n",
    "\n",
    "half_number"
   ]
  },
  {
   "cell_type": "code",
   "execution_count": 3,
   "metadata": {},
   "outputs": [],
   "source": [
    "# Down the line, we are required to split between souther and northen hemisphere for regression\n",
    "# let's make it so first 50% of pull is for north, the rest of 50% is for south\n",
    "\n",
    "#Create random latt and longitude\n",
    "north_lat = []\n",
    "south_lat = []\n",
    "\n",
    "north_lon = []\n",
    "south_lon = []\n",
    "\n",
    "lat = []\n",
    "lon = []\n",
    "\n",
    "\n",
    "        "
   ]
  },
  {
   "cell_type": "code",
   "execution_count": 4,
   "metadata": {},
   "outputs": [],
   "source": [
    "for x in range(0 , half_number):\n",
    "        a = random.uniform(0,70.0)\n",
    "        b = random.uniform(-70.0,70.0)\n",
    "        north_lat.append(a)\n",
    "        north_lon.append(b)        \n",
    "        lat.append(a)\n",
    "        lon.append(b)\n",
    "for y in range(half_number, pull_number ):\n",
    "        a = random.uniform(-70.0,-0.1)\n",
    "        b = random.uniform(-70.0,70.0)\n",
    "        south_lat.append(a)\n",
    "        south_lon.append(b)        \n",
    "        lat.append(a)\n",
    "        lon.append(b) "
   ]
  },
  {
   "cell_type": "code",
   "execution_count": 5,
   "metadata": {},
   "outputs": [
    {
     "data": {
      "text/plain": [
       "[7.855194562812324,\n",
       " 1.8658094043531437,\n",
       " 57.31109306345901,\n",
       " 38.78833932809431,\n",
       " 67.07029785184545,\n",
       " 37.41308845556544,\n",
       " 9.242714412601853,\n",
       " 53.16827168864103,\n",
       " 61.08971336660014,\n",
       " 3.370762091531337,\n",
       " 32.398265570137966,\n",
       " 2.5898823670474327,\n",
       " 21.171972324271103,\n",
       " 3.2705189001807144,\n",
       " 66.91599541468122,\n",
       " -2.137129096884692,\n",
       " -46.23128605725115,\n",
       " -27.29738988444305,\n",
       " -39.61534537578025,\n",
       " -14.814834022776928,\n",
       " -35.65799184249646,\n",
       " -43.038239584311874,\n",
       " -63.075635079277426,\n",
       " -16.564139216053356,\n",
       " -9.590406233495571,\n",
       " -36.67359257528841,\n",
       " -30.284793038059718,\n",
       " -69.69468869558239,\n",
       " -20.048592964399845,\n",
       " -20.12187138348856]"
      ]
     },
     "execution_count": 5,
     "metadata": {},
     "output_type": "execute_result"
    }
   ],
   "source": [
    "lat"
   ]
  },
  {
   "cell_type": "code",
   "execution_count": 6,
   "metadata": {
    "scrolled": false
   },
   "outputs": [],
   "source": [
    "#Create json pull request.\n",
    "\n",
    "temperature = []\n",
    "humidity = []\n",
    "cloudiness = []\n",
    "wind_speed = []\n",
    "city_name = []\n",
    "descriptions = []\n",
    "lat_temp = []\n",
    "lon_temp = []\n"
   ]
  },
  {
   "cell_type": "code",
   "execution_count": 9,
   "metadata": {},
   "outputs": [
    {
     "name": "stdout",
     "output_type": "stream",
     "text": [
      "('#1 city is: cayenne', 'Temperature is: 81.05 Fahrenheit', 'Humidity is: 81 %', 'Cloudiness is: 89 %', 'Wind Speed is: 17.81 mph')\n",
      "('#2 city is: cayenne', 'Temperature is: 81.05 Fahrenheit', 'Humidity is: 81 %', 'Cloudiness is: 89 %', 'Wind Speed is: 17.81 mph')\n",
      "('#3 city is: buta', 'Temperature is: 69.53 Fahrenheit', 'Humidity is: 97 %', 'Cloudiness is: 100 %', 'Wind Speed is: 1.43 mph')\n",
      "('#4 city is: uspenka', 'Temperature is: 53.73 Fahrenheit', 'Humidity is: 53 %', 'Cloudiness is: 77 %', 'Wind Speed is: 10.25 mph')\n",
      "('#5 city is: ercis', 'Temperature is: 59 Fahrenheit', 'Humidity is: 67 %', 'Cloudiness is: 20 %', 'Wind Speed is: 4.36 mph')\n",
      "('#6 city is: pangnirtung', 'Temperature is: 28.4 Fahrenheit', 'Humidity is: 100 %', 'Cloudiness is: 90 %', 'Wind Speed is: 12.75 mph')\n",
      "('#7 city is: kalaleh', 'Temperature is: 70.12 Fahrenheit', 'Humidity is: 25 %', 'Cloudiness is: 0 %', 'Wind Speed is: 3.2 mph')\n",
      "('#8 city is: carutapera', 'Temperature is: 80.44 Fahrenheit', 'Humidity is: 83 %', 'Cloudiness is: 26 %', 'Wind Speed is: 13.56 mph')\n",
      "('#9 city is: yefremov', 'Temperature is: 67.5 Fahrenheit', 'Humidity is: 83 %', 'Cloudiness is: 0 %', 'Wind Speed is: 4.97 mph')\n",
      "('#10 city is: hofn', 'Temperature is: 49.08 Fahrenheit', 'Humidity is: 70 %', 'Cloudiness is: 3 %', 'Wind Speed is: 3.58 mph')\n",
      "('#11 city is: trairi', 'Temperature is: 81.5 Fahrenheit', 'Humidity is: 79 %', 'Cloudiness is: 66 %', 'Wind Speed is: 13.22 mph')\n",
      "('#12 city is: marsa matruh', 'Temperature is: 72.27 Fahrenheit', 'Humidity is: 78 %', 'Cloudiness is: 0 %', 'Wind Speed is: 21.18 mph')\n",
      "('#13 city is: lisala', 'Temperature is: 69.89 Fahrenheit', 'Humidity is: 93 %', 'Cloudiness is: 100 %', 'Wind Speed is: 1.41 mph')\n",
      "('#14 city is: sur', 'Temperature is: 83.95 Fahrenheit', 'Humidity is: 87 %', 'Cloudiness is: 36 %', 'Wind Speed is: 16.35 mph')\n",
      "('#15 city is: buta', 'Temperature is: 68 Fahrenheit', 'Humidity is: 98 %', 'Cloudiness is: 98 %', 'Wind Speed is: 0.98 mph')\n",
      "('#16 city is: sisimiut', 'Temperature is: 34.07 Fahrenheit', 'Humidity is: 91 %', 'Cloudiness is: 34 %', 'Wind Speed is: 15.3 mph')\n",
      "('#17 city is: tabou', 'Temperature is: 74.68 Fahrenheit', 'Humidity is: 90 %', 'Cloudiness is: 0 %', 'Wind Speed is: 11.34 mph')\n",
      "('#18 city is: necochea', 'Temperature is: 49.23 Fahrenheit', 'Humidity is: 80 %', 'Cloudiness is: 100 %', 'Wind Speed is: 8.99 mph')\n",
      "('#19 city is: vila velha', 'Temperature is: 64.36 Fahrenheit', 'Humidity is: 59 %', 'Cloudiness is: 8 %', 'Wind Speed is: 12.82 mph')\n",
      "('#20 city is: cape town', 'Temperature is: 65.89 Fahrenheit', 'Humidity is: 71 %', 'Cloudiness is: 100 %', 'Wind Speed is: 22.48 mph')\n",
      "('#21 city is: georgetown', 'Temperature is: 73.27 Fahrenheit', 'Humidity is: 65 %', 'Cloudiness is: 19 %', 'Wind Speed is: 7.94 mph')\n",
      "('#22 city is: tsihombe', 'Temperature is: 60.48 Fahrenheit', 'Humidity is: 79 %', 'Cloudiness is: 78 %', 'Wind Speed is: 13.89 mph')\n",
      "('#23 city is: arraial do cabo', 'Temperature is: 47.21 Fahrenheit', 'Humidity is: 77 %', 'Cloudiness is: 100 %', 'Wind Speed is: 9.69 mph')\n",
      "('#24 city is: ushuaia', 'Temperature is: 19.51 Fahrenheit', 'Humidity is: 97 %', 'Cloudiness is: 95 %', 'Wind Speed is: 13.24 mph')\n",
      "('#25 city is: belmonte', 'Temperature is: 75.94 Fahrenheit', 'Humidity is: 79 %', 'Cloudiness is: 33 %', 'Wind Speed is: 23.76 mph')\n",
      "('#26 city is: bom jesus', 'Temperature is: 72.84 Fahrenheit', 'Humidity is: 54 %', 'Cloudiness is: 45 %', 'Wind Speed is: 7.52 mph')\n",
      "('#27 city is: souillac', 'Temperature is: 56.8 Fahrenheit', 'Humidity is: 77 %', 'Cloudiness is: 99 %', 'Wind Speed is: 29.8 mph')\n",
      "('#28 city is: jamestown', 'Temperature is: 58.75 Fahrenheit', 'Humidity is: 57 %', 'Cloudiness is: 79 %', 'Wind Speed is: 16.44 mph')\n",
      "('#29 city is: cape town', 'Temperature is: -22.34 Fahrenheit', 'Humidity is: 87 %', 'Cloudiness is: 12 %', 'Wind Speed is: 5.44 mph')\n",
      "('#30 city is: saint-paul', 'Temperature is: 72.34 Fahrenheit', 'Humidity is: 75 %', 'Cloudiness is: 73 %', 'Wind Speed is: 26.8 mph')\n",
      "('#31 city is: cayenne', 'Temperature is: 81.05 Fahrenheit', 'Humidity is: 81 %', 'Cloudiness is: 89 %', 'Wind Speed is: 17.81 mph')\n",
      "('#32 city is: cayenne', 'Temperature is: 81.05 Fahrenheit', 'Humidity is: 81 %', 'Cloudiness is: 89 %', 'Wind Speed is: 17.81 mph')\n",
      "('#33 city is: buta', 'Temperature is: 69.53 Fahrenheit', 'Humidity is: 97 %', 'Cloudiness is: 100 %', 'Wind Speed is: 1.43 mph')\n",
      "('#34 city is: uspenka', 'Temperature is: 53.73 Fahrenheit', 'Humidity is: 53 %', 'Cloudiness is: 77 %', 'Wind Speed is: 10.25 mph')\n",
      "('#35 city is: ercis', 'Temperature is: 59 Fahrenheit', 'Humidity is: 67 %', 'Cloudiness is: 20 %', 'Wind Speed is: 4.36 mph')\n",
      "('#36 city is: pangnirtung', 'Temperature is: 28.4 Fahrenheit', 'Humidity is: 100 %', 'Cloudiness is: 90 %', 'Wind Speed is: 12.75 mph')\n",
      "('#37 city is: kalaleh', 'Temperature is: 70.12 Fahrenheit', 'Humidity is: 25 %', 'Cloudiness is: 0 %', 'Wind Speed is: 3.2 mph')\n",
      "('#38 city is: carutapera', 'Temperature is: 80.44 Fahrenheit', 'Humidity is: 83 %', 'Cloudiness is: 26 %', 'Wind Speed is: 13.56 mph')\n",
      "('#39 city is: yefremov', 'Temperature is: 67.5 Fahrenheit', 'Humidity is: 83 %', 'Cloudiness is: 0 %', 'Wind Speed is: 4.97 mph')\n",
      "('#40 city is: hofn', 'Temperature is: 49.08 Fahrenheit', 'Humidity is: 70 %', 'Cloudiness is: 3 %', 'Wind Speed is: 3.58 mph')\n",
      "('#41 city is: trairi', 'Temperature is: 81.5 Fahrenheit', 'Humidity is: 79 %', 'Cloudiness is: 66 %', 'Wind Speed is: 13.22 mph')\n",
      "('#42 city is: marsa matruh', 'Temperature is: 72.27 Fahrenheit', 'Humidity is: 78 %', 'Cloudiness is: 0 %', 'Wind Speed is: 21.18 mph')\n",
      "('#43 city is: lisala', 'Temperature is: 69.89 Fahrenheit', 'Humidity is: 93 %', 'Cloudiness is: 100 %', 'Wind Speed is: 1.41 mph')\n",
      "('#44 city is: sur', 'Temperature is: 83.95 Fahrenheit', 'Humidity is: 87 %', 'Cloudiness is: 36 %', 'Wind Speed is: 16.35 mph')\n",
      "('#45 city is: buta', 'Temperature is: 68 Fahrenheit', 'Humidity is: 98 %', 'Cloudiness is: 98 %', 'Wind Speed is: 0.98 mph')\n",
      "('#46 city is: sisimiut', 'Temperature is: 34.07 Fahrenheit', 'Humidity is: 91 %', 'Cloudiness is: 34 %', 'Wind Speed is: 15.3 mph')\n",
      "('#47 city is: tabou', 'Temperature is: 74.68 Fahrenheit', 'Humidity is: 90 %', 'Cloudiness is: 0 %', 'Wind Speed is: 11.34 mph')\n",
      "('#48 city is: necochea', 'Temperature is: 49.23 Fahrenheit', 'Humidity is: 80 %', 'Cloudiness is: 100 %', 'Wind Speed is: 8.99 mph')\n",
      "('#49 city is: vila velha', 'Temperature is: 64.36 Fahrenheit', 'Humidity is: 59 %', 'Cloudiness is: 8 %', 'Wind Speed is: 12.82 mph')\n",
      "('#50 city is: cape town', 'Temperature is: 65.89 Fahrenheit', 'Humidity is: 71 %', 'Cloudiness is: 100 %', 'Wind Speed is: 22.48 mph')\n",
      "('#51 city is: georgetown', 'Temperature is: 73.27 Fahrenheit', 'Humidity is: 65 %', 'Cloudiness is: 19 %', 'Wind Speed is: 7.94 mph')\n",
      "('#52 city is: tsihombe', 'Temperature is: 60.48 Fahrenheit', 'Humidity is: 79 %', 'Cloudiness is: 78 %', 'Wind Speed is: 13.89 mph')\n",
      "('#53 city is: arraial do cabo', 'Temperature is: 47.21 Fahrenheit', 'Humidity is: 77 %', 'Cloudiness is: 100 %', 'Wind Speed is: 9.69 mph')\n",
      "('#54 city is: ushuaia', 'Temperature is: 19.51 Fahrenheit', 'Humidity is: 97 %', 'Cloudiness is: 95 %', 'Wind Speed is: 13.24 mph')\n",
      "('#55 city is: belmonte', 'Temperature is: 75.94 Fahrenheit', 'Humidity is: 79 %', 'Cloudiness is: 33 %', 'Wind Speed is: 23.76 mph')\n",
      "('#56 city is: bom jesus', 'Temperature is: 72.84 Fahrenheit', 'Humidity is: 54 %', 'Cloudiness is: 45 %', 'Wind Speed is: 7.52 mph')\n",
      "('#57 city is: souillac', 'Temperature is: 56.8 Fahrenheit', 'Humidity is: 77 %', 'Cloudiness is: 99 %', 'Wind Speed is: 29.8 mph')\n",
      "('#58 city is: jamestown', 'Temperature is: 58.75 Fahrenheit', 'Humidity is: 57 %', 'Cloudiness is: 79 %', 'Wind Speed is: 16.44 mph')\n",
      "('#59 city is: cape town', 'Temperature is: -22.34 Fahrenheit', 'Humidity is: 87 %', 'Cloudiness is: 12 %', 'Wind Speed is: 5.44 mph')\n",
      "('#60 city is: saint-paul', 'Temperature is: 72.34 Fahrenheit', 'Humidity is: 75 %', 'Cloudiness is: 73 %', 'Wind Speed is: 26.8 mph')\n",
      "('#61 city is: cayenne', 'Temperature is: 81.05 Fahrenheit', 'Humidity is: 81 %', 'Cloudiness is: 89 %', 'Wind Speed is: 17.81 mph')\n",
      "('#62 city is: cayenne', 'Temperature is: 81.05 Fahrenheit', 'Humidity is: 81 %', 'Cloudiness is: 89 %', 'Wind Speed is: 17.81 mph')\n",
      "('#63 city is: buta', 'Temperature is: 69.53 Fahrenheit', 'Humidity is: 97 %', 'Cloudiness is: 100 %', 'Wind Speed is: 1.43 mph')\n"
     ]
    },
    {
     "name": "stdout",
     "output_type": "stream",
     "text": [
      "('#64 city is: uspenka', 'Temperature is: 53.73 Fahrenheit', 'Humidity is: 53 %', 'Cloudiness is: 77 %', 'Wind Speed is: 10.25 mph')\n",
      "('#65 city is: ercis', 'Temperature is: 59 Fahrenheit', 'Humidity is: 67 %', 'Cloudiness is: 20 %', 'Wind Speed is: 4.36 mph')\n",
      "('#66 city is: pangnirtung', 'Temperature is: 28.4 Fahrenheit', 'Humidity is: 100 %', 'Cloudiness is: 90 %', 'Wind Speed is: 12.75 mph')\n",
      "('#67 city is: kalaleh', 'Temperature is: 70.12 Fahrenheit', 'Humidity is: 25 %', 'Cloudiness is: 0 %', 'Wind Speed is: 3.2 mph')\n",
      "('#68 city is: carutapera', 'Temperature is: 80.44 Fahrenheit', 'Humidity is: 83 %', 'Cloudiness is: 26 %', 'Wind Speed is: 13.56 mph')\n",
      "('#69 city is: yefremov', 'Temperature is: 67.5 Fahrenheit', 'Humidity is: 83 %', 'Cloudiness is: 0 %', 'Wind Speed is: 4.97 mph')\n",
      "('#70 city is: hofn', 'Temperature is: 49.08 Fahrenheit', 'Humidity is: 70 %', 'Cloudiness is: 3 %', 'Wind Speed is: 3.58 mph')\n",
      "('#71 city is: trairi', 'Temperature is: 81.5 Fahrenheit', 'Humidity is: 79 %', 'Cloudiness is: 66 %', 'Wind Speed is: 13.22 mph')\n",
      "('#72 city is: marsa matruh', 'Temperature is: 72.27 Fahrenheit', 'Humidity is: 78 %', 'Cloudiness is: 0 %', 'Wind Speed is: 21.18 mph')\n",
      "('#73 city is: lisala', 'Temperature is: 69.89 Fahrenheit', 'Humidity is: 93 %', 'Cloudiness is: 100 %', 'Wind Speed is: 1.41 mph')\n",
      "('#74 city is: sur', 'Temperature is: 83.95 Fahrenheit', 'Humidity is: 87 %', 'Cloudiness is: 36 %', 'Wind Speed is: 16.35 mph')\n",
      "('#75 city is: buta', 'Temperature is: 68 Fahrenheit', 'Humidity is: 98 %', 'Cloudiness is: 98 %', 'Wind Speed is: 0.98 mph')\n",
      "('#76 city is: sisimiut', 'Temperature is: 34.07 Fahrenheit', 'Humidity is: 91 %', 'Cloudiness is: 34 %', 'Wind Speed is: 15.3 mph')\n",
      "('#77 city is: tabou', 'Temperature is: 74.68 Fahrenheit', 'Humidity is: 90 %', 'Cloudiness is: 0 %', 'Wind Speed is: 11.34 mph')\n",
      "('#78 city is: necochea', 'Temperature is: 49.23 Fahrenheit', 'Humidity is: 80 %', 'Cloudiness is: 100 %', 'Wind Speed is: 8.99 mph')\n",
      "('#79 city is: vila velha', 'Temperature is: 64.36 Fahrenheit', 'Humidity is: 59 %', 'Cloudiness is: 8 %', 'Wind Speed is: 12.82 mph')\n",
      "('#80 city is: cape town', 'Temperature is: 65.89 Fahrenheit', 'Humidity is: 71 %', 'Cloudiness is: 100 %', 'Wind Speed is: 22.48 mph')\n",
      "('#81 city is: georgetown', 'Temperature is: 73.27 Fahrenheit', 'Humidity is: 65 %', 'Cloudiness is: 19 %', 'Wind Speed is: 7.94 mph')\n",
      "('#82 city is: tsihombe', 'Temperature is: 60.48 Fahrenheit', 'Humidity is: 79 %', 'Cloudiness is: 78 %', 'Wind Speed is: 13.89 mph')\n",
      "('#83 city is: arraial do cabo', 'Temperature is: 47.21 Fahrenheit', 'Humidity is: 77 %', 'Cloudiness is: 100 %', 'Wind Speed is: 9.69 mph')\n",
      "('#84 city is: ushuaia', 'Temperature is: 19.51 Fahrenheit', 'Humidity is: 97 %', 'Cloudiness is: 95 %', 'Wind Speed is: 13.24 mph')\n",
      "('#85 city is: belmonte', 'Temperature is: 75.94 Fahrenheit', 'Humidity is: 79 %', 'Cloudiness is: 33 %', 'Wind Speed is: 23.76 mph')\n",
      "('#86 city is: bom jesus', 'Temperature is: 72.84 Fahrenheit', 'Humidity is: 54 %', 'Cloudiness is: 45 %', 'Wind Speed is: 7.52 mph')\n",
      "('#87 city is: souillac', 'Temperature is: 56.8 Fahrenheit', 'Humidity is: 77 %', 'Cloudiness is: 99 %', 'Wind Speed is: 29.8 mph')\n",
      "('#88 city is: jamestown', 'Temperature is: 58.75 Fahrenheit', 'Humidity is: 57 %', 'Cloudiness is: 79 %', 'Wind Speed is: 16.44 mph')\n",
      "('#89 city is: cape town', 'Temperature is: -22.34 Fahrenheit', 'Humidity is: 87 %', 'Cloudiness is: 12 %', 'Wind Speed is: 5.44 mph')\n",
      "('#90 city is: saint-paul', 'Temperature is: 72.34 Fahrenheit', 'Humidity is: 75 %', 'Cloudiness is: 73 %', 'Wind Speed is: 26.8 mph')\n",
      "('#91 city is: cayenne', 'Temperature is: 81.05 Fahrenheit', 'Humidity is: 81 %', 'Cloudiness is: 89 %', 'Wind Speed is: 17.81 mph')\n",
      "('#92 city is: cayenne', 'Temperature is: 81.05 Fahrenheit', 'Humidity is: 81 %', 'Cloudiness is: 89 %', 'Wind Speed is: 17.81 mph')\n",
      "('#93 city is: buta', 'Temperature is: 69.53 Fahrenheit', 'Humidity is: 97 %', 'Cloudiness is: 100 %', 'Wind Speed is: 1.43 mph')\n",
      "('#94 city is: uspenka', 'Temperature is: 53.73 Fahrenheit', 'Humidity is: 53 %', 'Cloudiness is: 77 %', 'Wind Speed is: 10.25 mph')\n",
      "('#95 city is: ercis', 'Temperature is: 59 Fahrenheit', 'Humidity is: 67 %', 'Cloudiness is: 20 %', 'Wind Speed is: 4.36 mph')\n",
      "('#96 city is: pangnirtung', 'Temperature is: 28.4 Fahrenheit', 'Humidity is: 100 %', 'Cloudiness is: 90 %', 'Wind Speed is: 12.75 mph')\n",
      "('#97 city is: kalaleh', 'Temperature is: 70.12 Fahrenheit', 'Humidity is: 25 %', 'Cloudiness is: 0 %', 'Wind Speed is: 3.2 mph')\n",
      "('#98 city is: carutapera', 'Temperature is: 80.44 Fahrenheit', 'Humidity is: 83 %', 'Cloudiness is: 26 %', 'Wind Speed is: 13.56 mph')\n",
      "('#99 city is: yefremov', 'Temperature is: 67.5 Fahrenheit', 'Humidity is: 83 %', 'Cloudiness is: 0 %', 'Wind Speed is: 4.97 mph')\n",
      "('#100 city is: hofn', 'Temperature is: 49.08 Fahrenheit', 'Humidity is: 70 %', 'Cloudiness is: 3 %', 'Wind Speed is: 3.58 mph')\n",
      "('#101 city is: trairi', 'Temperature is: 81.5 Fahrenheit', 'Humidity is: 79 %', 'Cloudiness is: 66 %', 'Wind Speed is: 13.22 mph')\n",
      "('#102 city is: marsa matruh', 'Temperature is: 72.27 Fahrenheit', 'Humidity is: 78 %', 'Cloudiness is: 0 %', 'Wind Speed is: 21.18 mph')\n",
      "('#103 city is: lisala', 'Temperature is: 69.89 Fahrenheit', 'Humidity is: 93 %', 'Cloudiness is: 100 %', 'Wind Speed is: 1.41 mph')\n",
      "('#104 city is: sur', 'Temperature is: 83.95 Fahrenheit', 'Humidity is: 87 %', 'Cloudiness is: 36 %', 'Wind Speed is: 16.35 mph')\n",
      "('#105 city is: buta', 'Temperature is: 68 Fahrenheit', 'Humidity is: 98 %', 'Cloudiness is: 98 %', 'Wind Speed is: 0.98 mph')\n",
      "('#106 city is: sisimiut', 'Temperature is: 34.07 Fahrenheit', 'Humidity is: 91 %', 'Cloudiness is: 34 %', 'Wind Speed is: 15.3 mph')\n",
      "('#107 city is: tabou', 'Temperature is: 74.68 Fahrenheit', 'Humidity is: 90 %', 'Cloudiness is: 0 %', 'Wind Speed is: 11.34 mph')\n",
      "('#108 city is: necochea', 'Temperature is: 49.23 Fahrenheit', 'Humidity is: 80 %', 'Cloudiness is: 100 %', 'Wind Speed is: 8.99 mph')\n",
      "('#109 city is: vila velha', 'Temperature is: 64.36 Fahrenheit', 'Humidity is: 59 %', 'Cloudiness is: 8 %', 'Wind Speed is: 12.82 mph')\n",
      "('#110 city is: cape town', 'Temperature is: 65.89 Fahrenheit', 'Humidity is: 71 %', 'Cloudiness is: 100 %', 'Wind Speed is: 22.48 mph')\n",
      "('#111 city is: georgetown', 'Temperature is: 73.27 Fahrenheit', 'Humidity is: 65 %', 'Cloudiness is: 19 %', 'Wind Speed is: 7.94 mph')\n",
      "('#112 city is: tsihombe', 'Temperature is: 60.48 Fahrenheit', 'Humidity is: 79 %', 'Cloudiness is: 78 %', 'Wind Speed is: 13.89 mph')\n",
      "('#113 city is: arraial do cabo', 'Temperature is: 47.21 Fahrenheit', 'Humidity is: 77 %', 'Cloudiness is: 100 %', 'Wind Speed is: 9.69 mph')\n",
      "('#114 city is: ushuaia', 'Temperature is: 19.51 Fahrenheit', 'Humidity is: 97 %', 'Cloudiness is: 95 %', 'Wind Speed is: 13.24 mph')\n",
      "('#115 city is: belmonte', 'Temperature is: 75.94 Fahrenheit', 'Humidity is: 79 %', 'Cloudiness is: 33 %', 'Wind Speed is: 23.76 mph')\n",
      "('#116 city is: bom jesus', 'Temperature is: 72.84 Fahrenheit', 'Humidity is: 54 %', 'Cloudiness is: 45 %', 'Wind Speed is: 7.52 mph')\n",
      "('#117 city is: souillac', 'Temperature is: 56.8 Fahrenheit', 'Humidity is: 77 %', 'Cloudiness is: 99 %', 'Wind Speed is: 29.8 mph')\n",
      "('#118 city is: jamestown', 'Temperature is: 58.75 Fahrenheit', 'Humidity is: 57 %', 'Cloudiness is: 79 %', 'Wind Speed is: 16.44 mph')\n",
      "('#119 city is: cape town', 'Temperature is: -22.34 Fahrenheit', 'Humidity is: 87 %', 'Cloudiness is: 12 %', 'Wind Speed is: 5.44 mph')\n",
      "('#120 city is: saint-paul', 'Temperature is: 72.34 Fahrenheit', 'Humidity is: 75 %', 'Cloudiness is: 73 %', 'Wind Speed is: 26.8 mph')\n",
      "('#121 city is: cayenne', 'Temperature is: 81.05 Fahrenheit', 'Humidity is: 81 %', 'Cloudiness is: 89 %', 'Wind Speed is: 17.81 mph')\n",
      "('#122 city is: cayenne', 'Temperature is: 81.05 Fahrenheit', 'Humidity is: 81 %', 'Cloudiness is: 89 %', 'Wind Speed is: 17.81 mph')\n",
      "('#123 city is: buta', 'Temperature is: 69.53 Fahrenheit', 'Humidity is: 97 %', 'Cloudiness is: 100 %', 'Wind Speed is: 1.43 mph')\n",
      "('#124 city is: uspenka', 'Temperature is: 53.73 Fahrenheit', 'Humidity is: 53 %', 'Cloudiness is: 77 %', 'Wind Speed is: 10.25 mph')\n",
      "('#125 city is: ercis', 'Temperature is: 59 Fahrenheit', 'Humidity is: 67 %', 'Cloudiness is: 20 %', 'Wind Speed is: 4.36 mph')\n",
      "('#126 city is: pangnirtung', 'Temperature is: 28.4 Fahrenheit', 'Humidity is: 100 %', 'Cloudiness is: 90 %', 'Wind Speed is: 12.75 mph')\n"
     ]
    },
    {
     "name": "stdout",
     "output_type": "stream",
     "text": [
      "('#127 city is: kalaleh', 'Temperature is: 70.12 Fahrenheit', 'Humidity is: 25 %', 'Cloudiness is: 0 %', 'Wind Speed is: 3.2 mph')\n",
      "('#128 city is: carutapera', 'Temperature is: 80.44 Fahrenheit', 'Humidity is: 83 %', 'Cloudiness is: 26 %', 'Wind Speed is: 13.56 mph')\n",
      "('#129 city is: yefremov', 'Temperature is: 67.5 Fahrenheit', 'Humidity is: 83 %', 'Cloudiness is: 0 %', 'Wind Speed is: 4.97 mph')\n",
      "('#130 city is: hofn', 'Temperature is: 49.08 Fahrenheit', 'Humidity is: 70 %', 'Cloudiness is: 3 %', 'Wind Speed is: 3.58 mph')\n",
      "('#131 city is: trairi', 'Temperature is: 81.5 Fahrenheit', 'Humidity is: 79 %', 'Cloudiness is: 66 %', 'Wind Speed is: 13.22 mph')\n",
      "('#132 city is: marsa matruh', 'Temperature is: 72.27 Fahrenheit', 'Humidity is: 78 %', 'Cloudiness is: 0 %', 'Wind Speed is: 21.18 mph')\n",
      "('#133 city is: lisala', 'Temperature is: 69.89 Fahrenheit', 'Humidity is: 93 %', 'Cloudiness is: 100 %', 'Wind Speed is: 1.41 mph')\n",
      "('#134 city is: sur', 'Temperature is: 83.95 Fahrenheit', 'Humidity is: 87 %', 'Cloudiness is: 36 %', 'Wind Speed is: 16.35 mph')\n",
      "('#135 city is: buta', 'Temperature is: 68 Fahrenheit', 'Humidity is: 98 %', 'Cloudiness is: 98 %', 'Wind Speed is: 0.98 mph')\n",
      "('#136 city is: sisimiut', 'Temperature is: 34.07 Fahrenheit', 'Humidity is: 91 %', 'Cloudiness is: 34 %', 'Wind Speed is: 15.3 mph')\n",
      "('#137 city is: tabou', 'Temperature is: 74.68 Fahrenheit', 'Humidity is: 90 %', 'Cloudiness is: 0 %', 'Wind Speed is: 11.34 mph')\n",
      "('#138 city is: necochea', 'Temperature is: 49.23 Fahrenheit', 'Humidity is: 80 %', 'Cloudiness is: 100 %', 'Wind Speed is: 8.99 mph')\n",
      "('#139 city is: vila velha', 'Temperature is: 64.36 Fahrenheit', 'Humidity is: 59 %', 'Cloudiness is: 8 %', 'Wind Speed is: 12.82 mph')\n",
      "('#140 city is: cape town', 'Temperature is: 65.89 Fahrenheit', 'Humidity is: 71 %', 'Cloudiness is: 100 %', 'Wind Speed is: 22.48 mph')\n",
      "('#141 city is: georgetown', 'Temperature is: 73.27 Fahrenheit', 'Humidity is: 65 %', 'Cloudiness is: 19 %', 'Wind Speed is: 7.94 mph')\n",
      "('#142 city is: tsihombe', 'Temperature is: 60.48 Fahrenheit', 'Humidity is: 79 %', 'Cloudiness is: 78 %', 'Wind Speed is: 13.89 mph')\n",
      "('#143 city is: arraial do cabo', 'Temperature is: 47.21 Fahrenheit', 'Humidity is: 77 %', 'Cloudiness is: 100 %', 'Wind Speed is: 9.69 mph')\n",
      "('#144 city is: ushuaia', 'Temperature is: 19.51 Fahrenheit', 'Humidity is: 97 %', 'Cloudiness is: 95 %', 'Wind Speed is: 13.24 mph')\n",
      "('#145 city is: belmonte', 'Temperature is: 75.94 Fahrenheit', 'Humidity is: 79 %', 'Cloudiness is: 33 %', 'Wind Speed is: 23.76 mph')\n",
      "('#146 city is: bom jesus', 'Temperature is: 72.84 Fahrenheit', 'Humidity is: 54 %', 'Cloudiness is: 45 %', 'Wind Speed is: 7.52 mph')\n",
      "('#147 city is: souillac', 'Temperature is: 56.8 Fahrenheit', 'Humidity is: 77 %', 'Cloudiness is: 99 %', 'Wind Speed is: 29.8 mph')\n",
      "('#148 city is: jamestown', 'Temperature is: 58.75 Fahrenheit', 'Humidity is: 57 %', 'Cloudiness is: 79 %', 'Wind Speed is: 16.44 mph')\n",
      "('#149 city is: cape town', 'Temperature is: -22.34 Fahrenheit', 'Humidity is: 87 %', 'Cloudiness is: 12 %', 'Wind Speed is: 5.44 mph')\n",
      "('#150 city is: saint-paul', 'Temperature is: 72.34 Fahrenheit', 'Humidity is: 75 %', 'Cloudiness is: 73 %', 'Wind Speed is: 26.8 mph')\n",
      "('#151 city is: cayenne', 'Temperature is: 81.05 Fahrenheit', 'Humidity is: 81 %', 'Cloudiness is: 89 %', 'Wind Speed is: 17.81 mph')\n",
      "('#152 city is: cayenne', 'Temperature is: 81.05 Fahrenheit', 'Humidity is: 81 %', 'Cloudiness is: 89 %', 'Wind Speed is: 17.81 mph')\n",
      "('#153 city is: buta', 'Temperature is: 69.53 Fahrenheit', 'Humidity is: 97 %', 'Cloudiness is: 100 %', 'Wind Speed is: 1.43 mph')\n",
      "('#154 city is: uspenka', 'Temperature is: 53.73 Fahrenheit', 'Humidity is: 53 %', 'Cloudiness is: 77 %', 'Wind Speed is: 10.25 mph')\n",
      "('#155 city is: ercis', 'Temperature is: 59 Fahrenheit', 'Humidity is: 67 %', 'Cloudiness is: 20 %', 'Wind Speed is: 4.36 mph')\n",
      "('#156 city is: pangnirtung', 'Temperature is: 28.4 Fahrenheit', 'Humidity is: 100 %', 'Cloudiness is: 90 %', 'Wind Speed is: 12.75 mph')\n",
      "('#157 city is: kalaleh', 'Temperature is: 70.12 Fahrenheit', 'Humidity is: 25 %', 'Cloudiness is: 0 %', 'Wind Speed is: 3.2 mph')\n",
      "('#158 city is: carutapera', 'Temperature is: 80.44 Fahrenheit', 'Humidity is: 83 %', 'Cloudiness is: 26 %', 'Wind Speed is: 13.56 mph')\n",
      "('#159 city is: yefremov', 'Temperature is: 67.5 Fahrenheit', 'Humidity is: 83 %', 'Cloudiness is: 0 %', 'Wind Speed is: 4.97 mph')\n",
      "('#160 city is: hofn', 'Temperature is: 49.08 Fahrenheit', 'Humidity is: 70 %', 'Cloudiness is: 3 %', 'Wind Speed is: 3.58 mph')\n",
      "('#161 city is: trairi', 'Temperature is: 81.5 Fahrenheit', 'Humidity is: 79 %', 'Cloudiness is: 66 %', 'Wind Speed is: 13.22 mph')\n",
      "('#162 city is: marsa matruh', 'Temperature is: 72.27 Fahrenheit', 'Humidity is: 78 %', 'Cloudiness is: 0 %', 'Wind Speed is: 21.18 mph')\n",
      "('#163 city is: lisala', 'Temperature is: 69.89 Fahrenheit', 'Humidity is: 93 %', 'Cloudiness is: 100 %', 'Wind Speed is: 1.41 mph')\n",
      "('#164 city is: sur', 'Temperature is: 83.95 Fahrenheit', 'Humidity is: 87 %', 'Cloudiness is: 36 %', 'Wind Speed is: 16.35 mph')\n",
      "('#165 city is: buta', 'Temperature is: 68 Fahrenheit', 'Humidity is: 98 %', 'Cloudiness is: 98 %', 'Wind Speed is: 0.98 mph')\n",
      "('#166 city is: sisimiut', 'Temperature is: 34.07 Fahrenheit', 'Humidity is: 91 %', 'Cloudiness is: 34 %', 'Wind Speed is: 15.3 mph')\n",
      "('#167 city is: tabou', 'Temperature is: 74.68 Fahrenheit', 'Humidity is: 90 %', 'Cloudiness is: 0 %', 'Wind Speed is: 11.34 mph')\n",
      "('#168 city is: necochea', 'Temperature is: 49.23 Fahrenheit', 'Humidity is: 80 %', 'Cloudiness is: 100 %', 'Wind Speed is: 8.99 mph')\n",
      "('#169 city is: vila velha', 'Temperature is: 64.36 Fahrenheit', 'Humidity is: 59 %', 'Cloudiness is: 8 %', 'Wind Speed is: 12.82 mph')\n",
      "('#170 city is: cape town', 'Temperature is: 65.89 Fahrenheit', 'Humidity is: 71 %', 'Cloudiness is: 100 %', 'Wind Speed is: 22.48 mph')\n",
      "('#171 city is: georgetown', 'Temperature is: 73.27 Fahrenheit', 'Humidity is: 65 %', 'Cloudiness is: 19 %', 'Wind Speed is: 7.94 mph')\n",
      "('#172 city is: tsihombe', 'Temperature is: 60.48 Fahrenheit', 'Humidity is: 79 %', 'Cloudiness is: 78 %', 'Wind Speed is: 13.89 mph')\n",
      "('#173 city is: arraial do cabo', 'Temperature is: 47.21 Fahrenheit', 'Humidity is: 77 %', 'Cloudiness is: 100 %', 'Wind Speed is: 9.69 mph')\n",
      "('#174 city is: ushuaia', 'Temperature is: 19.51 Fahrenheit', 'Humidity is: 97 %', 'Cloudiness is: 95 %', 'Wind Speed is: 13.24 mph')\n",
      "('#175 city is: belmonte', 'Temperature is: 75.94 Fahrenheit', 'Humidity is: 79 %', 'Cloudiness is: 33 %', 'Wind Speed is: 23.76 mph')\n",
      "('#176 city is: bom jesus', 'Temperature is: 72.84 Fahrenheit', 'Humidity is: 54 %', 'Cloudiness is: 45 %', 'Wind Speed is: 7.52 mph')\n",
      "('#177 city is: souillac', 'Temperature is: 56.8 Fahrenheit', 'Humidity is: 77 %', 'Cloudiness is: 99 %', 'Wind Speed is: 29.8 mph')\n",
      "('#178 city is: jamestown', 'Temperature is: 58.75 Fahrenheit', 'Humidity is: 57 %', 'Cloudiness is: 79 %', 'Wind Speed is: 16.44 mph')\n",
      "('#179 city is: cape town', 'Temperature is: -22.34 Fahrenheit', 'Humidity is: 87 %', 'Cloudiness is: 12 %', 'Wind Speed is: 5.44 mph')\n",
      "('#180 city is: saint-paul', 'Temperature is: 72.34 Fahrenheit', 'Humidity is: 75 %', 'Cloudiness is: 73 %', 'Wind Speed is: 26.8 mph')\n",
      "('#181 city is: cayenne', 'Temperature is: 81.05 Fahrenheit', 'Humidity is: 81 %', 'Cloudiness is: 89 %', 'Wind Speed is: 17.81 mph')\n",
      "('#182 city is: cayenne', 'Temperature is: 81.05 Fahrenheit', 'Humidity is: 81 %', 'Cloudiness is: 89 %', 'Wind Speed is: 17.81 mph')\n",
      "('#183 city is: buta', 'Temperature is: 69.53 Fahrenheit', 'Humidity is: 97 %', 'Cloudiness is: 100 %', 'Wind Speed is: 1.43 mph')\n",
      "('#184 city is: uspenka', 'Temperature is: 53.73 Fahrenheit', 'Humidity is: 53 %', 'Cloudiness is: 77 %', 'Wind Speed is: 10.25 mph')\n",
      "('#185 city is: ercis', 'Temperature is: 59 Fahrenheit', 'Humidity is: 67 %', 'Cloudiness is: 20 %', 'Wind Speed is: 4.36 mph')\n",
      "('#186 city is: pangnirtung', 'Temperature is: 28.4 Fahrenheit', 'Humidity is: 100 %', 'Cloudiness is: 90 %', 'Wind Speed is: 12.75 mph')\n",
      "('#187 city is: kalaleh', 'Temperature is: 70.12 Fahrenheit', 'Humidity is: 25 %', 'Cloudiness is: 0 %', 'Wind Speed is: 3.2 mph')\n",
      "('#188 city is: carutapera', 'Temperature is: 80.44 Fahrenheit', 'Humidity is: 83 %', 'Cloudiness is: 26 %', 'Wind Speed is: 13.56 mph')\n",
      "('#189 city is: yefremov', 'Temperature is: 67.5 Fahrenheit', 'Humidity is: 83 %', 'Cloudiness is: 0 %', 'Wind Speed is: 4.97 mph')\n",
      "('#190 city is: hofn', 'Temperature is: 49.08 Fahrenheit', 'Humidity is: 70 %', 'Cloudiness is: 3 %', 'Wind Speed is: 3.58 mph')\n"
     ]
    },
    {
     "name": "stdout",
     "output_type": "stream",
     "text": [
      "('#191 city is: trairi', 'Temperature is: 81.5 Fahrenheit', 'Humidity is: 79 %', 'Cloudiness is: 66 %', 'Wind Speed is: 13.22 mph')\n",
      "('#192 city is: marsa matruh', 'Temperature is: 72.27 Fahrenheit', 'Humidity is: 78 %', 'Cloudiness is: 0 %', 'Wind Speed is: 21.18 mph')\n",
      "('#193 city is: lisala', 'Temperature is: 69.89 Fahrenheit', 'Humidity is: 93 %', 'Cloudiness is: 100 %', 'Wind Speed is: 1.41 mph')\n",
      "('#194 city is: sur', 'Temperature is: 83.95 Fahrenheit', 'Humidity is: 87 %', 'Cloudiness is: 36 %', 'Wind Speed is: 16.35 mph')\n",
      "('#195 city is: buta', 'Temperature is: 68 Fahrenheit', 'Humidity is: 98 %', 'Cloudiness is: 98 %', 'Wind Speed is: 0.98 mph')\n",
      "('#196 city is: sisimiut', 'Temperature is: 34.07 Fahrenheit', 'Humidity is: 91 %', 'Cloudiness is: 34 %', 'Wind Speed is: 15.3 mph')\n",
      "('#197 city is: tabou', 'Temperature is: 74.68 Fahrenheit', 'Humidity is: 90 %', 'Cloudiness is: 0 %', 'Wind Speed is: 11.34 mph')\n",
      "('#198 city is: necochea', 'Temperature is: 49.23 Fahrenheit', 'Humidity is: 80 %', 'Cloudiness is: 100 %', 'Wind Speed is: 8.99 mph')\n",
      "('#199 city is: vila velha', 'Temperature is: 64.36 Fahrenheit', 'Humidity is: 59 %', 'Cloudiness is: 8 %', 'Wind Speed is: 12.82 mph')\n",
      "('#200 city is: cape town', 'Temperature is: 65.89 Fahrenheit', 'Humidity is: 71 %', 'Cloudiness is: 100 %', 'Wind Speed is: 22.48 mph')\n",
      "('#201 city is: georgetown', 'Temperature is: 73.27 Fahrenheit', 'Humidity is: 65 %', 'Cloudiness is: 19 %', 'Wind Speed is: 7.94 mph')\n",
      "('#202 city is: tsihombe', 'Temperature is: 60.48 Fahrenheit', 'Humidity is: 79 %', 'Cloudiness is: 78 %', 'Wind Speed is: 13.89 mph')\n",
      "('#203 city is: arraial do cabo', 'Temperature is: 47.21 Fahrenheit', 'Humidity is: 77 %', 'Cloudiness is: 100 %', 'Wind Speed is: 9.69 mph')\n",
      "('#204 city is: ushuaia', 'Temperature is: 19.51 Fahrenheit', 'Humidity is: 97 %', 'Cloudiness is: 95 %', 'Wind Speed is: 13.24 mph')\n",
      "('#205 city is: belmonte', 'Temperature is: 75.94 Fahrenheit', 'Humidity is: 79 %', 'Cloudiness is: 33 %', 'Wind Speed is: 23.76 mph')\n",
      "('#206 city is: bom jesus', 'Temperature is: 72.84 Fahrenheit', 'Humidity is: 54 %', 'Cloudiness is: 45 %', 'Wind Speed is: 7.52 mph')\n",
      "('#207 city is: souillac', 'Temperature is: 56.8 Fahrenheit', 'Humidity is: 77 %', 'Cloudiness is: 99 %', 'Wind Speed is: 29.8 mph')\n",
      "('#208 city is: jamestown', 'Temperature is: 58.75 Fahrenheit', 'Humidity is: 57 %', 'Cloudiness is: 79 %', 'Wind Speed is: 16.44 mph')\n",
      "('#209 city is: cape town', 'Temperature is: -22.34 Fahrenheit', 'Humidity is: 87 %', 'Cloudiness is: 12 %', 'Wind Speed is: 5.44 mph')\n",
      "('#210 city is: saint-paul', 'Temperature is: 72.34 Fahrenheit', 'Humidity is: 75 %', 'Cloudiness is: 73 %', 'Wind Speed is: 26.8 mph')\n",
      "('#211 city is: cayenne', 'Temperature is: 81.05 Fahrenheit', 'Humidity is: 81 %', 'Cloudiness is: 89 %', 'Wind Speed is: 17.81 mph')\n",
      "('#212 city is: cayenne', 'Temperature is: 81.05 Fahrenheit', 'Humidity is: 81 %', 'Cloudiness is: 89 %', 'Wind Speed is: 17.81 mph')\n",
      "('#213 city is: buta', 'Temperature is: 69.53 Fahrenheit', 'Humidity is: 97 %', 'Cloudiness is: 100 %', 'Wind Speed is: 1.43 mph')\n",
      "('#214 city is: uspenka', 'Temperature is: 53.73 Fahrenheit', 'Humidity is: 53 %', 'Cloudiness is: 77 %', 'Wind Speed is: 10.25 mph')\n",
      "('#215 city is: ercis', 'Temperature is: 59 Fahrenheit', 'Humidity is: 67 %', 'Cloudiness is: 20 %', 'Wind Speed is: 4.36 mph')\n",
      "('#216 city is: pangnirtung', 'Temperature is: 28.4 Fahrenheit', 'Humidity is: 100 %', 'Cloudiness is: 90 %', 'Wind Speed is: 12.75 mph')\n",
      "('#217 city is: kalaleh', 'Temperature is: 70.12 Fahrenheit', 'Humidity is: 25 %', 'Cloudiness is: 0 %', 'Wind Speed is: 3.2 mph')\n",
      "('#218 city is: carutapera', 'Temperature is: 80.44 Fahrenheit', 'Humidity is: 83 %', 'Cloudiness is: 26 %', 'Wind Speed is: 13.56 mph')\n",
      "('#219 city is: yefremov', 'Temperature is: 67.5 Fahrenheit', 'Humidity is: 83 %', 'Cloudiness is: 0 %', 'Wind Speed is: 4.97 mph')\n",
      "('#220 city is: hofn', 'Temperature is: 49.08 Fahrenheit', 'Humidity is: 70 %', 'Cloudiness is: 3 %', 'Wind Speed is: 3.58 mph')\n",
      "('#221 city is: trairi', 'Temperature is: 81.5 Fahrenheit', 'Humidity is: 79 %', 'Cloudiness is: 66 %', 'Wind Speed is: 13.22 mph')\n",
      "('#222 city is: marsa matruh', 'Temperature is: 72.27 Fahrenheit', 'Humidity is: 78 %', 'Cloudiness is: 0 %', 'Wind Speed is: 21.18 mph')\n",
      "('#223 city is: lisala', 'Temperature is: 69.89 Fahrenheit', 'Humidity is: 93 %', 'Cloudiness is: 100 %', 'Wind Speed is: 1.41 mph')\n",
      "('#224 city is: sur', 'Temperature is: 83.95 Fahrenheit', 'Humidity is: 87 %', 'Cloudiness is: 36 %', 'Wind Speed is: 16.35 mph')\n",
      "('#225 city is: buta', 'Temperature is: 68 Fahrenheit', 'Humidity is: 98 %', 'Cloudiness is: 98 %', 'Wind Speed is: 0.98 mph')\n",
      "('#226 city is: sisimiut', 'Temperature is: 34.07 Fahrenheit', 'Humidity is: 91 %', 'Cloudiness is: 34 %', 'Wind Speed is: 15.3 mph')\n",
      "('#227 city is: tabou', 'Temperature is: 74.68 Fahrenheit', 'Humidity is: 90 %', 'Cloudiness is: 0 %', 'Wind Speed is: 11.34 mph')\n",
      "('#228 city is: necochea', 'Temperature is: 49.23 Fahrenheit', 'Humidity is: 80 %', 'Cloudiness is: 100 %', 'Wind Speed is: 8.99 mph')\n",
      "('#229 city is: vila velha', 'Temperature is: 64.36 Fahrenheit', 'Humidity is: 59 %', 'Cloudiness is: 8 %', 'Wind Speed is: 12.82 mph')\n",
      "('#230 city is: cape town', 'Temperature is: 65.89 Fahrenheit', 'Humidity is: 71 %', 'Cloudiness is: 100 %', 'Wind Speed is: 22.48 mph')\n",
      "('#231 city is: georgetown', 'Temperature is: 73.27 Fahrenheit', 'Humidity is: 65 %', 'Cloudiness is: 19 %', 'Wind Speed is: 7.94 mph')\n",
      "('#232 city is: tsihombe', 'Temperature is: 60.48 Fahrenheit', 'Humidity is: 79 %', 'Cloudiness is: 78 %', 'Wind Speed is: 13.89 mph')\n",
      "('#233 city is: arraial do cabo', 'Temperature is: 47.21 Fahrenheit', 'Humidity is: 77 %', 'Cloudiness is: 100 %', 'Wind Speed is: 9.69 mph')\n",
      "('#234 city is: ushuaia', 'Temperature is: 19.51 Fahrenheit', 'Humidity is: 97 %', 'Cloudiness is: 95 %', 'Wind Speed is: 13.24 mph')\n",
      "('#235 city is: belmonte', 'Temperature is: 75.94 Fahrenheit', 'Humidity is: 79 %', 'Cloudiness is: 33 %', 'Wind Speed is: 23.76 mph')\n",
      "('#236 city is: bom jesus', 'Temperature is: 72.84 Fahrenheit', 'Humidity is: 54 %', 'Cloudiness is: 45 %', 'Wind Speed is: 7.52 mph')\n",
      "('#237 city is: souillac', 'Temperature is: 56.8 Fahrenheit', 'Humidity is: 77 %', 'Cloudiness is: 99 %', 'Wind Speed is: 29.8 mph')\n",
      "('#238 city is: jamestown', 'Temperature is: 58.75 Fahrenheit', 'Humidity is: 57 %', 'Cloudiness is: 79 %', 'Wind Speed is: 16.44 mph')\n",
      "('#239 city is: cape town', 'Temperature is: -22.34 Fahrenheit', 'Humidity is: 87 %', 'Cloudiness is: 12 %', 'Wind Speed is: 5.44 mph')\n",
      "('#240 city is: saint-paul', 'Temperature is: 72.34 Fahrenheit', 'Humidity is: 75 %', 'Cloudiness is: 73 %', 'Wind Speed is: 26.8 mph')\n",
      "('#241 city is: cayenne', 'Temperature is: 81.05 Fahrenheit', 'Humidity is: 81 %', 'Cloudiness is: 89 %', 'Wind Speed is: 17.81 mph')\n",
      "('#242 city is: cayenne', 'Temperature is: 81.05 Fahrenheit', 'Humidity is: 81 %', 'Cloudiness is: 89 %', 'Wind Speed is: 17.81 mph')\n",
      "('#243 city is: buta', 'Temperature is: 69.53 Fahrenheit', 'Humidity is: 97 %', 'Cloudiness is: 100 %', 'Wind Speed is: 1.43 mph')\n",
      "('#244 city is: uspenka', 'Temperature is: 53.73 Fahrenheit', 'Humidity is: 53 %', 'Cloudiness is: 77 %', 'Wind Speed is: 10.25 mph')\n",
      "('#245 city is: ercis', 'Temperature is: 59 Fahrenheit', 'Humidity is: 67 %', 'Cloudiness is: 20 %', 'Wind Speed is: 4.36 mph')\n",
      "('#246 city is: pangnirtung', 'Temperature is: 28.4 Fahrenheit', 'Humidity is: 100 %', 'Cloudiness is: 90 %', 'Wind Speed is: 12.75 mph')\n",
      "('#247 city is: kalaleh', 'Temperature is: 70.12 Fahrenheit', 'Humidity is: 25 %', 'Cloudiness is: 0 %', 'Wind Speed is: 3.2 mph')\n",
      "('#248 city is: carutapera', 'Temperature is: 80.44 Fahrenheit', 'Humidity is: 83 %', 'Cloudiness is: 26 %', 'Wind Speed is: 13.56 mph')\n",
      "('#249 city is: yefremov', 'Temperature is: 67.5 Fahrenheit', 'Humidity is: 83 %', 'Cloudiness is: 0 %', 'Wind Speed is: 4.97 mph')\n",
      "('#250 city is: hofn', 'Temperature is: 49.08 Fahrenheit', 'Humidity is: 70 %', 'Cloudiness is: 3 %', 'Wind Speed is: 3.58 mph')\n",
      "('#251 city is: trairi', 'Temperature is: 81.5 Fahrenheit', 'Humidity is: 79 %', 'Cloudiness is: 66 %', 'Wind Speed is: 13.22 mph')\n",
      "('#252 city is: marsa matruh', 'Temperature is: 72.27 Fahrenheit', 'Humidity is: 78 %', 'Cloudiness is: 0 %', 'Wind Speed is: 21.18 mph')\n",
      "('#253 city is: lisala', 'Temperature is: 69.89 Fahrenheit', 'Humidity is: 93 %', 'Cloudiness is: 100 %', 'Wind Speed is: 1.41 mph')\n"
     ]
    },
    {
     "name": "stdout",
     "output_type": "stream",
     "text": [
      "('#254 city is: sur', 'Temperature is: 83.95 Fahrenheit', 'Humidity is: 87 %', 'Cloudiness is: 36 %', 'Wind Speed is: 16.35 mph')\n",
      "('#255 city is: buta', 'Temperature is: 68 Fahrenheit', 'Humidity is: 98 %', 'Cloudiness is: 98 %', 'Wind Speed is: 0.98 mph')\n",
      "('#256 city is: sisimiut', 'Temperature is: 34.07 Fahrenheit', 'Humidity is: 91 %', 'Cloudiness is: 34 %', 'Wind Speed is: 15.3 mph')\n",
      "('#257 city is: tabou', 'Temperature is: 74.68 Fahrenheit', 'Humidity is: 90 %', 'Cloudiness is: 0 %', 'Wind Speed is: 11.34 mph')\n",
      "('#258 city is: necochea', 'Temperature is: 49.23 Fahrenheit', 'Humidity is: 80 %', 'Cloudiness is: 100 %', 'Wind Speed is: 8.99 mph')\n",
      "('#259 city is: vila velha', 'Temperature is: 64.36 Fahrenheit', 'Humidity is: 59 %', 'Cloudiness is: 8 %', 'Wind Speed is: 12.82 mph')\n",
      "('#260 city is: cape town', 'Temperature is: 65.89 Fahrenheit', 'Humidity is: 71 %', 'Cloudiness is: 100 %', 'Wind Speed is: 22.48 mph')\n",
      "('#261 city is: georgetown', 'Temperature is: 73.27 Fahrenheit', 'Humidity is: 65 %', 'Cloudiness is: 19 %', 'Wind Speed is: 7.94 mph')\n",
      "('#262 city is: tsihombe', 'Temperature is: 60.48 Fahrenheit', 'Humidity is: 79 %', 'Cloudiness is: 78 %', 'Wind Speed is: 13.89 mph')\n",
      "('#263 city is: arraial do cabo', 'Temperature is: 47.21 Fahrenheit', 'Humidity is: 77 %', 'Cloudiness is: 100 %', 'Wind Speed is: 9.69 mph')\n",
      "('#264 city is: ushuaia', 'Temperature is: 19.51 Fahrenheit', 'Humidity is: 97 %', 'Cloudiness is: 95 %', 'Wind Speed is: 13.24 mph')\n",
      "('#265 city is: belmonte', 'Temperature is: 75.94 Fahrenheit', 'Humidity is: 79 %', 'Cloudiness is: 33 %', 'Wind Speed is: 23.76 mph')\n",
      "('#266 city is: bom jesus', 'Temperature is: 72.84 Fahrenheit', 'Humidity is: 54 %', 'Cloudiness is: 45 %', 'Wind Speed is: 7.52 mph')\n",
      "('#267 city is: souillac', 'Temperature is: 56.8 Fahrenheit', 'Humidity is: 77 %', 'Cloudiness is: 99 %', 'Wind Speed is: 29.8 mph')\n",
      "('#268 city is: jamestown', 'Temperature is: 58.75 Fahrenheit', 'Humidity is: 57 %', 'Cloudiness is: 79 %', 'Wind Speed is: 16.44 mph')\n",
      "('#269 city is: cape town', 'Temperature is: -22.34 Fahrenheit', 'Humidity is: 87 %', 'Cloudiness is: 12 %', 'Wind Speed is: 5.44 mph')\n",
      "('#270 city is: saint-paul', 'Temperature is: 72.34 Fahrenheit', 'Humidity is: 75 %', 'Cloudiness is: 73 %', 'Wind Speed is: 26.8 mph')\n",
      "('#271 city is: cayenne', 'Temperature is: 81.05 Fahrenheit', 'Humidity is: 81 %', 'Cloudiness is: 89 %', 'Wind Speed is: 17.81 mph')\n",
      "('#272 city is: cayenne', 'Temperature is: 81.05 Fahrenheit', 'Humidity is: 81 %', 'Cloudiness is: 89 %', 'Wind Speed is: 17.81 mph')\n",
      "('#273 city is: buta', 'Temperature is: 69.53 Fahrenheit', 'Humidity is: 97 %', 'Cloudiness is: 100 %', 'Wind Speed is: 1.43 mph')\n",
      "('#274 city is: uspenka', 'Temperature is: 53.73 Fahrenheit', 'Humidity is: 53 %', 'Cloudiness is: 77 %', 'Wind Speed is: 10.25 mph')\n",
      "('#275 city is: ercis', 'Temperature is: 59 Fahrenheit', 'Humidity is: 67 %', 'Cloudiness is: 20 %', 'Wind Speed is: 4.36 mph')\n",
      "('#276 city is: pangnirtung', 'Temperature is: 28.4 Fahrenheit', 'Humidity is: 100 %', 'Cloudiness is: 90 %', 'Wind Speed is: 12.75 mph')\n",
      "('#277 city is: kalaleh', 'Temperature is: 70.12 Fahrenheit', 'Humidity is: 25 %', 'Cloudiness is: 0 %', 'Wind Speed is: 3.2 mph')\n",
      "('#278 city is: carutapera', 'Temperature is: 80.44 Fahrenheit', 'Humidity is: 83 %', 'Cloudiness is: 26 %', 'Wind Speed is: 13.56 mph')\n",
      "('#279 city is: yefremov', 'Temperature is: 67.5 Fahrenheit', 'Humidity is: 83 %', 'Cloudiness is: 0 %', 'Wind Speed is: 4.97 mph')\n",
      "('#280 city is: hofn', 'Temperature is: 49.08 Fahrenheit', 'Humidity is: 70 %', 'Cloudiness is: 3 %', 'Wind Speed is: 3.58 mph')\n",
      "('#281 city is: trairi', 'Temperature is: 81.5 Fahrenheit', 'Humidity is: 79 %', 'Cloudiness is: 66 %', 'Wind Speed is: 13.22 mph')\n",
      "('#282 city is: marsa matruh', 'Temperature is: 72.27 Fahrenheit', 'Humidity is: 78 %', 'Cloudiness is: 0 %', 'Wind Speed is: 21.18 mph')\n",
      "('#283 city is: lisala', 'Temperature is: 69.89 Fahrenheit', 'Humidity is: 93 %', 'Cloudiness is: 100 %', 'Wind Speed is: 1.41 mph')\n",
      "('#284 city is: sur', 'Temperature is: 83.95 Fahrenheit', 'Humidity is: 87 %', 'Cloudiness is: 36 %', 'Wind Speed is: 16.35 mph')\n",
      "('#285 city is: buta', 'Temperature is: 68 Fahrenheit', 'Humidity is: 98 %', 'Cloudiness is: 98 %', 'Wind Speed is: 0.98 mph')\n",
      "('#286 city is: sisimiut', 'Temperature is: 34.07 Fahrenheit', 'Humidity is: 91 %', 'Cloudiness is: 34 %', 'Wind Speed is: 15.3 mph')\n",
      "('#287 city is: tabou', 'Temperature is: 74.68 Fahrenheit', 'Humidity is: 90 %', 'Cloudiness is: 0 %', 'Wind Speed is: 11.34 mph')\n",
      "('#288 city is: necochea', 'Temperature is: 49.23 Fahrenheit', 'Humidity is: 80 %', 'Cloudiness is: 100 %', 'Wind Speed is: 8.99 mph')\n",
      "('#289 city is: vila velha', 'Temperature is: 64.36 Fahrenheit', 'Humidity is: 59 %', 'Cloudiness is: 8 %', 'Wind Speed is: 12.82 mph')\n",
      "('#290 city is: cape town', 'Temperature is: 65.89 Fahrenheit', 'Humidity is: 71 %', 'Cloudiness is: 100 %', 'Wind Speed is: 22.48 mph')\n",
      "('#291 city is: georgetown', 'Temperature is: 73.27 Fahrenheit', 'Humidity is: 65 %', 'Cloudiness is: 19 %', 'Wind Speed is: 7.94 mph')\n",
      "('#292 city is: tsihombe', 'Temperature is: 60.48 Fahrenheit', 'Humidity is: 79 %', 'Cloudiness is: 78 %', 'Wind Speed is: 13.89 mph')\n",
      "('#293 city is: arraial do cabo', 'Temperature is: 47.21 Fahrenheit', 'Humidity is: 77 %', 'Cloudiness is: 100 %', 'Wind Speed is: 9.69 mph')\n",
      "('#294 city is: ushuaia', 'Temperature is: 19.51 Fahrenheit', 'Humidity is: 97 %', 'Cloudiness is: 95 %', 'Wind Speed is: 13.24 mph')\n",
      "('#295 city is: belmonte', 'Temperature is: 75.94 Fahrenheit', 'Humidity is: 79 %', 'Cloudiness is: 33 %', 'Wind Speed is: 23.76 mph')\n",
      "('#296 city is: bom jesus', 'Temperature is: 72.84 Fahrenheit', 'Humidity is: 54 %', 'Cloudiness is: 45 %', 'Wind Speed is: 7.52 mph')\n",
      "('#297 city is: souillac', 'Temperature is: 56.8 Fahrenheit', 'Humidity is: 77 %', 'Cloudiness is: 99 %', 'Wind Speed is: 29.8 mph')\n",
      "('#298 city is: jamestown', 'Temperature is: 58.75 Fahrenheit', 'Humidity is: 57 %', 'Cloudiness is: 79 %', 'Wind Speed is: 16.44 mph')\n",
      "('#299 city is: cape town', 'Temperature is: -22.34 Fahrenheit', 'Humidity is: 87 %', 'Cloudiness is: 12 %', 'Wind Speed is: 5.44 mph')\n",
      "('#300 city is: saint-paul', 'Temperature is: 72.34 Fahrenheit', 'Humidity is: 75 %', 'Cloudiness is: 73 %', 'Wind Speed is: 26.8 mph')\n",
      "('#301 city is: cayenne', 'Temperature is: 81.05 Fahrenheit', 'Humidity is: 81 %', 'Cloudiness is: 89 %', 'Wind Speed is: 17.81 mph')\n",
      "('#302 city is: cayenne', 'Temperature is: 81.05 Fahrenheit', 'Humidity is: 81 %', 'Cloudiness is: 89 %', 'Wind Speed is: 17.81 mph')\n",
      "('#303 city is: buta', 'Temperature is: 69.53 Fahrenheit', 'Humidity is: 97 %', 'Cloudiness is: 100 %', 'Wind Speed is: 1.43 mph')\n",
      "('#304 city is: uspenka', 'Temperature is: 53.73 Fahrenheit', 'Humidity is: 53 %', 'Cloudiness is: 77 %', 'Wind Speed is: 10.25 mph')\n",
      "('#305 city is: ercis', 'Temperature is: 59 Fahrenheit', 'Humidity is: 67 %', 'Cloudiness is: 20 %', 'Wind Speed is: 4.36 mph')\n",
      "('#306 city is: pangnirtung', 'Temperature is: 28.4 Fahrenheit', 'Humidity is: 100 %', 'Cloudiness is: 90 %', 'Wind Speed is: 12.75 mph')\n",
      "('#307 city is: kalaleh', 'Temperature is: 70.12 Fahrenheit', 'Humidity is: 25 %', 'Cloudiness is: 0 %', 'Wind Speed is: 3.2 mph')\n",
      "('#308 city is: carutapera', 'Temperature is: 80.44 Fahrenheit', 'Humidity is: 83 %', 'Cloudiness is: 26 %', 'Wind Speed is: 13.56 mph')\n",
      "('#309 city is: yefremov', 'Temperature is: 67.5 Fahrenheit', 'Humidity is: 83 %', 'Cloudiness is: 0 %', 'Wind Speed is: 4.97 mph')\n",
      "('#310 city is: hofn', 'Temperature is: 49.08 Fahrenheit', 'Humidity is: 70 %', 'Cloudiness is: 3 %', 'Wind Speed is: 3.58 mph')\n",
      "('#311 city is: trairi', 'Temperature is: 81.5 Fahrenheit', 'Humidity is: 79 %', 'Cloudiness is: 66 %', 'Wind Speed is: 13.22 mph')\n",
      "('#312 city is: marsa matruh', 'Temperature is: 72.27 Fahrenheit', 'Humidity is: 78 %', 'Cloudiness is: 0 %', 'Wind Speed is: 21.18 mph')\n",
      "('#313 city is: lisala', 'Temperature is: 69.89 Fahrenheit', 'Humidity is: 93 %', 'Cloudiness is: 100 %', 'Wind Speed is: 1.41 mph')\n",
      "('#314 city is: sur', 'Temperature is: 83.95 Fahrenheit', 'Humidity is: 87 %', 'Cloudiness is: 36 %', 'Wind Speed is: 16.35 mph')\n",
      "('#315 city is: buta', 'Temperature is: 68 Fahrenheit', 'Humidity is: 98 %', 'Cloudiness is: 98 %', 'Wind Speed is: 0.98 mph')\n",
      "('#316 city is: sisimiut', 'Temperature is: 34.07 Fahrenheit', 'Humidity is: 91 %', 'Cloudiness is: 34 %', 'Wind Speed is: 15.3 mph')\n",
      "('#317 city is: tabou', 'Temperature is: 74.68 Fahrenheit', 'Humidity is: 90 %', 'Cloudiness is: 0 %', 'Wind Speed is: 11.34 mph')\n"
     ]
    },
    {
     "name": "stdout",
     "output_type": "stream",
     "text": [
      "('#318 city is: necochea', 'Temperature is: 49.23 Fahrenheit', 'Humidity is: 80 %', 'Cloudiness is: 100 %', 'Wind Speed is: 8.99 mph')\n",
      "('#319 city is: vila velha', 'Temperature is: 64.36 Fahrenheit', 'Humidity is: 59 %', 'Cloudiness is: 8 %', 'Wind Speed is: 12.82 mph')\n",
      "('#320 city is: cape town', 'Temperature is: 65.89 Fahrenheit', 'Humidity is: 71 %', 'Cloudiness is: 100 %', 'Wind Speed is: 22.48 mph')\n",
      "('#321 city is: georgetown', 'Temperature is: 73.27 Fahrenheit', 'Humidity is: 65 %', 'Cloudiness is: 19 %', 'Wind Speed is: 7.94 mph')\n",
      "('#322 city is: tsihombe', 'Temperature is: 60.48 Fahrenheit', 'Humidity is: 79 %', 'Cloudiness is: 78 %', 'Wind Speed is: 13.89 mph')\n",
      "('#323 city is: arraial do cabo', 'Temperature is: 47.21 Fahrenheit', 'Humidity is: 77 %', 'Cloudiness is: 100 %', 'Wind Speed is: 9.69 mph')\n",
      "('#324 city is: ushuaia', 'Temperature is: 19.51 Fahrenheit', 'Humidity is: 97 %', 'Cloudiness is: 95 %', 'Wind Speed is: 13.24 mph')\n",
      "('#325 city is: belmonte', 'Temperature is: 75.94 Fahrenheit', 'Humidity is: 79 %', 'Cloudiness is: 33 %', 'Wind Speed is: 23.76 mph')\n",
      "('#326 city is: bom jesus', 'Temperature is: 72.84 Fahrenheit', 'Humidity is: 54 %', 'Cloudiness is: 45 %', 'Wind Speed is: 7.52 mph')\n",
      "('#327 city is: souillac', 'Temperature is: 56.8 Fahrenheit', 'Humidity is: 77 %', 'Cloudiness is: 99 %', 'Wind Speed is: 29.8 mph')\n",
      "('#328 city is: jamestown', 'Temperature is: 58.75 Fahrenheit', 'Humidity is: 57 %', 'Cloudiness is: 79 %', 'Wind Speed is: 16.44 mph')\n",
      "('#329 city is: cape town', 'Temperature is: -22.34 Fahrenheit', 'Humidity is: 87 %', 'Cloudiness is: 12 %', 'Wind Speed is: 5.44 mph')\n",
      "('#330 city is: saint-paul', 'Temperature is: 72.34 Fahrenheit', 'Humidity is: 75 %', 'Cloudiness is: 73 %', 'Wind Speed is: 26.8 mph')\n",
      "('#331 city is: cayenne', 'Temperature is: 81.05 Fahrenheit', 'Humidity is: 81 %', 'Cloudiness is: 89 %', 'Wind Speed is: 17.81 mph')\n",
      "('#332 city is: cayenne', 'Temperature is: 81.05 Fahrenheit', 'Humidity is: 81 %', 'Cloudiness is: 89 %', 'Wind Speed is: 17.81 mph')\n",
      "('#333 city is: buta', 'Temperature is: 69.53 Fahrenheit', 'Humidity is: 97 %', 'Cloudiness is: 100 %', 'Wind Speed is: 1.43 mph')\n",
      "('#334 city is: uspenka', 'Temperature is: 53.73 Fahrenheit', 'Humidity is: 53 %', 'Cloudiness is: 77 %', 'Wind Speed is: 10.25 mph')\n",
      "('#335 city is: ercis', 'Temperature is: 59 Fahrenheit', 'Humidity is: 67 %', 'Cloudiness is: 20 %', 'Wind Speed is: 4.36 mph')\n",
      "('#336 city is: pangnirtung', 'Temperature is: 28.4 Fahrenheit', 'Humidity is: 100 %', 'Cloudiness is: 90 %', 'Wind Speed is: 12.75 mph')\n",
      "('#337 city is: kalaleh', 'Temperature is: 70.12 Fahrenheit', 'Humidity is: 25 %', 'Cloudiness is: 0 %', 'Wind Speed is: 3.2 mph')\n",
      "('#338 city is: carutapera', 'Temperature is: 80.44 Fahrenheit', 'Humidity is: 83 %', 'Cloudiness is: 26 %', 'Wind Speed is: 13.56 mph')\n",
      "('#339 city is: yefremov', 'Temperature is: 67.5 Fahrenheit', 'Humidity is: 83 %', 'Cloudiness is: 0 %', 'Wind Speed is: 4.97 mph')\n",
      "('#340 city is: hofn', 'Temperature is: 49.08 Fahrenheit', 'Humidity is: 70 %', 'Cloudiness is: 3 %', 'Wind Speed is: 3.58 mph')\n",
      "('#341 city is: trairi', 'Temperature is: 81.5 Fahrenheit', 'Humidity is: 79 %', 'Cloudiness is: 66 %', 'Wind Speed is: 13.22 mph')\n",
      "('#342 city is: marsa matruh', 'Temperature is: 72.27 Fahrenheit', 'Humidity is: 78 %', 'Cloudiness is: 0 %', 'Wind Speed is: 21.18 mph')\n",
      "('#343 city is: lisala', 'Temperature is: 69.89 Fahrenheit', 'Humidity is: 93 %', 'Cloudiness is: 100 %', 'Wind Speed is: 1.41 mph')\n",
      "('#344 city is: sur', 'Temperature is: 83.95 Fahrenheit', 'Humidity is: 87 %', 'Cloudiness is: 36 %', 'Wind Speed is: 16.35 mph')\n",
      "('#345 city is: buta', 'Temperature is: 68 Fahrenheit', 'Humidity is: 98 %', 'Cloudiness is: 98 %', 'Wind Speed is: 0.98 mph')\n",
      "('#346 city is: sisimiut', 'Temperature is: 34.07 Fahrenheit', 'Humidity is: 91 %', 'Cloudiness is: 34 %', 'Wind Speed is: 15.3 mph')\n",
      "('#347 city is: tabou', 'Temperature is: 74.68 Fahrenheit', 'Humidity is: 90 %', 'Cloudiness is: 0 %', 'Wind Speed is: 11.34 mph')\n",
      "('#348 city is: necochea', 'Temperature is: 49.23 Fahrenheit', 'Humidity is: 80 %', 'Cloudiness is: 100 %', 'Wind Speed is: 8.99 mph')\n",
      "('#349 city is: vila velha', 'Temperature is: 64.36 Fahrenheit', 'Humidity is: 59 %', 'Cloudiness is: 8 %', 'Wind Speed is: 12.82 mph')\n",
      "('#350 city is: cape town', 'Temperature is: 65.89 Fahrenheit', 'Humidity is: 71 %', 'Cloudiness is: 100 %', 'Wind Speed is: 22.48 mph')\n",
      "('#351 city is: georgetown', 'Temperature is: 73.27 Fahrenheit', 'Humidity is: 65 %', 'Cloudiness is: 19 %', 'Wind Speed is: 7.94 mph')\n",
      "('#352 city is: tsihombe', 'Temperature is: 60.48 Fahrenheit', 'Humidity is: 79 %', 'Cloudiness is: 78 %', 'Wind Speed is: 13.89 mph')\n",
      "('#353 city is: arraial do cabo', 'Temperature is: 47.21 Fahrenheit', 'Humidity is: 77 %', 'Cloudiness is: 100 %', 'Wind Speed is: 9.69 mph')\n",
      "('#354 city is: ushuaia', 'Temperature is: 19.51 Fahrenheit', 'Humidity is: 97 %', 'Cloudiness is: 95 %', 'Wind Speed is: 13.24 mph')\n",
      "('#355 city is: belmonte', 'Temperature is: 75.94 Fahrenheit', 'Humidity is: 79 %', 'Cloudiness is: 33 %', 'Wind Speed is: 23.76 mph')\n",
      "('#356 city is: bom jesus', 'Temperature is: 72.84 Fahrenheit', 'Humidity is: 54 %', 'Cloudiness is: 45 %', 'Wind Speed is: 7.52 mph')\n",
      "('#357 city is: souillac', 'Temperature is: 56.8 Fahrenheit', 'Humidity is: 77 %', 'Cloudiness is: 99 %', 'Wind Speed is: 29.8 mph')\n",
      "('#358 city is: jamestown', 'Temperature is: 58.75 Fahrenheit', 'Humidity is: 57 %', 'Cloudiness is: 79 %', 'Wind Speed is: 16.44 mph')\n",
      "('#359 city is: cape town', 'Temperature is: -22.34 Fahrenheit', 'Humidity is: 87 %', 'Cloudiness is: 12 %', 'Wind Speed is: 5.44 mph')\n",
      "('#360 city is: saint-paul', 'Temperature is: 72.34 Fahrenheit', 'Humidity is: 75 %', 'Cloudiness is: 73 %', 'Wind Speed is: 26.8 mph')\n",
      "('#361 city is: cayenne', 'Temperature is: 81.05 Fahrenheit', 'Humidity is: 81 %', 'Cloudiness is: 89 %', 'Wind Speed is: 17.81 mph')\n",
      "('#362 city is: cayenne', 'Temperature is: 81.05 Fahrenheit', 'Humidity is: 81 %', 'Cloudiness is: 89 %', 'Wind Speed is: 17.81 mph')\n",
      "('#363 city is: buta', 'Temperature is: 69.53 Fahrenheit', 'Humidity is: 97 %', 'Cloudiness is: 100 %', 'Wind Speed is: 1.43 mph')\n",
      "('#364 city is: uspenka', 'Temperature is: 53.73 Fahrenheit', 'Humidity is: 53 %', 'Cloudiness is: 77 %', 'Wind Speed is: 10.25 mph')\n",
      "('#365 city is: ercis', 'Temperature is: 59 Fahrenheit', 'Humidity is: 67 %', 'Cloudiness is: 20 %', 'Wind Speed is: 4.36 mph')\n",
      "('#366 city is: pangnirtung', 'Temperature is: 28.4 Fahrenheit', 'Humidity is: 100 %', 'Cloudiness is: 90 %', 'Wind Speed is: 12.75 mph')\n",
      "('#367 city is: kalaleh', 'Temperature is: 70.12 Fahrenheit', 'Humidity is: 25 %', 'Cloudiness is: 0 %', 'Wind Speed is: 3.2 mph')\n",
      "('#368 city is: carutapera', 'Temperature is: 80.44 Fahrenheit', 'Humidity is: 83 %', 'Cloudiness is: 26 %', 'Wind Speed is: 13.56 mph')\n",
      "('#369 city is: yefremov', 'Temperature is: 67.5 Fahrenheit', 'Humidity is: 83 %', 'Cloudiness is: 0 %', 'Wind Speed is: 4.97 mph')\n",
      "('#370 city is: hofn', 'Temperature is: 49.08 Fahrenheit', 'Humidity is: 70 %', 'Cloudiness is: 3 %', 'Wind Speed is: 3.58 mph')\n",
      "('#371 city is: trairi', 'Temperature is: 81.5 Fahrenheit', 'Humidity is: 79 %', 'Cloudiness is: 66 %', 'Wind Speed is: 13.22 mph')\n",
      "('#372 city is: marsa matruh', 'Temperature is: 72.27 Fahrenheit', 'Humidity is: 78 %', 'Cloudiness is: 0 %', 'Wind Speed is: 21.18 mph')\n",
      "('#373 city is: lisala', 'Temperature is: 69.89 Fahrenheit', 'Humidity is: 93 %', 'Cloudiness is: 100 %', 'Wind Speed is: 1.41 mph')\n",
      "('#374 city is: sur', 'Temperature is: 83.95 Fahrenheit', 'Humidity is: 87 %', 'Cloudiness is: 36 %', 'Wind Speed is: 16.35 mph')\n",
      "('#375 city is: buta', 'Temperature is: 68 Fahrenheit', 'Humidity is: 98 %', 'Cloudiness is: 98 %', 'Wind Speed is: 0.98 mph')\n",
      "('#376 city is: sisimiut', 'Temperature is: 34.07 Fahrenheit', 'Humidity is: 91 %', 'Cloudiness is: 34 %', 'Wind Speed is: 15.3 mph')\n",
      "('#377 city is: tabou', 'Temperature is: 74.68 Fahrenheit', 'Humidity is: 90 %', 'Cloudiness is: 0 %', 'Wind Speed is: 11.34 mph')\n",
      "('#378 city is: necochea', 'Temperature is: 49.23 Fahrenheit', 'Humidity is: 80 %', 'Cloudiness is: 100 %', 'Wind Speed is: 8.99 mph')\n",
      "('#379 city is: vila velha', 'Temperature is: 64.36 Fahrenheit', 'Humidity is: 59 %', 'Cloudiness is: 8 %', 'Wind Speed is: 12.82 mph')\n",
      "('#380 city is: cape town', 'Temperature is: 65.89 Fahrenheit', 'Humidity is: 71 %', 'Cloudiness is: 100 %', 'Wind Speed is: 22.48 mph')\n",
      "('#381 city is: georgetown', 'Temperature is: 73.27 Fahrenheit', 'Humidity is: 65 %', 'Cloudiness is: 19 %', 'Wind Speed is: 7.94 mph')\n"
     ]
    },
    {
     "name": "stdout",
     "output_type": "stream",
     "text": [
      "('#382 city is: tsihombe', 'Temperature is: 60.48 Fahrenheit', 'Humidity is: 79 %', 'Cloudiness is: 78 %', 'Wind Speed is: 13.89 mph')\n",
      "('#383 city is: arraial do cabo', 'Temperature is: 47.21 Fahrenheit', 'Humidity is: 77 %', 'Cloudiness is: 100 %', 'Wind Speed is: 9.69 mph')\n",
      "('#384 city is: ushuaia', 'Temperature is: 19.51 Fahrenheit', 'Humidity is: 97 %', 'Cloudiness is: 95 %', 'Wind Speed is: 13.24 mph')\n",
      "('#385 city is: belmonte', 'Temperature is: 75.94 Fahrenheit', 'Humidity is: 79 %', 'Cloudiness is: 33 %', 'Wind Speed is: 23.76 mph')\n",
      "('#386 city is: bom jesus', 'Temperature is: 72.84 Fahrenheit', 'Humidity is: 54 %', 'Cloudiness is: 45 %', 'Wind Speed is: 7.52 mph')\n",
      "('#387 city is: souillac', 'Temperature is: 56.8 Fahrenheit', 'Humidity is: 77 %', 'Cloudiness is: 99 %', 'Wind Speed is: 29.8 mph')\n",
      "('#388 city is: jamestown', 'Temperature is: 58.75 Fahrenheit', 'Humidity is: 57 %', 'Cloudiness is: 79 %', 'Wind Speed is: 16.44 mph')\n",
      "('#389 city is: cape town', 'Temperature is: -22.34 Fahrenheit', 'Humidity is: 87 %', 'Cloudiness is: 12 %', 'Wind Speed is: 5.44 mph')\n",
      "('#390 city is: saint-paul', 'Temperature is: 72.34 Fahrenheit', 'Humidity is: 75 %', 'Cloudiness is: 73 %', 'Wind Speed is: 26.8 mph')\n",
      "('#391 city is: cayenne', 'Temperature is: 81.05 Fahrenheit', 'Humidity is: 81 %', 'Cloudiness is: 89 %', 'Wind Speed is: 17.81 mph')\n",
      "('#392 city is: cayenne', 'Temperature is: 81.05 Fahrenheit', 'Humidity is: 81 %', 'Cloudiness is: 89 %', 'Wind Speed is: 17.81 mph')\n",
      "('#393 city is: buta', 'Temperature is: 69.53 Fahrenheit', 'Humidity is: 97 %', 'Cloudiness is: 100 %', 'Wind Speed is: 1.43 mph')\n",
      "('#394 city is: uspenka', 'Temperature is: 53.73 Fahrenheit', 'Humidity is: 53 %', 'Cloudiness is: 77 %', 'Wind Speed is: 10.25 mph')\n",
      "('#395 city is: ercis', 'Temperature is: 59 Fahrenheit', 'Humidity is: 67 %', 'Cloudiness is: 20 %', 'Wind Speed is: 4.36 mph')\n",
      "('#396 city is: pangnirtung', 'Temperature is: 28.4 Fahrenheit', 'Humidity is: 100 %', 'Cloudiness is: 90 %', 'Wind Speed is: 12.75 mph')\n",
      "('#397 city is: kalaleh', 'Temperature is: 70.12 Fahrenheit', 'Humidity is: 25 %', 'Cloudiness is: 0 %', 'Wind Speed is: 3.2 mph')\n",
      "('#398 city is: carutapera', 'Temperature is: 80.44 Fahrenheit', 'Humidity is: 83 %', 'Cloudiness is: 26 %', 'Wind Speed is: 13.56 mph')\n",
      "('#399 city is: yefremov', 'Temperature is: 67.5 Fahrenheit', 'Humidity is: 83 %', 'Cloudiness is: 0 %', 'Wind Speed is: 4.97 mph')\n",
      "('#400 city is: hofn', 'Temperature is: 49.08 Fahrenheit', 'Humidity is: 70 %', 'Cloudiness is: 3 %', 'Wind Speed is: 3.58 mph')\n",
      "('#401 city is: trairi', 'Temperature is: 81.5 Fahrenheit', 'Humidity is: 79 %', 'Cloudiness is: 66 %', 'Wind Speed is: 13.22 mph')\n",
      "('#402 city is: marsa matruh', 'Temperature is: 72.27 Fahrenheit', 'Humidity is: 78 %', 'Cloudiness is: 0 %', 'Wind Speed is: 21.18 mph')\n",
      "('#403 city is: lisala', 'Temperature is: 69.89 Fahrenheit', 'Humidity is: 93 %', 'Cloudiness is: 100 %', 'Wind Speed is: 1.41 mph')\n",
      "('#404 city is: sur', 'Temperature is: 83.95 Fahrenheit', 'Humidity is: 87 %', 'Cloudiness is: 36 %', 'Wind Speed is: 16.35 mph')\n",
      "('#405 city is: buta', 'Temperature is: 68 Fahrenheit', 'Humidity is: 98 %', 'Cloudiness is: 98 %', 'Wind Speed is: 0.98 mph')\n",
      "('#406 city is: sisimiut', 'Temperature is: 34.07 Fahrenheit', 'Humidity is: 91 %', 'Cloudiness is: 34 %', 'Wind Speed is: 15.3 mph')\n",
      "('#407 city is: tabou', 'Temperature is: 74.68 Fahrenheit', 'Humidity is: 90 %', 'Cloudiness is: 0 %', 'Wind Speed is: 11.34 mph')\n",
      "('#408 city is: necochea', 'Temperature is: 49.23 Fahrenheit', 'Humidity is: 80 %', 'Cloudiness is: 100 %', 'Wind Speed is: 8.99 mph')\n",
      "('#409 city is: vila velha', 'Temperature is: 64.36 Fahrenheit', 'Humidity is: 59 %', 'Cloudiness is: 8 %', 'Wind Speed is: 12.82 mph')\n",
      "('#410 city is: cape town', 'Temperature is: 65.89 Fahrenheit', 'Humidity is: 71 %', 'Cloudiness is: 100 %', 'Wind Speed is: 22.48 mph')\n",
      "('#411 city is: georgetown', 'Temperature is: 73.27 Fahrenheit', 'Humidity is: 65 %', 'Cloudiness is: 19 %', 'Wind Speed is: 7.94 mph')\n",
      "('#412 city is: tsihombe', 'Temperature is: 60.48 Fahrenheit', 'Humidity is: 79 %', 'Cloudiness is: 78 %', 'Wind Speed is: 13.89 mph')\n",
      "('#413 city is: arraial do cabo', 'Temperature is: 47.21 Fahrenheit', 'Humidity is: 77 %', 'Cloudiness is: 100 %', 'Wind Speed is: 9.69 mph')\n",
      "('#414 city is: ushuaia', 'Temperature is: 19.51 Fahrenheit', 'Humidity is: 97 %', 'Cloudiness is: 95 %', 'Wind Speed is: 13.24 mph')\n",
      "('#415 city is: belmonte', 'Temperature is: 75.94 Fahrenheit', 'Humidity is: 79 %', 'Cloudiness is: 33 %', 'Wind Speed is: 23.76 mph')\n",
      "('#416 city is: bom jesus', 'Temperature is: 72.84 Fahrenheit', 'Humidity is: 54 %', 'Cloudiness is: 45 %', 'Wind Speed is: 7.52 mph')\n",
      "('#417 city is: souillac', 'Temperature is: 56.8 Fahrenheit', 'Humidity is: 77 %', 'Cloudiness is: 99 %', 'Wind Speed is: 29.8 mph')\n",
      "('#418 city is: jamestown', 'Temperature is: 58.75 Fahrenheit', 'Humidity is: 57 %', 'Cloudiness is: 79 %', 'Wind Speed is: 16.44 mph')\n",
      "('#419 city is: cape town', 'Temperature is: -22.34 Fahrenheit', 'Humidity is: 87 %', 'Cloudiness is: 12 %', 'Wind Speed is: 5.44 mph')\n",
      "('#420 city is: saint-paul', 'Temperature is: 72.34 Fahrenheit', 'Humidity is: 75 %', 'Cloudiness is: 73 %', 'Wind Speed is: 26.8 mph')\n",
      "('#421 city is: cayenne', 'Temperature is: 81.05 Fahrenheit', 'Humidity is: 81 %', 'Cloudiness is: 89 %', 'Wind Speed is: 17.81 mph')\n",
      "('#422 city is: cayenne', 'Temperature is: 81.05 Fahrenheit', 'Humidity is: 81 %', 'Cloudiness is: 89 %', 'Wind Speed is: 17.81 mph')\n",
      "('#423 city is: buta', 'Temperature is: 69.53 Fahrenheit', 'Humidity is: 97 %', 'Cloudiness is: 100 %', 'Wind Speed is: 1.43 mph')\n",
      "('#424 city is: uspenka', 'Temperature is: 53.73 Fahrenheit', 'Humidity is: 53 %', 'Cloudiness is: 77 %', 'Wind Speed is: 10.25 mph')\n",
      "('#425 city is: ercis', 'Temperature is: 59 Fahrenheit', 'Humidity is: 67 %', 'Cloudiness is: 20 %', 'Wind Speed is: 4.36 mph')\n",
      "('#426 city is: pangnirtung', 'Temperature is: 28.4 Fahrenheit', 'Humidity is: 100 %', 'Cloudiness is: 90 %', 'Wind Speed is: 12.75 mph')\n",
      "('#427 city is: kalaleh', 'Temperature is: 70.12 Fahrenheit', 'Humidity is: 25 %', 'Cloudiness is: 0 %', 'Wind Speed is: 3.2 mph')\n",
      "('#428 city is: carutapera', 'Temperature is: 80.44 Fahrenheit', 'Humidity is: 83 %', 'Cloudiness is: 26 %', 'Wind Speed is: 13.56 mph')\n",
      "('#429 city is: yefremov', 'Temperature is: 67.5 Fahrenheit', 'Humidity is: 83 %', 'Cloudiness is: 0 %', 'Wind Speed is: 4.97 mph')\n",
      "('#430 city is: hofn', 'Temperature is: 49.08 Fahrenheit', 'Humidity is: 70 %', 'Cloudiness is: 3 %', 'Wind Speed is: 3.58 mph')\n",
      "('#431 city is: trairi', 'Temperature is: 81.5 Fahrenheit', 'Humidity is: 79 %', 'Cloudiness is: 66 %', 'Wind Speed is: 13.22 mph')\n",
      "('#432 city is: marsa matruh', 'Temperature is: 72.27 Fahrenheit', 'Humidity is: 78 %', 'Cloudiness is: 0 %', 'Wind Speed is: 21.18 mph')\n",
      "('#433 city is: lisala', 'Temperature is: 69.89 Fahrenheit', 'Humidity is: 93 %', 'Cloudiness is: 100 %', 'Wind Speed is: 1.41 mph')\n",
      "('#434 city is: sur', 'Temperature is: 83.95 Fahrenheit', 'Humidity is: 87 %', 'Cloudiness is: 36 %', 'Wind Speed is: 16.35 mph')\n",
      "('#435 city is: buta', 'Temperature is: 68 Fahrenheit', 'Humidity is: 98 %', 'Cloudiness is: 98 %', 'Wind Speed is: 0.98 mph')\n",
      "('#436 city is: sisimiut', 'Temperature is: 34.07 Fahrenheit', 'Humidity is: 91 %', 'Cloudiness is: 34 %', 'Wind Speed is: 15.3 mph')\n",
      "('#437 city is: tabou', 'Temperature is: 74.68 Fahrenheit', 'Humidity is: 90 %', 'Cloudiness is: 0 %', 'Wind Speed is: 11.34 mph')\n",
      "('#438 city is: necochea', 'Temperature is: 49.23 Fahrenheit', 'Humidity is: 80 %', 'Cloudiness is: 100 %', 'Wind Speed is: 8.99 mph')\n",
      "('#439 city is: vila velha', 'Temperature is: 64.36 Fahrenheit', 'Humidity is: 59 %', 'Cloudiness is: 8 %', 'Wind Speed is: 12.82 mph')\n",
      "('#440 city is: cape town', 'Temperature is: 65.89 Fahrenheit', 'Humidity is: 71 %', 'Cloudiness is: 100 %', 'Wind Speed is: 22.48 mph')\n",
      "('#441 city is: georgetown', 'Temperature is: 73.27 Fahrenheit', 'Humidity is: 65 %', 'Cloudiness is: 19 %', 'Wind Speed is: 7.94 mph')\n",
      "('#442 city is: tsihombe', 'Temperature is: 60.48 Fahrenheit', 'Humidity is: 79 %', 'Cloudiness is: 78 %', 'Wind Speed is: 13.89 mph')\n",
      "('#443 city is: arraial do cabo', 'Temperature is: 47.21 Fahrenheit', 'Humidity is: 77 %', 'Cloudiness is: 100 %', 'Wind Speed is: 9.69 mph')\n",
      "('#444 city is: ushuaia', 'Temperature is: 19.51 Fahrenheit', 'Humidity is: 97 %', 'Cloudiness is: 95 %', 'Wind Speed is: 13.24 mph')\n",
      "('#445 city is: belmonte', 'Temperature is: 75.94 Fahrenheit', 'Humidity is: 79 %', 'Cloudiness is: 33 %', 'Wind Speed is: 23.76 mph')\n"
     ]
    },
    {
     "name": "stdout",
     "output_type": "stream",
     "text": [
      "('#446 city is: bom jesus', 'Temperature is: 72.84 Fahrenheit', 'Humidity is: 54 %', 'Cloudiness is: 45 %', 'Wind Speed is: 7.52 mph')\n",
      "('#447 city is: souillac', 'Temperature is: 56.8 Fahrenheit', 'Humidity is: 77 %', 'Cloudiness is: 99 %', 'Wind Speed is: 29.8 mph')\n",
      "('#448 city is: jamestown', 'Temperature is: 58.75 Fahrenheit', 'Humidity is: 57 %', 'Cloudiness is: 79 %', 'Wind Speed is: 16.44 mph')\n",
      "('#449 city is: cape town', 'Temperature is: -22.34 Fahrenheit', 'Humidity is: 87 %', 'Cloudiness is: 12 %', 'Wind Speed is: 5.44 mph')\n",
      "('#450 city is: saint-paul', 'Temperature is: 72.34 Fahrenheit', 'Humidity is: 75 %', 'Cloudiness is: 73 %', 'Wind Speed is: 26.8 mph')\n",
      "('#451 city is: cayenne', 'Temperature is: 81.05 Fahrenheit', 'Humidity is: 81 %', 'Cloudiness is: 89 %', 'Wind Speed is: 17.81 mph')\n",
      "('#452 city is: cayenne', 'Temperature is: 81.05 Fahrenheit', 'Humidity is: 81 %', 'Cloudiness is: 89 %', 'Wind Speed is: 17.81 mph')\n",
      "('#453 city is: buta', 'Temperature is: 69.53 Fahrenheit', 'Humidity is: 97 %', 'Cloudiness is: 100 %', 'Wind Speed is: 1.43 mph')\n",
      "('#454 city is: uspenka', 'Temperature is: 53.73 Fahrenheit', 'Humidity is: 53 %', 'Cloudiness is: 77 %', 'Wind Speed is: 10.25 mph')\n",
      "('#455 city is: ercis', 'Temperature is: 59 Fahrenheit', 'Humidity is: 67 %', 'Cloudiness is: 20 %', 'Wind Speed is: 4.36 mph')\n",
      "('#456 city is: pangnirtung', 'Temperature is: 28.4 Fahrenheit', 'Humidity is: 100 %', 'Cloudiness is: 90 %', 'Wind Speed is: 12.75 mph')\n",
      "('#457 city is: kalaleh', 'Temperature is: 70.12 Fahrenheit', 'Humidity is: 25 %', 'Cloudiness is: 0 %', 'Wind Speed is: 3.2 mph')\n",
      "('#458 city is: carutapera', 'Temperature is: 80.44 Fahrenheit', 'Humidity is: 83 %', 'Cloudiness is: 26 %', 'Wind Speed is: 13.56 mph')\n",
      "('#459 city is: yefremov', 'Temperature is: 67.5 Fahrenheit', 'Humidity is: 83 %', 'Cloudiness is: 0 %', 'Wind Speed is: 4.97 mph')\n",
      "('#460 city is: hofn', 'Temperature is: 49.08 Fahrenheit', 'Humidity is: 70 %', 'Cloudiness is: 3 %', 'Wind Speed is: 3.58 mph')\n",
      "('#461 city is: trairi', 'Temperature is: 81.5 Fahrenheit', 'Humidity is: 79 %', 'Cloudiness is: 66 %', 'Wind Speed is: 13.22 mph')\n",
      "('#462 city is: marsa matruh', 'Temperature is: 72.27 Fahrenheit', 'Humidity is: 78 %', 'Cloudiness is: 0 %', 'Wind Speed is: 21.18 mph')\n",
      "('#463 city is: lisala', 'Temperature is: 69.89 Fahrenheit', 'Humidity is: 93 %', 'Cloudiness is: 100 %', 'Wind Speed is: 1.41 mph')\n",
      "('#464 city is: sur', 'Temperature is: 83.95 Fahrenheit', 'Humidity is: 87 %', 'Cloudiness is: 36 %', 'Wind Speed is: 16.35 mph')\n",
      "('#465 city is: buta', 'Temperature is: 68 Fahrenheit', 'Humidity is: 98 %', 'Cloudiness is: 98 %', 'Wind Speed is: 0.98 mph')\n",
      "('#466 city is: sisimiut', 'Temperature is: 34.07 Fahrenheit', 'Humidity is: 91 %', 'Cloudiness is: 34 %', 'Wind Speed is: 15.3 mph')\n",
      "('#467 city is: tabou', 'Temperature is: 74.68 Fahrenheit', 'Humidity is: 90 %', 'Cloudiness is: 0 %', 'Wind Speed is: 11.34 mph')\n",
      "('#468 city is: necochea', 'Temperature is: 49.23 Fahrenheit', 'Humidity is: 80 %', 'Cloudiness is: 100 %', 'Wind Speed is: 8.99 mph')\n",
      "('#469 city is: vila velha', 'Temperature is: 64.36 Fahrenheit', 'Humidity is: 59 %', 'Cloudiness is: 8 %', 'Wind Speed is: 12.82 mph')\n",
      "('#470 city is: cape town', 'Temperature is: 65.89 Fahrenheit', 'Humidity is: 71 %', 'Cloudiness is: 100 %', 'Wind Speed is: 22.48 mph')\n",
      "('#471 city is: georgetown', 'Temperature is: 73.27 Fahrenheit', 'Humidity is: 65 %', 'Cloudiness is: 19 %', 'Wind Speed is: 7.94 mph')\n",
      "('#472 city is: tsihombe', 'Temperature is: 60.48 Fahrenheit', 'Humidity is: 79 %', 'Cloudiness is: 78 %', 'Wind Speed is: 13.89 mph')\n",
      "('#473 city is: arraial do cabo', 'Temperature is: 47.21 Fahrenheit', 'Humidity is: 77 %', 'Cloudiness is: 100 %', 'Wind Speed is: 9.69 mph')\n",
      "('#474 city is: ushuaia', 'Temperature is: 19.51 Fahrenheit', 'Humidity is: 97 %', 'Cloudiness is: 95 %', 'Wind Speed is: 13.24 mph')\n",
      "('#475 city is: belmonte', 'Temperature is: 75.94 Fahrenheit', 'Humidity is: 79 %', 'Cloudiness is: 33 %', 'Wind Speed is: 23.76 mph')\n",
      "('#476 city is: bom jesus', 'Temperature is: 72.84 Fahrenheit', 'Humidity is: 54 %', 'Cloudiness is: 45 %', 'Wind Speed is: 7.52 mph')\n",
      "('#477 city is: souillac', 'Temperature is: 56.8 Fahrenheit', 'Humidity is: 77 %', 'Cloudiness is: 99 %', 'Wind Speed is: 29.8 mph')\n",
      "('#478 city is: jamestown', 'Temperature is: 58.75 Fahrenheit', 'Humidity is: 57 %', 'Cloudiness is: 79 %', 'Wind Speed is: 16.44 mph')\n",
      "('#479 city is: cape town', 'Temperature is: -22.34 Fahrenheit', 'Humidity is: 87 %', 'Cloudiness is: 12 %', 'Wind Speed is: 5.44 mph')\n",
      "('#480 city is: saint-paul', 'Temperature is: 72.34 Fahrenheit', 'Humidity is: 75 %', 'Cloudiness is: 73 %', 'Wind Speed is: 26.8 mph')\n",
      "('#481 city is: cayenne', 'Temperature is: 81.05 Fahrenheit', 'Humidity is: 81 %', 'Cloudiness is: 89 %', 'Wind Speed is: 17.81 mph')\n",
      "('#482 city is: cayenne', 'Temperature is: 81.05 Fahrenheit', 'Humidity is: 81 %', 'Cloudiness is: 89 %', 'Wind Speed is: 17.81 mph')\n",
      "('#483 city is: buta', 'Temperature is: 69.53 Fahrenheit', 'Humidity is: 97 %', 'Cloudiness is: 100 %', 'Wind Speed is: 1.43 mph')\n",
      "('#484 city is: uspenka', 'Temperature is: 53.73 Fahrenheit', 'Humidity is: 53 %', 'Cloudiness is: 77 %', 'Wind Speed is: 10.25 mph')\n",
      "('#485 city is: ercis', 'Temperature is: 59 Fahrenheit', 'Humidity is: 67 %', 'Cloudiness is: 20 %', 'Wind Speed is: 4.36 mph')\n",
      "('#486 city is: pangnirtung', 'Temperature is: 28.4 Fahrenheit', 'Humidity is: 100 %', 'Cloudiness is: 90 %', 'Wind Speed is: 12.75 mph')\n",
      "('#487 city is: kalaleh', 'Temperature is: 70.12 Fahrenheit', 'Humidity is: 25 %', 'Cloudiness is: 0 %', 'Wind Speed is: 3.2 mph')\n",
      "('#488 city is: carutapera', 'Temperature is: 80.44 Fahrenheit', 'Humidity is: 83 %', 'Cloudiness is: 26 %', 'Wind Speed is: 13.56 mph')\n",
      "('#489 city is: yefremov', 'Temperature is: 67.5 Fahrenheit', 'Humidity is: 83 %', 'Cloudiness is: 0 %', 'Wind Speed is: 4.97 mph')\n",
      "('#490 city is: hofn', 'Temperature is: 49.08 Fahrenheit', 'Humidity is: 70 %', 'Cloudiness is: 3 %', 'Wind Speed is: 3.58 mph')\n",
      "('#491 city is: trairi', 'Temperature is: 81.5 Fahrenheit', 'Humidity is: 79 %', 'Cloudiness is: 66 %', 'Wind Speed is: 13.22 mph')\n",
      "('#492 city is: marsa matruh', 'Temperature is: 72.27 Fahrenheit', 'Humidity is: 78 %', 'Cloudiness is: 0 %', 'Wind Speed is: 21.18 mph')\n",
      "('#493 city is: lisala', 'Temperature is: 69.89 Fahrenheit', 'Humidity is: 93 %', 'Cloudiness is: 100 %', 'Wind Speed is: 1.41 mph')\n",
      "('#494 city is: sur', 'Temperature is: 83.95 Fahrenheit', 'Humidity is: 87 %', 'Cloudiness is: 36 %', 'Wind Speed is: 16.35 mph')\n",
      "('#495 city is: buta', 'Temperature is: 68 Fahrenheit', 'Humidity is: 98 %', 'Cloudiness is: 98 %', 'Wind Speed is: 0.98 mph')\n",
      "('#496 city is: sisimiut', 'Temperature is: 34.07 Fahrenheit', 'Humidity is: 91 %', 'Cloudiness is: 34 %', 'Wind Speed is: 15.3 mph')\n",
      "('#497 city is: tabou', 'Temperature is: 74.68 Fahrenheit', 'Humidity is: 90 %', 'Cloudiness is: 0 %', 'Wind Speed is: 11.34 mph')\n",
      "('#498 city is: necochea', 'Temperature is: 49.23 Fahrenheit', 'Humidity is: 80 %', 'Cloudiness is: 100 %', 'Wind Speed is: 8.99 mph')\n",
      "('#499 city is: vila velha', 'Temperature is: 64.36 Fahrenheit', 'Humidity is: 59 %', 'Cloudiness is: 8 %', 'Wind Speed is: 12.82 mph')\n",
      "('#500 city is: cape town', 'Temperature is: 65.89 Fahrenheit', 'Humidity is: 71 %', 'Cloudiness is: 100 %', 'Wind Speed is: 22.48 mph')\n",
      "('#501 city is: georgetown', 'Temperature is: 73.27 Fahrenheit', 'Humidity is: 65 %', 'Cloudiness is: 19 %', 'Wind Speed is: 7.94 mph')\n",
      "('#502 city is: tsihombe', 'Temperature is: 60.48 Fahrenheit', 'Humidity is: 79 %', 'Cloudiness is: 78 %', 'Wind Speed is: 13.89 mph')\n",
      "('#503 city is: arraial do cabo', 'Temperature is: 47.21 Fahrenheit', 'Humidity is: 77 %', 'Cloudiness is: 100 %', 'Wind Speed is: 9.69 mph')\n",
      "('#504 city is: ushuaia', 'Temperature is: 19.51 Fahrenheit', 'Humidity is: 97 %', 'Cloudiness is: 95 %', 'Wind Speed is: 13.24 mph')\n",
      "('#505 city is: belmonte', 'Temperature is: 75.94 Fahrenheit', 'Humidity is: 79 %', 'Cloudiness is: 33 %', 'Wind Speed is: 23.76 mph')\n",
      "('#506 city is: bom jesus', 'Temperature is: 72.84 Fahrenheit', 'Humidity is: 54 %', 'Cloudiness is: 45 %', 'Wind Speed is: 7.52 mph')\n",
      "('#507 city is: souillac', 'Temperature is: 56.8 Fahrenheit', 'Humidity is: 77 %', 'Cloudiness is: 99 %', 'Wind Speed is: 29.8 mph')\n"
     ]
    },
    {
     "name": "stdout",
     "output_type": "stream",
     "text": [
      "('#508 city is: jamestown', 'Temperature is: 58.75 Fahrenheit', 'Humidity is: 57 %', 'Cloudiness is: 79 %', 'Wind Speed is: 16.44 mph')\n",
      "('#509 city is: cape town', 'Temperature is: -22.34 Fahrenheit', 'Humidity is: 87 %', 'Cloudiness is: 12 %', 'Wind Speed is: 5.44 mph')\n",
      "('#510 city is: saint-paul', 'Temperature is: 72.34 Fahrenheit', 'Humidity is: 75 %', 'Cloudiness is: 73 %', 'Wind Speed is: 26.8 mph')\n"
     ]
    }
   ],
   "source": [
    "#Looping the request\n",
    "y = 0\n",
    "a=1\n",
    "#remember, set the last number in range() to limit how many request per pull.\n",
    "for h in range(0,wait_time):\n",
    "    for y in range(0,pull_number):\n",
    "\n",
    "        url_lat = \"http://api.openweathermap.org/data/2.5/weather?lat=\"+ str(lat[y]) + \"&lon=\" +str(lon[y]) + \"&appid=\"+api_key +\"&units=imperial\"\n",
    "        response = requests.get(url_lat)\n",
    "        weather = response.json()\n",
    "        temperature.append(weather[\"main\"][\"temp\"])\n",
    "        humidity.append(weather[\"main\"][\"humidity\"])\n",
    "        cloudiness.append(weather[\"clouds\"][\"all\"])\n",
    "        wind_speed.append(weather[\"wind\"][\"speed\"])\n",
    "        lat_temp.append(lat[y])\n",
    "        lon_temp.append(lon[y])\n",
    "        city = citipy.nearest_city(lat[y], lon[y])\n",
    "        city_name.append(city.city_name)\n",
    "        \n",
    "        printout = (\"#\"+str(a)+\" city is: \" +str(city_name[y]),\n",
    "                   \"Temperature is: \" +str(temperature[y]) + \" Fahrenheit\",\n",
    "                    \"Humidity is: \" +str(humidity[y]) +\" %\",\n",
    "                    \"Cloudiness is: \"+str(cloudiness[y]) +\" %\",\n",
    "                    \"Wind Speed is: \"+str(wind_speed[y])  +\" mph\"\n",
    "                   )\n",
    "        a=a+1\n",
    "        print(printout)\n",
    "    time.sleep(70)\n",
    "\n"
   ]
  },
  {
   "cell_type": "code",
   "execution_count": 53,
   "metadata": {},
   "outputs": [
    {
     "data": {
      "text/plain": [
       "[17.81, 17.81, 1.43, 10.25, 4.36]"
      ]
     },
     "execution_count": 53,
     "metadata": {},
     "output_type": "execute_result"
    }
   ],
   "source": [
    "wind_speed[0:5]"
   ]
  },
  {
   "cell_type": "code",
   "execution_count": 54,
   "metadata": {},
   "outputs": [
    {
     "data": {
      "text/html": [
       "<div>\n",
       "<style scoped>\n",
       "    .dataframe tbody tr th:only-of-type {\n",
       "        vertical-align: middle;\n",
       "    }\n",
       "\n",
       "    .dataframe tbody tr th {\n",
       "        vertical-align: top;\n",
       "    }\n",
       "\n",
       "    .dataframe thead th {\n",
       "        text-align: right;\n",
       "    }\n",
       "</style>\n",
       "<table border=\"1\" class=\"dataframe\">\n",
       "  <thead>\n",
       "    <tr style=\"text-align: right;\">\n",
       "      <th></th>\n",
       "      <th>City Name</th>\n",
       "      <th>Temperature (F)</th>\n",
       "      <th>Humidity %</th>\n",
       "      <th>CLoudiness %</th>\n",
       "      <th>Wind Speed (mph)</th>\n",
       "    </tr>\n",
       "  </thead>\n",
       "  <tbody>\n",
       "    <tr>\n",
       "      <td>0</td>\n",
       "      <td>cayenne</td>\n",
       "      <td>81.05</td>\n",
       "      <td>81</td>\n",
       "      <td>89</td>\n",
       "      <td>17.81</td>\n",
       "    </tr>\n",
       "    <tr>\n",
       "      <td>1</td>\n",
       "      <td>cayenne</td>\n",
       "      <td>81.05</td>\n",
       "      <td>81</td>\n",
       "      <td>89</td>\n",
       "      <td>17.81</td>\n",
       "    </tr>\n",
       "    <tr>\n",
       "      <td>2</td>\n",
       "      <td>buta</td>\n",
       "      <td>69.53</td>\n",
       "      <td>97</td>\n",
       "      <td>100</td>\n",
       "      <td>1.43</td>\n",
       "    </tr>\n",
       "    <tr>\n",
       "      <td>3</td>\n",
       "      <td>uspenka</td>\n",
       "      <td>53.73</td>\n",
       "      <td>53</td>\n",
       "      <td>77</td>\n",
       "      <td>10.25</td>\n",
       "    </tr>\n",
       "    <tr>\n",
       "      <td>4</td>\n",
       "      <td>ercis</td>\n",
       "      <td>59.00</td>\n",
       "      <td>67</td>\n",
       "      <td>20</td>\n",
       "      <td>4.36</td>\n",
       "    </tr>\n",
       "  </tbody>\n",
       "</table>\n",
       "</div>"
      ],
      "text/plain": [
       "  City Name  Temperature (F)  Humidity %  CLoudiness %  Wind Speed (mph)\n",
       "0   cayenne            81.05          81            89             17.81\n",
       "1   cayenne            81.05          81            89             17.81\n",
       "2      buta            69.53          97           100              1.43\n",
       "3   uspenka            53.73          53            77             10.25\n",
       "4     ercis            59.00          67            20              4.36"
      ]
     },
     "execution_count": 54,
     "metadata": {},
     "output_type": "execute_result"
    }
   ],
   "source": [
    "\n",
    "\n",
    "\n",
    "full_p = pd.DataFrame(list(zip( city_name, temperature, humidity, cloudiness, wind_speed )) , columns = [\"City Name\",\"Temperature (F)\", \"Humidity %\", \"CLoudiness %\", \"Wind Speed (mph)\"])\n",
    "\n",
    "path_csv = (r\"output/city_desc2.csv\")\n",
    "\n",
    "full_p.head()"
   ]
  },
  {
   "cell_type": "code",
   "execution_count": 55,
   "metadata": {},
   "outputs": [],
   "source": [
    "full_p.to_csv(path_csv)"
   ]
  },
  {
   "cell_type": "code",
   "execution_count": 29,
   "metadata": {},
   "outputs": [],
   "source": [
    "# fill this cell with writing output to CSV\n",
    "ind = np.arange(0,len(descriptions) )\n",
    "city_out = pd.DataFrame({\"City Prints\": descriptions,\n",
    "             \"Index\":ind}).set_index(\"Index\")\n",
    "out_path = (\"output/city_desc.csv\")\n",
    "city_out.to_csv(out_path)"
   ]
  },
  {
   "cell_type": "code",
   "execution_count": 30,
   "metadata": {},
   "outputs": [],
   "source": [
    "#cells above requires pull. Be wary of doing too many pulls!\n"
   ]
  },
  {
   "cell_type": "code",
   "execution_count": 31,
   "metadata": {},
   "outputs": [
    {
     "name": "stdout",
     "output_type": "stream",
     "text": [
      "This scatter plot is trying to find relationship between latitude to temperature (F)\n"
     ]
    },
    {
     "data": {
      "image/png": "[encoded data removed]",
      "text/plain": [
       "<Figure size 432x288 with 1 Axes>"
      ]
     },
     "metadata": {
      "needs_background": "light"
     },
     "output_type": "display_data"
    }
   ],
   "source": [
    "#Create Scatter Plot 1\n",
    "#Temperature (F) vs Latitude \n",
    "\n",
    "\n",
    "\n",
    "\n",
    "\n",
    "plt.scatter(x = lat_temp, y=temperature)\n",
    "plt.xlabel(\"Latitude\")\n",
    "plt.ylabel(\"Temperature (F)\")\n",
    "plt.title(\"Effect of Latitude to Temperature(F)\")\n",
    "plt.xlim(-70,70)\n",
    "plt.savefig(\"output/scatter1\")\n",
    "\n",
    "print(\"This scatter plot is trying to find relationship between latitude to temperature (F)\")"
   ]
  },
  {
   "cell_type": "code",
   "execution_count": 32,
   "metadata": {},
   "outputs": [
    {
     "name": "stdout",
     "output_type": "stream",
     "text": [
      "This scatter plot is trying to find relationship between latitude to humidity\n"
     ]
    },
    {
     "data": {
      "image/png": "[encoded data removed]",
      "text/plain": [
       "<Figure size 432x288 with 1 Axes>"
      ]
     },
     "metadata": {
      "needs_background": "light"
     },
     "output_type": "display_data"
    }
   ],
   "source": [
    "#Create Scatter Plot 2\n",
    "#Humidity (%) vs Latitude\n",
    "plt.scatter(x = lat_temp, y=humidity)\n",
    "plt.xlabel(\"Latitude\")\n",
    "plt.ylabel(\"Humidity (%)\")\n",
    "plt.title(\"Effect of Latitude to Humidity\")\n",
    "plt.xlim(-70,70)\n",
    "plt.savefig(\"output/scatter2\")\n",
    "print(\"This scatter plot is trying to find relationship between latitude to humidity\")"
   ]
  },
  {
   "cell_type": "code",
   "execution_count": 58,
   "metadata": {},
   "outputs": [
    {
     "name": "stdout",
     "output_type": "stream",
     "text": [
      "This scatter plot is trying to find relationship between latitude to cloudiness\n"
     ]
    },
    {
     "data": {
      "image/png": "[encoded data removed]",
      "text/plain": [
       "<Figure size 432x288 with 1 Axes>"
      ]
     },
     "metadata": {
      "needs_background": "light"
     },
     "output_type": "display_data"
    }
   ],
   "source": [
    "#Create Scatter Plot 3\n",
    "#Cloudiness (%) vs Latitude\n",
    "plt.scatter(x = lat_temp, y=cloudiness)\n",
    "plt.xlabel(\"Latitude\")\n",
    "plt.ylabel(\"Cloudiness (%)\")\n",
    "plt.title(\"Effect of Latitude to Cloudiness\")\n",
    "plt.xlim(-70,70)\n",
    "plt.savefig(\"output/scatter3\")\n",
    "print(\"This scatter plot is trying to find relationship between latitude to cloudiness\")"
   ]
  },
  {
   "cell_type": "code",
   "execution_count": 59,
   "metadata": {},
   "outputs": [
    {
     "name": "stdout",
     "output_type": "stream",
     "text": [
      "This scatter plot is trying to find relationship between latitude to wind speed\n"
     ]
    },
    {
     "data": {
      "image/png": "[encoded data removed]",
      "text/plain": [
       "<Figure size 432x288 with 1 Axes>"
      ]
     },
     "metadata": {
      "needs_background": "light"
     },
     "output_type": "display_data"
    }
   ],
   "source": [
    "#Create Scatter Plot 4\n",
    "#Wind Speed vs Latitude\n",
    "plt.scatter(x = lat_temp, y=wind_speed)\n",
    "plt.xlabel(\"Latitude\")\n",
    "plt.ylabel(\"Wind Speed (mph)\")\n",
    "plt.title(\"Effect of Latitude to Wind Speed\")\n",
    "plt.xlim(-70,70)\n",
    "plt.savefig(\"output/scatter4\")\n",
    "print(\"This scatter plot is trying to find relationship between latitude to wind speed\")"
   ]
  },
  {
   "cell_type": "code",
   "execution_count": 35,
   "metadata": {},
   "outputs": [],
   "source": [
    "#Automated\n",
    "#The values stored in n_values and s_values are temperature, humidity, cloud, and wind speed. In that order!\n",
    "explanation = [\"Temperature\", \"Humidity\",\"Cloudiness\",\"Wind Speed\"]\n",
    "\n",
    "n_values = []\n",
    "s_values = []\n",
    "\n",
    "#This is to make the latitude usable \n",
    "north_lat = np.asarray(north_lat)\n",
    "south_lat = np.asarray(south_lat)\n",
    "\n"
   ]
  },
  {
   "cell_type": "code",
   "execution_count": 36,
   "metadata": {},
   "outputs": [],
   "source": [
    "#The North Loop. Basically, we add list of list\n",
    "\n",
    "a=[]\n",
    "for j in range (0,half_number):\n",
    "    a.append(temperature[j] )\n",
    "n_values.append(a)\n",
    "\n",
    "a=[]\n",
    "for j in range (0,half_number):\n",
    "    a.append(humidity[j] )\n",
    "n_values.append(a)\n",
    "\n",
    "a=[]\n",
    "for j in range (0,half_number):\n",
    "    a.append(cloudiness[j] )\n",
    "n_values.append(a)\n",
    "\n",
    "a=[]\n",
    "for j in range (0,half_number):\n",
    "    a.append(wind_speed[j] )\n",
    "n_values.append(a)\n",
    "\n",
    "#for i in range (0, half_number):\n",
    "#    n_values.append(humidity[i] )\n",
    "   # n_values.append (cloudiness[i] )\n",
    "    #n_values.append (wind_speed[i])\n"
   ]
  },
  {
   "cell_type": "code",
   "execution_count": 37,
   "metadata": {},
   "outputs": [],
   "source": [
    "#The South Loop\n",
    "a=[]\n",
    "for j in range (half_number, pull_number):\n",
    "    a.append(temperature[j] )\n",
    "s_values.append(a)\n",
    "\n",
    "a=[]\n",
    "for j in range (half_number, pull_number):\n",
    "    a.append(humidity[j] )\n",
    "s_values.append(a)\n",
    "\n",
    "a=[]\n",
    "for j in range (half_number, pull_number):\n",
    "    a.append(cloudiness[j] )\n",
    "s_values.append(a)\n",
    "\n",
    "a=[]\n",
    "for j in range (half_number, pull_number):\n",
    "    a.append(wind_speed[j] )\n",
    "s_values.append(a)\n",
    "\n"
   ]
  },
  {
   "cell_type": "code",
   "execution_count": 38,
   "metadata": {},
   "outputs": [
    {
     "data": {
      "text/plain": [
       "[[81.05,\n",
       "  81.05,\n",
       "  69.53,\n",
       "  53.73,\n",
       "  59,\n",
       "  28.4,\n",
       "  70.12,\n",
       "  80.44,\n",
       "  67.5,\n",
       "  49.08,\n",
       "  81.5,\n",
       "  72.27,\n",
       "  69.89,\n",
       "  83.95,\n",
       "  68],\n",
       " [81, 81, 97, 53, 67, 100, 25, 83, 83, 70, 79, 78, 93, 87, 98],\n",
       " [89, 89, 100, 77, 20, 90, 0, 26, 0, 3, 66, 0, 100, 36, 98],\n",
       " [17.81,\n",
       "  17.81,\n",
       "  1.43,\n",
       "  10.25,\n",
       "  4.36,\n",
       "  12.75,\n",
       "  3.2,\n",
       "  13.56,\n",
       "  4.97,\n",
       "  3.58,\n",
       "  13.22,\n",
       "  21.18,\n",
       "  1.41,\n",
       "  16.35,\n",
       "  0.98]]"
      ]
     },
     "execution_count": 38,
     "metadata": {},
     "output_type": "execute_result"
    }
   ],
   "source": [
    "n_values"
   ]
  },
  {
   "cell_type": "code",
   "execution_count": 39,
   "metadata": {},
   "outputs": [],
   "source": [
    "#North Linregress Loop\n",
    "#again, in order the value is correlation between latitude and : temperature, humidity, cloudiness, wind speed \n",
    "\n",
    "slope_n=[]\n",
    "intercept_n =[]\n",
    "rvalue_n=[]\n",
    "pvalue_n=[]\n",
    "stderr_n=[]\n",
    "n_regress = []\n",
    "n_desc = []\n",
    "\n",
    "for i in range(0,len(n_values) ):\n",
    "    \n",
    "    slope_1, intercept_1, rvalue_1, pvalue_1, stderr_1 = st.linregress(north_lat, n_values[i])\n",
    "    slope_n.append(slope_1)\n",
    "    reg1 = intercept_1 + slope_1 * north_lat\n",
    "    desc1 = \"y =\" + str(round(intercept_1,3)) + \"+ \"+ str(round(slope_1,3)) + \"x\"\n",
    "    n_regress.append(reg1)\n",
    "    n_desc.append(desc1)\n"
   ]
  },
  {
   "cell_type": "code",
   "execution_count": 40,
   "metadata": {},
   "outputs": [
    {
     "data": {
      "text/plain": [
       "'y =71.643+ -0.128x'"
      ]
     },
     "execution_count": 40,
     "metadata": {},
     "output_type": "execute_result"
    }
   ],
   "source": [
    "n_desc[0]"
   ]
  },
  {
   "cell_type": "code",
   "execution_count": 60,
   "metadata": {},
   "outputs": [
    {
     "data": {
      "image/png": "[encoded data removed]",
      "text/plain": [
       "<Figure size 720x720 with 4 Axes>"
      ]
     },
     "metadata": {
      "needs_background": "light"
     },
     "output_type": "display_data"
    }
   ],
   "source": [
    "#automatically create subplots and regressions line\n",
    "\n",
    "fig_n, axs = plt.subplots(2 , 2 , figsize = (10,10))\n",
    "c=0\n",
    "\n",
    "for a in range(0,2):\n",
    "    for b in range(0, 2):\n",
    "        axs[a,b].scatter(north_lat,n_values[c])\n",
    "        axs[a,b].plot(north_lat,n_regress[c], color=\"red\")\n",
    "        axs[a,b].set_title(\"Relationship Between Latitude and \"+explanation[c])\n",
    "        axs[a,b].set_xlabel(\"Latitude\")\n",
    "        axs[a,b].set_ylabel(explanation[c])\n",
    "        c = c +1\n",
    "plt.savefig(\"output/scatter5\")"
   ]
  },
  {
   "cell_type": "code",
   "execution_count": 42,
   "metadata": {},
   "outputs": [],
   "source": [
    "#South Linregress Loop\n",
    "#again, in order the value is correlation between latitude and : temperature, humidity, cloudiness, wind speed \n",
    "\n",
    "slope_s=[]\n",
    "intercept_s =[]\n",
    "rvalue_s=[]\n",
    "pvalue_s=[]\n",
    "stderr_s=[]\n",
    "s_regress = []\n",
    "s_desc = []\n",
    "\n",
    "for i in range(0,len(n_values) ):\n",
    "    \n",
    "    slope_2, intercept_2, rvalue_2, pvalue_2, stderr_2 = st.linregress(south_lat, s_values[i])\n",
    "    slope_s.append(slope_2)\n",
    "    reg2 = intercept_2 + slope_2 * south_lat\n",
    "    desc2 = \"y =\" + str(round(intercept_1,3)) + \"+ \"+ str(round(slope_1,3)) + \"x\"\n",
    "    s_regress.append(reg2)\n",
    "    s_desc.append(desc2)"
   ]
  },
  {
   "cell_type": "code",
   "execution_count": 61,
   "metadata": {},
   "outputs": [
    {
     "data": {
      "image/png": "[encoded data removed]",
      "text/plain": [
       "<Figure size 720x720 with 4 Axes>"
      ]
     },
     "metadata": {
      "needs_background": "light"
     },
     "output_type": "display_data"
    }
   ],
   "source": [
    "#automatically create subplots and regressions line\n",
    "\n",
    "fig_s, axs2 = plt.subplots(2 , 2 , figsize = (10,10))\n",
    "c=0\n",
    "\n",
    "for a in range(0,2):\n",
    "    for b in range(0, 2):\n",
    "        axs2[a,b].scatter(south_lat,s_values[c])\n",
    "        axs2[a,b].plot(south_lat,s_regress[c], color=\"red\")\n",
    "        axs2[a,b].set_title(\"Relationship Between Latitude and \"+explanation[c])\n",
    "        axs2[a,b].set_xlabel(\"Latitude\")\n",
    "        axs2[a,b].set_ylabel(explanation[c])\n",
    "        c = c +1\n",
    "plt.savefig(\"output/scatter6\")"
   ]
  },
  {
   "cell_type": "code",
   "execution_count": 44,
   "metadata": {},
   "outputs": [],
   "source": [
    "#comments coming soon!"
   ]
  },
  {
   "cell_type": "code",
   "execution_count": null,
   "metadata": {},
   "outputs": [],
   "source": []
  },
  {
   "cell_type": "code",
   "execution_count": null,
   "metadata": {},
   "outputs": [],
   "source": []
  },
  {
   "cell_type": "code",
   "execution_count": null,
   "metadata": {},
   "outputs": [],
   "source": []
  },
  {
   "cell_type": "code",
   "execution_count": null,
   "metadata": {},
   "outputs": [],
   "source": []
  }
 ],
 "metadata": {
  "kernelspec": {
   "display_name": "Python 3",
   "language": "python",
   "name": "python3"
  },
  "language_info": {
   "codemirror_mode": {
    "name": "ipython",
    "version": 3
   },
   "file_extension": ".py",
   "mimetype": "text/x-python",
   "name": "python",
   "nbconvert_exporter": "python",
   "pygments_lexer": "ipython3",
   "version": "3.7.4"
  }
 },
 "nbformat": 4,
 "nbformat_minor": 2
}
