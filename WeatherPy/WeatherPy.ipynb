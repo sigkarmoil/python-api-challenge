{
 "cells": [
  {
   "cell_type": "code",
   "execution_count": 2,
   "metadata": {},
   "outputs": [],
   "source": [
    "import requests\n",
    "import json\n",
    "from citipy import citipy\n",
    "import random\n",
    "import matplotlib.pyplot as plt\n",
    "import pandas as pd\n",
    "import numpy as np\n",
    "import scipy.stats as st\n",
    "\n",
    "#for citipy documentations, see https://github.com/wingchen/citipy"
   ]
  },
  {
   "cell_type": "code",
   "execution_count": 3,
   "metadata": {},
   "outputs": [
    {
     "data": {
      "text/plain": [
       "15"
      ]
     },
     "execution_count": 3,
     "metadata": {},
     "output_type": "execute_result"
    }
   ],
   "source": [
    "#set how many pulls will be done. This is to make sure we are not overlimit\n",
    "\n",
    "pull_number = 30\n",
    "half_number = int(pull_number/2)\n",
    "\n",
    "half_number"
   ]
  },
  {
   "cell_type": "code",
   "execution_count": 4,
   "metadata": {},
   "outputs": [],
   "source": [
    "# Down the line, we are required to split between souther and northen hemisphere for regression\n",
    "# let's make it so first 50% of pull is for north, the rest of 50% is for south\n",
    "\n",
    "#Create random latt and longitude\n",
    "north_lat = []\n",
    "south_lat = []\n",
    "\n",
    "north_lon = []\n",
    "south_lon = []\n",
    "\n",
    "lat = []\n",
    "lon = []\n",
    "\n",
    "\n",
    "        "
   ]
  },
  {
   "cell_type": "code",
   "execution_count": 5,
   "metadata": {},
   "outputs": [],
   "source": [
    "for x in range(0 , half_number):\n",
    "        a = random.uniform(0,70.0)\n",
    "        b = random.uniform(-70.0,70.0)\n",
    "        north_lat.append(a)\n",
    "        north_lon.append(b)        \n",
    "        lat.append(a)\n",
    "        lon.append(b)\n",
    "for y in range(half_number, pull_number ):\n",
    "        a = random.uniform(-70.0,-0.1)\n",
    "        b = random.uniform(-70.0,70.0)\n",
    "        south_lat.append(a)\n",
    "        south_lon.append(b)        \n",
    "        lat.append(a)\n",
    "        lon.append(b) "
   ]
  },
  {
   "cell_type": "code",
   "execution_count": 6,
   "metadata": {},
   "outputs": [
    {
     "data": {
      "text/plain": [
       "[1.000148539420257,\n",
       " 20.61347278176747,\n",
       " 61.426164447221055,\n",
       " 63.77857961109895,\n",
       " 64.70457756612983,\n",
       " 19.958400107401378,\n",
       " 60.696927843508185,\n",
       " 60.05784128766299,\n",
       " 44.799545057589135,\n",
       " 3.4165250448508067,\n",
       " 47.42814049715737,\n",
       " 65.78785519778394,\n",
       " 41.37041349414153,\n",
       " 12.647032067393859,\n",
       " 1.6948995136247014,\n",
       " -37.303220147536464,\n",
       " -18.602236621001346,\n",
       " -54.91558168136727,\n",
       " -13.142397760045455,\n",
       " -45.7357313144478,\n",
       " -59.07527349639838,\n",
       " -55.80812657470695,\n",
       " -38.141186699269724,\n",
       " -56.41463216416476,\n",
       " -42.06168981239206,\n",
       " -55.564560947835574,\n",
       " -47.580669658432456,\n",
       " -54.23222726748458,\n",
       " -58.33301191267307,\n",
       " -2.634199898333165]"
      ]
     },
     "execution_count": 6,
     "metadata": {},
     "output_type": "execute_result"
    }
   ],
   "source": [
    "lat"
   ]
  },
  {
   "cell_type": "code",
   "execution_count": 7,
   "metadata": {
    "scrolled": false
   },
   "outputs": [],
   "source": [
    "#Create json pull request.\n",
    "\n",
    "url = \"http://api.openweathermap.org/data/2.5/forecast?id=524901&APPID=a3080dc4dc4f2b07d48f140771b213ff\"\n",
    "\n",
    "#Singular key trial\n",
    "temperature = []\n",
    "humidity = []\n",
    "cloudiness = []\n",
    "wind_speed = []\n",
    "city_name = []\n",
    "descriptions = []\n",
    "lat_temp = []\n",
    "lon_temp = []\n"
   ]
  },
  {
   "cell_type": "code",
   "execution_count": 8,
   "metadata": {},
   "outputs": [],
   "source": [
    "#Looping the request\n",
    "y = 0\n",
    "\n",
    "#remember, set the last number in range() to limit how many request per pull. \n",
    "for y in range(0,pull_number):\n",
    "    url_lat = \"http://api.openweathermap.org/data/2.5/weather?lat=\"+ str(lat[y]) + \"&lon=\" +str(lon[y]) + \"&appid=a3080dc4dc4f2b07d48f140771b213ff\"\n",
    "    response = requests.get(url_lat)\n",
    "    weather = response.json()\n",
    "    temperature.append(weather[\"main\"][\"temp\"])\n",
    "    humidity.append(weather[\"main\"][\"humidity\"])\n",
    "    cloudiness.append(weather[\"clouds\"][\"all\"])\n",
    "    wind_speed.append(weather[\"wind\"][\"speed\"])\n",
    "    lat_temp.append(lat[y])\n",
    "    lon_temp.append(lon[y])\n",
    "    city = citipy.nearest_city(lat[y], lon[y])\n",
    "    city_name.append(city.city_name)\n",
    "    printout = (\"City name is: \" +str(city_name[y]),\n",
    "               \"Temperature is: \" +str(temperature[y]) + \" Fahrenheit\",\n",
    "                \"Humidity is: \" +str(humidity[y]) +\" %\",\n",
    "                \"Cloudiness is: \"+str(cloudiness[y]) +\" %\",\n",
    "                \"Wind Speed is: \"+str(wind_speed[y])  +\" mph\"\n",
    "               )\n",
    "    descriptions.append(printout)\n",
    "    \n",
    "    \n"
   ]
  },
  {
   "cell_type": "code",
   "execution_count": 9,
   "metadata": {},
   "outputs": [],
   "source": [
    "# fill this cell with writing output to CSV\n",
    "ind = np.arange(0,len(descriptions) )\n",
    "city_out = pd.DataFrame({\"City Prints\": descriptions,\n",
    "             \"Index\":ind}).set_index(\"Index\")\n",
    "out_path = (\"output/city_desc.csv\")\n",
    "city_out.to_csv(out_path)"
   ]
  },
  {
   "cell_type": "code",
   "execution_count": 27,
   "metadata": {},
   "outputs": [],
   "source": [
    "#cells above requires pull. Be wary of doing too many pulls!\n"
   ]
  },
  {
   "cell_type": "code",
   "execution_count": 11,
   "metadata": {},
   "outputs": [
    {
     "name": "stdout",
     "output_type": "stream",
     "text": [
      "This scatter plot is trying to find relationship between latitude to temperature (F)\n"
     ]
    },
    {
     "data": {
      "image/png": "[encoded data removed]",
      "text/plain": [
       "<Figure size 432x288 with 1 Axes>"
      ]
     },
     "metadata": {
      "needs_background": "light"
     },
     "output_type": "display_data"
    }
   ],
   "source": [
    "#Create Scatter Plot 1\n",
    "#Temperature (F) vs Latitude \n",
    "\n",
    "\n",
    "\n",
    "\n",
    "\n",
    "plt.scatter(x = lat_temp, y=temperature)\n",
    "plt.xlabel(\"Latitude\")\n",
    "plt.ylabel(\"Temperature (F)\")\n",
    "plt.title(\"Effect of Latitude to Temperature(F)\")\n",
    "plt.xlim(-70,70)\n",
    "plt.savefig(\"output/scatter1\")\n",
    "\n",
    "print(\"This scatter plot is trying to find relationship between latitude to temperature (F)\")"
   ]
  },
  {
   "cell_type": "code",
   "execution_count": 12,
   "metadata": {},
   "outputs": [
    {
     "name": "stdout",
     "output_type": "stream",
     "text": [
      "This scatter plot is trying to find relationship between latitude to humidity\n"
     ]
    },
    {
     "data": {
      "image/png": "[encoded data removed]",
      "text/plain": [
       "<Figure size 432x288 with 1 Axes>"
      ]
     },
     "metadata": {
      "needs_background": "light"
     },
     "output_type": "display_data"
    }
   ],
   "source": [
    "#Create Scatter Plot 2\n",
    "#Humidity (%) vs Latitude\n",
    "plt.scatter(x = lat_temp, y=humidity)\n",
    "plt.xlabel(\"Latitude\")\n",
    "plt.ylabel(\"Humidity (%)\")\n",
    "plt.title(\"Effect of Latitude to Humidity\")\n",
    "plt.xlim(-70,70)\n",
    "plt.savefig(\"output/scatter2\")\n",
    "print(\"This scatter plot is trying to find relationship between latitude to humidity\")"
   ]
  },
  {
   "cell_type": "code",
   "execution_count": 13,
   "metadata": {},
   "outputs": [
    {
     "name": "stdout",
     "output_type": "stream",
     "text": [
      "This scatter plot is trying to find relationship between latitude to cloudiness\n"
     ]
    },
    {
     "data": {
      "image/png": "[encoded data removed]",
      "text/plain": [
       "<Figure size 432x288 with 1 Axes>"
      ]
     },
     "metadata": {
      "needs_background": "light"
     },
     "output_type": "display_data"
    }
   ],
   "source": [
    "#Create Scatter Plot 3\n",
    "#Cloudiness (%) vs Latitude\n",
    "plt.scatter(x = lat_temp, y=cloudiness)\n",
    "plt.xlabel(\"Latitude\")\n",
    "plt.ylabel(\"Cloudiness (%)\")\n",
    "plt.title(\"Effect of Latitude to Cloudiness\")\n",
    "plt.xlim(-70,70)\n",
    "plt.savefig(\"output/scatter3\")\n",
    "print(\"This scatter plot is trying to find relationship between latitude to cloudiness\")"
   ]
  },
  {
   "cell_type": "code",
   "execution_count": 14,
   "metadata": {},
   "outputs": [
    {
     "name": "stdout",
     "output_type": "stream",
     "text": [
      "This scatter plot is trying to find relationship between latitude to wind speed\n"
     ]
    },
    {
     "data": {
      "image/png": "[encoded data removed]",
      "text/plain": [
       "<Figure size 432x288 with 1 Axes>"
      ]
     },
     "metadata": {
      "needs_background": "light"
     },
     "output_type": "display_data"
    }
   ],
   "source": [
    "#Create Scatter Plot 4\n",
    "#Wind Speed vs Latitude\n",
    "plt.scatter(x = lat_temp, y=wind_speed)\n",
    "plt.xlabel(\"Latitude\")\n",
    "plt.ylabel(\"Wind Speed (mph)\")\n",
    "plt.title(\"Effect of Latitude to Wind Speed\")\n",
    "plt.xlim(-70,70)\n",
    "plt.savefig(\"output/scatter4\")\n",
    "print(\"This scatter plot is trying to find relationship between latitude to wind speed\")"
   ]
  },
  {
   "cell_type": "code",
   "execution_count": 105,
   "metadata": {},
   "outputs": [],
   "source": [
    "#Automated\n",
    "#The values stored in n_values and s_values are temperature, humidity, cloud, and wind speed. In that order!\n",
    "\n",
    "n_values = []\n",
    "s_values = []\n",
    "\n",
    "#This is to make the latitude usable \n",
    "north_lat = np.asarray(north_lat)\n",
    "south_lat = np.asarray(south_lat)"
   ]
  },
  {
   "cell_type": "code",
   "execution_count": 112,
   "metadata": {},
   "outputs": [],
   "source": [
    "#The North Loop. Basically, we add list of list\n",
    "\n",
    "a=[]\n",
    "for j in range (0,half_number):\n",
    "    a.append(temperature[j] )\n",
    "n_values.append(a)\n",
    "\n",
    "a=[]\n",
    "for j in range (0,half_number):\n",
    "    a.append(humidity[j] )\n",
    "n_values.append(a)\n",
    "\n",
    "a=[]\n",
    "for j in range (0,half_number):\n",
    "    a.append(cloudiness[j] )\n",
    "n_values.append(a)\n",
    "\n",
    "a=[]\n",
    "for j in range (0,half_number):\n",
    "    a.append(wind_speed[j] )\n",
    "n_values.append(a)\n",
    "\n",
    "#for i in range (0, half_number):\n",
    "#    n_values.append(humidity[i] )\n",
    "   # n_values.append (cloudiness[i] )\n",
    "    #n_values.append (wind_speed[i])\n"
   ]
  },
  {
   "cell_type": "code",
   "execution_count": 114,
   "metadata": {},
   "outputs": [],
   "source": [
    "#The South Loop\n",
    "a=[]\n",
    "for j in range (half_number, pull_number):\n",
    "    a.append(temperature[j] )\n",
    "s_values.append(a)\n",
    "\n",
    "a=[]\n",
    "for j in range (half_number, pull_number):\n",
    "    a.append(humidity[j] )\n",
    "s_values.append(a)\n",
    "\n",
    "a=[]\n",
    "for j in range (half_number, pull_number):\n",
    "    a.append(cloudiness[j] )\n",
    "s_values.append(a)\n",
    "\n",
    "a=[]\n",
    "for j in range (half_number, pull_number):\n",
    "    a.append(wind_speed[j] )\n",
    "s_values.append(a)\n",
    "\n"
   ]
  },
  {
   "cell_type": "code",
   "execution_count": null,
   "metadata": {},
   "outputs": [],
   "source": []
  },
  {
   "cell_type": "code",
   "execution_count": null,
   "metadata": {},
   "outputs": [],
   "source": []
  },
  {
   "cell_type": "code",
   "execution_count": 29,
   "metadata": {},
   "outputs": [],
   "source": [
    "#Receptacle for North and South\n",
    "n_temp = []\n",
    "s_temp = []\n",
    "n_hum = []\n",
    "s_hum = []\n",
    "n_cloud = []\n",
    "s_cloud = []\n",
    "n_wind = []\n",
    "s_wind = []\n",
    "\n",
    "\n"
   ]
  },
  {
   "cell_type": "code",
   "execution_count": 30,
   "metadata": {},
   "outputs": [
    {
     "data": {
      "text/plain": [
       "15"
      ]
     },
     "execution_count": 30,
     "metadata": {},
     "output_type": "execute_result"
    }
   ],
   "source": [
    "#  North and South\n",
    "\n",
    "for i in range (0, half_number):\n",
    "    n_temp.append(temperature[i] )\n",
    "    n_hum.append(humidity[i] )\n",
    "    n_cloud.append (cloudiness[i] )\n",
    "    n_wind.append (wind_speed[i])\n",
    "    \n",
    "for j in range (half_number, pull_number):\n",
    "    s_temp.append(temperature[j] )\n",
    "    s_hum.append(humidity[j] )\n",
    "    s_cloud.append (cloudiness[j] )\n",
    "    s_wind.append (wind_speed[j])\n",
    "\n",
    "len(n_temp)"
   ]
  },
  {
   "cell_type": "code",
   "execution_count": 31,
   "metadata": {},
   "outputs": [],
   "source": [
    "slope=[]\n",
    "intercept =[]\n",
    "rvalue=[]\n",
    "pvalue=[]\n",
    "stderr=[]\n"
   ]
  },
  {
   "cell_type": "code",
   "execution_count": 32,
   "metadata": {},
   "outputs": [],
   "source": [
    "#linear regression on north and south\n",
    "#linr_n_tem\n",
    "\n",
    "slope=[]\n",
    "intercept =[]\n",
    "rvalue=[]\n",
    "pvalue=[]\n",
    "stderr=[]\n",
    "\n",
    "#append.slope, append.intercept, append.rvalue, append.pvalue, append.stderr = st.linregress(north_lat, n_temp)\n",
    "slope1, intercept1, rvalue1, pvalue1, stderr1 = st.linregress(north_lat, n_temp)\n",
    "slope2, intercept2, rvalue2, pvalue2, stderr2 = st.linregress(south_lat, s_temp)\n",
    "\n",
    "slope3, intercept3, rvalue3, pvalue3, stderr3 = st.linregress(north_lat, n_hum)\n",
    "slope4, intercept4, rvalue4, pvalue4, stderr4 = st.linregress(south_lat, s_hum)\n",
    "\n",
    "slope5, intercept5, rvalue5, pvalue5, stderr5 = st.linregress(north_lat, n_cloud)\n",
    "slope6, intercept6, rvalue6, pvalue6, stderr6 = st.linregress(south_lat, s_cloud)\n",
    "\n",
    "slope7, intercept7, rvalue7, pvalue7, stderr7 = st.linregress(north_lat, n_wind)\n",
    "slope8, intercept8, rvalue8, pvalue8, stderr8 = st.linregress(south_lat, s_wind)\n"
   ]
  },
  {
   "cell_type": "code",
   "execution_count": 39,
   "metadata": {},
   "outputs": [],
   "source": []
  },
  {
   "cell_type": "code",
   "execution_count": 40,
   "metadata": {},
   "outputs": [],
   "source": [
    "#linear regression on so\n",
    "\n",
    "val1 = intercept1 + slope1 * north_lat\n",
    "val2 = intercept2 + slope2 * south_lat\n",
    "\n",
    "val3 = intercept3 + slope3 * north_lat\n",
    "val4 = intercept4 + slope4 * south_lat\n",
    "\n",
    "val5 = intercept5 + slope5 * north_lat\n",
    "val6 = intercept6 + slope6 * south_lat\n",
    "\n",
    "val7 = intercept7 + slope7 * north_lat\n",
    "val8 = intercept8 + slope8 * south_lat\n"
   ]
  },
  {
   "cell_type": "code",
   "execution_count": 55,
   "metadata": {},
   "outputs": [
    {
     "data": {
      "text/plain": [
       "Text(2.3835497261151435, 280.404, 'y =300.377+ -0.251x')"
      ]
     },
     "execution_count": 55,
     "metadata": {},
     "output_type": "execute_result"
    },
    {
     "data": {
      "image/png": "[encoded data removed]",
      "text/plain": [
       "<Figure size 432x288 with 1 Axes>"
      ]
     },
     "metadata": {
      "needs_background": "light"
     },
     "output_type": "display_data"
    }
   ],
   "source": [
    "#Scatter Plots and Regressions\n",
    "#Plot1\n",
    "\n",
    "plt.scatter(north_lat, n_temp)\n",
    "plt.plot(north_lat, val1, color = \"red\")\n",
    "plt.xlabel(\"Latitude\")\n",
    "plt.ylabel(\"Temperature (F)\")\n",
    "plt.title(\"Effect of Lattitude to Temperature (Northern Hemisphere)\")\n",
    "desc1 = \"y =\" + str(round(intercept1,3)) + \"+ \"+ str(round(slope1,3)) + \"x\"\n",
    "\n",
    "xcor = np.quantile(north_lat, 0.1)\n",
    "ycor=np.quantile(n_temp, 0.1)\n",
    "plt.annotate(desc1, (xcor, ycor),color = \"red\" )\n"
   ]
  },
  {
   "cell_type": "code",
   "execution_count": null,
   "metadata": {},
   "outputs": [],
   "source": [
    "#Scatter Plots and Regressions\n",
    "#Plot2\n",
    "\n",
    "plt.scatter(north_lat, n_temp)\n",
    "plt.plot(north_lat, val1, color = \"red\")\n",
    "plt.xlabel(\"Latitude\")\n",
    "plt.ylabel(\"Temperature (F)\")\n",
    "plt.title(\"Effect of Lattitude to Temperature (Northern Hemisphere)\")\n",
    "desc1 = \"y =\" + str(round(intercept1,3)) + \"+ \"+ str(round(slope1,3)) + \"x\"\n",
    "\n",
    "xcor = np.quantile(north_lat, 0.1)\n",
    "ycor=np.quantile(n_temp, 0.1)\n",
    "plt.annotate(desc1, (xcor, ycor),color = \"red\" )\n"
   ]
  }
 ],
 "metadata": {
  "kernelspec": {
   "display_name": "Python 3",
   "language": "python",
   "name": "python3"
  },
  "language_info": {
   "codemirror_mode": {
    "name": "ipython",
    "version": 3
   },
   "file_extension": ".py",
   "mimetype": "text/x-python",
   "name": "python",
   "nbconvert_exporter": "python",
   "pygments_lexer": "ipython3",
   "version": "3.7.4"
  }
 },
 "nbformat": 4,
 "nbformat_minor": 2
}
